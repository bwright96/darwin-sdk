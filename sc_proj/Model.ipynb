{
 "cells": [
  {
   "cell_type": "code",
   "execution_count": 1,
   "metadata": {},
   "outputs": [],
   "source": [
    "# Import necessary libraries\n",
    "import warnings\n",
    "warnings.filterwarnings(\"ignore\", message=\"numpy.dtype size changed\")\n",
    "%matplotlib inline\n",
    "import matplotlib.pyplot as plt\n",
    "import pandas as pd\n",
    "from IPython.display import Image\n",
    "from time import sleep\n",
    "import os\n",
    "import numpy as np\n",
    "from sklearn.metrics import classification_report\n",
    "\n",
    "from amb_sdk.sdk import DarwinSdk\n",
    "import datetime\n",
    "ts = '{:%Y%m%d%H%M%S}'.format(datetime.datetime.now())"
   ]
  },
  {
   "cell_type": "code",
   "execution_count": 2,
   "metadata": {
    "scrolled": true
   },
   "outputs": [
    {
     "name": "stdout",
     "output_type": "stream",
     "text": [
      "You are logged in!\n"
     ]
    }
   ],
   "source": [
    "# Login\n",
    "ds = DarwinSdk()\n",
    "ds.set_url('https://amb-demo-api.sparkcognition.com/v1/')\n",
    "status, msg = ds.auth_login_user('PRIYAPATEL0513@GMAIL.COM', '4uvRjWXe5b')\n",
    "\n",
    "if not status:\n",
    "    print(msg)\n",
    "else:\n",
    "    print('You are logged in!')"
   ]
  },
  {
   "cell_type": "code",
   "execution_count": 3,
   "metadata": {},
   "outputs": [],
   "source": [
    "def get_formatted_dataframe(xls_file, year):\n",
    "    df = pd.read_excel(xls_file)\n",
    "    df = df[['DZRATING', 'DZCAMPUS','DPETALLC','DA0AT' + str(year) + 'R', 'DA0912DR' + str(year) + 'R','DAGC4X' + str(year) + 'R','DAGC5X' + str(year - 1) + 'R','DA0GR' + str(year) + 'N','DA0CT' + str(year) + 'R','DA0CC' + str(year) + 'R','DA0CSA' + str(year) + 'R','DA0CAA' + str(year) + 'R','DPSTTOSA','DPSTEXPA','DPFRAALLT','DPFRAALLK','DPFRASTAP','DZRVLOCP','DPFRAFEDP','DPFEAINST','DPFEAINSK','DISTSIZE','COMMTYPE', 'PROPWLTH', 'TAXRATE']]\n",
    "    df = df.rename(index=str, columns = {\"DZRATING\":\"rating\", \"DZCAMPUS\":\"num_schools\", \"DPETALLC\":\"num_students\", \"DA0AT\" + str(year) + \"R\":\"attendance_rate\", \"DA0912DR\" + str(year) + \"R\":\"dropout_rate\", \"DAGC4X\" + str(year) + \"R\":\"grad_rate_4_year\", \"DAGC5X\" + str(year - 1) + \"R\":\"grad_rate_5_year\", \"DA0GR\" + str(year) + \"N\":\"annual_grad_count\", \"DA0CT\" + str(year) + \"R\":\"college_admissions_per_tested\", \"DA0CC\" + str(year) + \"R\":\"college_admissions_at_crit\", \"DA0CSA\" + str(year) + \"R\":\"average_sat\", \"DA0CAA\" + str(year) + \"R\":\"average_act\", \"DPSTTOSA\":\"average_teacher_salary\", \"DPSTEXPA\":\"average_teacher_exp\", \"DPFRAALLT\":\"total_revenue\", \"DPFRAALLK\":\"total_revenue_per_pupil\", \"DPFRASTAP\":\"percent_revenue_from_state\", \"DZRVLOCP\":\"percent_revenue_from_local\", \"DPFRAFEDP\":\"percent_revenue_from_federal\", \"DPFEAINST\":\"instr_expenditures\", \"DPFEAINSK\":\"instr_expenditures_per_pupil\", \"DISTSIZE\":\"district_size\", \"COMMTYPE\":\"community_type\", \"PROPWLTH\":\"property_wealth\", \"TAXRATE\":\"tax_rate\"})\n",
    "    return df"
   ]
  },
  {
   "cell_type": "code",
   "execution_count": 4,
   "metadata": {},
   "outputs": [
    {
     "name": "stdout",
     "output_type": "stream",
     "text": [
      "Test dataframe shape: (1203, 25)\n",
      "Train dataframe shape: (3653, 25)\n"
     ]
    }
   ],
   "source": [
    "test_df = get_formatted_dataframe('2016-2017.xls', 16)\n",
    "train_df = get_formatted_dataframe('2015-2016.xls',15)\n",
    "train_df = train_df.append(get_formatted_dataframe('2014-2015.xls',14))\n",
    "train_df = train_df.append(get_formatted_dataframe('2013-2014.xls',13))\n",
    "print('Test dataframe shape:', test_df.shape)\n",
    "print('Train dataframe shape:', train_df.shape)"
   ]
  },
  {
   "cell_type": "code",
   "execution_count": 5,
   "metadata": {},
   "outputs": [],
   "source": [
    "def clean_dataframe(df):\n",
    "    df = df.loc[(df['rating'] == \"Met Standard\") | (df['rating'] == \"Met Alternative Standard\") |(df['rating'] == \"Improvement Required\")]\n",
    "    features = list(df)[3:21]\n",
    "    for feature in features:\n",
    "        df = df.loc[(df[feature] != '.')]\n",
    "    df = df.dropna()\n",
    "    return df"
   ]
  },
  {
   "cell_type": "code",
   "execution_count": 6,
   "metadata": {},
   "outputs": [
    {
     "name": "stdout",
     "output_type": "stream",
     "text": [
      "After cleaning:\n",
      "Test dataframe shape: (908, 25)\n",
      "Train dataframe shape: (2749, 25)\n"
     ]
    }
   ],
   "source": [
    "# Cleaning the data\n",
    "train_df = clean_dataframe(train_df)\n",
    "test_df = clean_dataframe(test_df)\n",
    "print('After cleaning:')\n",
    "print('Test dataframe shape:', test_df.shape)\n",
    "print('Train dataframe shape:', train_df.shape)"
   ]
  },
  {
   "cell_type": "code",
   "execution_count": 7,
   "metadata": {},
   "outputs": [
    {
     "name": "stdout",
     "output_type": "stream",
     "text": [
      "Before oversampling:\n",
      "Met Standard                2589\n",
      "Improvement Required         107\n",
      "Met Alternative Standard      53\n",
      "Name: rating, dtype: int64\n",
      "\n",
      "After oversampling:\n",
      "Improvement Required        2589\n",
      "Met Alternative Standard    2589\n",
      "Met Standard                2589\n",
      "Name: rating, dtype: int64\n"
     ]
    }
   ],
   "source": [
    "# Dealing with class imbalance\n",
    "labels = list(train_df)[1:]\n",
    "\n",
    "print(\"Before oversampling:\")\n",
    "print(train_df['rating'].value_counts())\n",
    "print()\n",
    "\n",
    "from imblearn.over_sampling import SMOTENC\n",
    "ad = SMOTENC(categorical_features=[20, 21, 22, 23], random_state=None)\n",
    "train_df_y = train_df['rating']\n",
    "train_df_x = train_df.iloc[:,1:]\n",
    "x_res, y_res = ad.fit_sample(train_df_x, train_df_y)\n",
    "\n",
    "train_df = pd.DataFrame(data=x_res, columns=labels)\n",
    "train_df['rating'] = y_res\n",
    "\n",
    "print(\"After oversampling:\")\n",
    "print(train_df['rating'].value_counts())"
   ]
  },
  {
   "cell_type": "code",
   "execution_count": 8,
   "metadata": {},
   "outputs": [],
   "source": [
    "test_df.to_csv('test_data.csv')\n",
    "train_df.to_csv('train_data.csv')"
   ]
  },
  {
   "cell_type": "code",
   "execution_count": 9,
   "metadata": {},
   "outputs": [],
   "source": [
    "TRAIN_DATASET = 'train_data.csv'\n",
    "TEST_DATASET = 'test_data.csv'\n",
    "train_df = pd.read_csv('train_data.csv')\n",
    "test_df = pd.read_csv('test_data.csv')\n",
    "status, message = ds.delete_dataset(TRAIN_DATASET)\n",
    "status, dataset = ds.upload_dataset(TRAIN_DATASET)\n",
    "if not status:\n",
    "    print(dataset)\n",
    "status, message = ds.delete_dataset(TEST_DATASET)\n",
    "status, dataset = ds.upload_dataset(TEST_DATASET)\n",
    "if not status:\n",
    "    print(dataset)"
   ]
  },
  {
   "cell_type": "code",
   "execution_count": 10,
   "metadata": {},
   "outputs": [
    {
     "name": "stdout",
     "output_type": "stream",
     "text": [
      "{'status': 'Requested', 'starttime': '2019-04-22T19:57:57.565226', 'endtime': None, 'percent_complete': 0, 'job_type': 'CleanDataTiny', 'loss': None, 'generations': None, 'dataset_names': ['train_data.csv'], 'artifact_names': ['5b3fd892c9ac4550bcce87f67fddd867'], 'model_name': None, 'job_error': None}\n",
      "{'status': 'Complete', 'starttime': '2019-04-22T19:57:57.565226', 'endtime': '2019-04-22T19:58:02.070841', 'percent_complete': 100, 'job_type': 'CleanDataTiny', 'loss': None, 'generations': None, 'dataset_names': ['train_data.csv'], 'artifact_names': ['5b3fd892c9ac4550bcce87f67fddd867'], 'model_name': None, 'job_error': ''}\n"
     ]
    }
   ],
   "source": [
    "#clean train_Set\n",
    "target = \"rating\"\n",
    "status, job_id = ds.clean_data(TRAIN_DATASET, target = target)\n",
    "if status:\n",
    "    ds.wait_for_job(job_id['job_name'])\n",
    "else:\n",
    "    print(job_id)"
   ]
  },
  {
   "cell_type": "code",
   "execution_count": 11,
   "metadata": {
    "scrolled": true
   },
   "outputs": [
    {
     "name": "stdout",
     "output_type": "stream",
     "text": [
      "{'status': 'Requested', 'starttime': '2019-04-22T19:58:13.812041', 'endtime': None, 'percent_complete': 0, 'job_type': 'TrainModel', 'loss': None, 'generations': 0, 'dataset_names': ['train_data.csv'], 'artifact_names': None, 'model_name': 'rating_model0120190422195745', 'job_error': None}\n",
      "{'status': 'Running', 'starttime': '2019-04-22T19:58:13.812041', 'endtime': None, 'percent_complete': 7, 'job_type': 'TrainModel', 'loss': 0.5947907567024231, 'generations': 2, 'dataset_names': ['train_data.csv'], 'artifact_names': None, 'model_name': 'rating_model0120190422195745', 'job_error': ''}\n",
      "{'status': 'Running', 'starttime': '2019-04-22T19:58:13.812041', 'endtime': None, 'percent_complete': 7, 'job_type': 'TrainModel', 'loss': 0.5947907567024231, 'generations': 2, 'dataset_names': ['train_data.csv'], 'artifact_names': None, 'model_name': 'rating_model0120190422195745', 'job_error': ''}\n",
      "{'status': 'Running', 'starttime': '2019-04-22T19:58:13.812041', 'endtime': None, 'percent_complete': 7, 'job_type': 'TrainModel', 'loss': 0.5947907567024231, 'generations': 2, 'dataset_names': ['train_data.csv'], 'artifact_names': None, 'model_name': 'rating_model0120190422195745', 'job_error': ''}\n",
      "{'status': 'Running', 'starttime': '2019-04-22T19:58:13.812041', 'endtime': None, 'percent_complete': 7, 'job_type': 'TrainModel', 'loss': 0.5947907567024231, 'generations': 2, 'dataset_names': ['train_data.csv'], 'artifact_names': None, 'model_name': 'rating_model0120190422195745', 'job_error': ''}\n",
      "{'status': 'Running', 'starttime': '2019-04-22T19:58:13.812041', 'endtime': None, 'percent_complete': 7, 'job_type': 'TrainModel', 'loss': 0.5947907567024231, 'generations': 2, 'dataset_names': ['train_data.csv'], 'artifact_names': None, 'model_name': 'rating_model0120190422195745', 'job_error': ''}\n",
      "{'status': 'Running', 'starttime': '2019-04-22T19:58:13.812041', 'endtime': None, 'percent_complete': 7, 'job_type': 'TrainModel', 'loss': 0.5947907567024231, 'generations': 2, 'dataset_names': ['train_data.csv'], 'artifact_names': None, 'model_name': 'rating_model0120190422195745', 'job_error': ''}\n",
      "{'status': 'Running', 'starttime': '2019-04-22T19:58:13.812041', 'endtime': None, 'percent_complete': 7, 'job_type': 'TrainModel', 'loss': 0.5947907567024231, 'generations': 2, 'dataset_names': ['train_data.csv'], 'artifact_names': None, 'model_name': 'rating_model0120190422195745', 'job_error': ''}\n",
      "{'status': 'Running', 'starttime': '2019-04-22T19:58:13.812041', 'endtime': None, 'percent_complete': 7, 'job_type': 'TrainModel', 'loss': 0.5947907567024231, 'generations': 2, 'dataset_names': ['train_data.csv'], 'artifact_names': None, 'model_name': 'rating_model0120190422195745', 'job_error': ''}\n",
      "{'status': 'Complete', 'starttime': '2019-04-22T19:58:13.812041', 'endtime': '2019-04-22T20:00:19.951648', 'percent_complete': 100, 'job_type': 'TrainModel', 'loss': 0.5947907567024231, 'generations': 2, 'dataset_names': ['train_data.csv'], 'artifact_names': None, 'model_name': 'rating_model0120190422195745', 'job_error': ''}\n"
     ]
    }
   ],
   "source": [
    "model = target + \"_model01\" + ts\n",
    "status, job_id = ds.create_model(dataset_names = TRAIN_DATASET, \\\n",
    "                                 model_name =  model, \\\n",
    "                                 max_train_time = '00:02')\n",
    "if status:\n",
    "    ds.wait_for_job(job_id['job_name'])\n",
    "else:\n",
    "    print(job_id)"
   ]
  },
  {
   "cell_type": "code",
   "execution_count": 12,
   "metadata": {},
   "outputs": [
    {
     "name": "stdout",
     "output_type": "stream",
     "text": [
      "{'status': 'Running', 'starttime': '2019-04-22T20:00:30.549379', 'endtime': None, 'percent_complete': 0, 'job_type': 'AnalyzeModel', 'loss': 0.5947907567024231, 'generations': 2, 'dataset_names': None, 'artifact_names': ['0ce67e499e7d4f969c851c5b3a95a52c'], 'model_name': 'rating_model0120190422195745', 'job_error': ''}\n",
      "{'status': 'Complete', 'starttime': '2019-04-22T20:00:30.549379', 'endtime': '2019-04-22T20:00:32.395636', 'percent_complete': 100, 'job_type': 'AnalyzeModel', 'loss': 0.5947907567024231, 'generations': 2, 'dataset_names': None, 'artifact_names': ['0ce67e499e7d4f969c851c5b3a95a52c'], 'model_name': 'rating_model0120190422195745', 'job_error': ''}\n"
     ]
    }
   ],
   "source": [
    "# Retrieve feature importance of built model\n",
    "status, artifact = ds.analyze_model(model)\n",
    "sleep(1)\n",
    "if status:\n",
    "    ds.wait_for_job(artifact['job_name'])\n",
    "else:\n",
    "    print(artifact)\n",
    "status, feature_importance = ds.download_artifact(artifact['artifact_name'])\n"
   ]
  },
  {
   "cell_type": "code",
   "execution_count": 13,
   "metadata": {},
   "outputs": [
    {
     "data": {
      "text/plain": [
       "Unnamed: 0                        0.411665\n",
       "percent_revenue_from_local        0.079952\n",
       "percent_revenue_from_state        0.066376\n",
       "college_admissions_per_tested     0.059296\n",
       "tax_rate = Non-taxing entities    0.049979\n",
       "grad_rate_5_year                  0.038044\n",
       "average_teacher_exp               0.036198\n",
       "attendance_rate                   0.026928\n",
       "grad_rate_4_year                  0.026592\n",
       "average_sat                       0.026339\n",
       "dtype: float64"
      ]
     },
     "execution_count": 13,
     "metadata": {},
     "output_type": "execute_result"
    }
   ],
   "source": [
    "feature_importance[:10]"
   ]
  },
  {
   "cell_type": "code",
   "execution_count": 14,
   "metadata": {},
   "outputs": [
    {
     "name": "stdout",
     "output_type": "stream",
     "text": [
      "{'status': 'Running', 'starttime': '2019-04-22T20:00:48.278042', 'endtime': None, 'percent_complete': 0, 'job_type': 'RunModel', 'loss': 0.5947907567024231, 'generations': 2, 'dataset_names': ['train_data.csv'], 'artifact_names': ['fe5741d3d60c45499c13bab6dcba951e'], 'model_name': 'rating_model0120190422195745', 'job_error': ''}\n",
      "{'status': 'Complete', 'starttime': '2019-04-22T20:00:48.278042', 'endtime': '2019-04-22T20:00:49.377437', 'percent_complete': 100, 'job_type': 'RunModel', 'loss': 0.5947907567024231, 'generations': 2, 'dataset_names': ['train_data.csv'], 'artifact_names': ['fe5741d3d60c45499c13bab6dcba951e'], 'model_name': 'rating_model0120190422195745', 'job_error': ''}\n"
     ]
    },
    {
     "data": {
      "text/plain": [
       "(True, 'Job completed')"
      ]
     },
     "execution_count": 14,
     "metadata": {},
     "output_type": "execute_result"
    }
   ],
   "source": [
    "status, artifact = ds.run_model(TRAIN_DATASET, model)\n",
    "sleep(1)\n",
    "ds.wait_for_job(artifact['job_name'])"
   ]
  },
  {
   "cell_type": "code",
   "execution_count": 15,
   "metadata": {},
   "outputs": [
    {
     "data": {
      "text/html": [
       "<div>\n",
       "<style scoped>\n",
       "    .dataframe tbody tr th:only-of-type {\n",
       "        vertical-align: middle;\n",
       "    }\n",
       "\n",
       "    .dataframe tbody tr th {\n",
       "        vertical-align: top;\n",
       "    }\n",
       "\n",
       "    .dataframe thead th {\n",
       "        text-align: right;\n",
       "    }\n",
       "</style>\n",
       "<table border=\"1\" class=\"dataframe\">\n",
       "  <thead>\n",
       "    <tr style=\"text-align: right;\">\n",
       "      <th></th>\n",
       "      <th>prob_Improvement Required</th>\n",
       "      <th>prob_Met Alternative Standard</th>\n",
       "      <th>prob_Met Standard</th>\n",
       "      <th>rating</th>\n",
       "    </tr>\n",
       "  </thead>\n",
       "  <tbody>\n",
       "    <tr>\n",
       "      <th>0</th>\n",
       "      <td>0.000563</td>\n",
       "      <td>6.530000e-08</td>\n",
       "      <td>0.999437</td>\n",
       "      <td>Met Standard</td>\n",
       "    </tr>\n",
       "    <tr>\n",
       "      <th>1</th>\n",
       "      <td>0.000038</td>\n",
       "      <td>1.824000e-07</td>\n",
       "      <td>0.999962</td>\n",
       "      <td>Met Standard</td>\n",
       "    </tr>\n",
       "    <tr>\n",
       "      <th>2</th>\n",
       "      <td>0.000728</td>\n",
       "      <td>1.523200e-06</td>\n",
       "      <td>0.999270</td>\n",
       "      <td>Met Standard</td>\n",
       "    </tr>\n",
       "    <tr>\n",
       "      <th>3</th>\n",
       "      <td>0.000222</td>\n",
       "      <td>1.597000e-05</td>\n",
       "      <td>0.999762</td>\n",
       "      <td>Met Standard</td>\n",
       "    </tr>\n",
       "    <tr>\n",
       "      <th>4</th>\n",
       "      <td>0.000191</td>\n",
       "      <td>8.589000e-07</td>\n",
       "      <td>0.999808</td>\n",
       "      <td>Met Standard</td>\n",
       "    </tr>\n",
       "  </tbody>\n",
       "</table>\n",
       "</div>"
      ],
      "text/plain": [
       "   prob_Improvement Required  prob_Met Alternative Standard  \\\n",
       "0                   0.000563                   6.530000e-08   \n",
       "1                   0.000038                   1.824000e-07   \n",
       "2                   0.000728                   1.523200e-06   \n",
       "3                   0.000222                   1.597000e-05   \n",
       "4                   0.000191                   8.589000e-07   \n",
       "\n",
       "   prob_Met Standard        rating  \n",
       "0           0.999437  Met Standard  \n",
       "1           0.999962  Met Standard  \n",
       "2           0.999270  Met Standard  \n",
       "3           0.999762  Met Standard  \n",
       "4           0.999808  Met Standard  "
      ]
     },
     "execution_count": 15,
     "metadata": {},
     "output_type": "execute_result"
    }
   ],
   "source": [
    "status, prediction = ds.download_artifact(artifact['artifact_name'])\n",
    "prediction.head()"
   ]
  },
  {
   "cell_type": "code",
   "execution_count": 16,
   "metadata": {},
   "outputs": [
    {
     "name": "stdout",
     "output_type": "stream",
     "text": [
      "                          precision    recall  f1-score   support\n",
      "\n",
      "    Improvement Required       0.99      0.98      0.99      2589\n",
      "Met Alternative Standard       1.00      1.00      1.00      2589\n",
      "            Met Standard       0.98      0.99      0.99      2589\n",
      "\n",
      "               micro avg       0.99      0.99      0.99      7767\n",
      "               macro avg       0.99      0.99      0.99      7767\n",
      "            weighted avg       0.99      0.99      0.99      7767\n",
      "\n"
     ]
    },
    {
     "data": {
      "image/png": "[encoded data removed]",
      "text/plain": [
       "<Figure size 432x288 with 1 Axes>"
      ]
     },
     "metadata": {
      "needs_background": "light"
     },
     "output_type": "display_data"
    }
   ],
   "source": [
    "unq = prediction[target].unique()[::-1]\n",
    "p = np.zeros((len(prediction),))\n",
    "a = np.zeros((len(prediction),))\n",
    "for i,q in enumerate(unq):\n",
    "    p += i*(prediction[target] == q).values\n",
    "    a += i*(train_df[target] == q).values\n",
    "#Plot predictions vs actual\n",
    "plt.plot(a)\n",
    "plt.plot(p)\n",
    "plt.legend(['Actual','Predicted'])\n",
    "plt.yticks([i for i in range(len(unq))],[q for q in unq]);\n",
    "print(classification_report(train_df[target], prediction[target]))"
   ]
  },
  {
   "cell_type": "code",
   "execution_count": 17,
   "metadata": {},
   "outputs": [],
   "source": [
    "#TEST DATASET\n",
    "status, message = ds.delete_dataset(TEST_DATASET)\n",
    "status, dataset = ds.upload_dataset( TEST_DATASET)\n",
    "if not status:\n",
    "    print(dataset)"
   ]
  },
  {
   "cell_type": "code",
   "execution_count": 18,
   "metadata": {},
   "outputs": [
    {
     "name": "stdout",
     "output_type": "stream",
     "text": [
      "{'status': 'Requested', 'starttime': '2019-04-22T20:01:07.625087', 'endtime': None, 'percent_complete': 0, 'job_type': 'CleanDataTiny', 'loss': None, 'generations': None, 'dataset_names': ['test_data.csv'], 'artifact_names': ['d98eb5e140d4431b824479b690cf2758'], 'model_name': None, 'job_error': None}\n",
      "{'status': 'Complete', 'starttime': '2019-04-22T20:01:07.625087', 'endtime': '2019-04-22T20:01:12.575187', 'percent_complete': 100, 'job_type': 'CleanDataTiny', 'loss': None, 'generations': None, 'dataset_names': ['test_data.csv'], 'artifact_names': ['d98eb5e140d4431b824479b690cf2758'], 'model_name': None, 'job_error': ''}\n"
     ]
    }
   ],
   "source": [
    "status, job_id = ds.clean_data(TEST_DATASET, target = target, model_name = model)\n",
    "\n",
    "if status:\n",
    "    ds.wait_for_job(job_id['job_name'])\n",
    "else:\n",
    "    print(job_id)"
   ]
  },
  {
   "cell_type": "code",
   "execution_count": 19,
   "metadata": {},
   "outputs": [
    {
     "name": "stdout",
     "output_type": "stream",
     "text": [
      "{'status': 'Running', 'starttime': '2019-04-22T20:01:23.865418', 'endtime': None, 'percent_complete': 0, 'job_type': 'RunModel', 'loss': 0.5947907567024231, 'generations': 2, 'dataset_names': ['test_data.csv'], 'artifact_names': ['932275e83fb54d3d941b819fe99abcfe'], 'model_name': 'rating_model0120190422195745', 'job_error': ''}\n",
      "{'status': 'Complete', 'starttime': '2019-04-22T20:01:23.865418', 'endtime': '2019-04-22T20:01:25.089764', 'percent_complete': 100, 'job_type': 'RunModel', 'loss': 0.5947907567024231, 'generations': 2, 'dataset_names': ['test_data.csv'], 'artifact_names': ['932275e83fb54d3d941b819fe99abcfe'], 'model_name': 'rating_model0120190422195745', 'job_error': ''}\n"
     ]
    },
    {
     "data": {
      "text/plain": [
       "(True, 'Job completed')"
      ]
     },
     "execution_count": 19,
     "metadata": {},
     "output_type": "execute_result"
    }
   ],
   "source": [
    "status, artifact = ds.run_model(TEST_DATASET, model)\n",
    "sleep(1)\n",
    "ds.wait_for_job(artifact['job_name'])"
   ]
  },
  {
   "cell_type": "code",
   "execution_count": 20,
   "metadata": {},
   "outputs": [
    {
     "name": "stdout",
     "output_type": "stream",
     "text": [
      "                          precision    recall  f1-score   support\n",
      "\n",
      "    Improvement Required       0.00      0.00      0.00        19\n",
      "Met Alternative Standard       0.79      0.83      0.81        18\n",
      "            Met Standard       0.98      1.00      0.99       871\n",
      "\n",
      "               micro avg       0.97      0.97      0.97       908\n",
      "               macro avg       0.59      0.61      0.60       908\n",
      "            weighted avg       0.95      0.97      0.96       908\n",
      "\n"
     ]
    },
    {
     "data": {
      "image/png": "[encoded data removed]",
      "text/plain": [
       "<Figure size 432x288 with 1 Axes>"
      ]
     },
     "metadata": {
      "needs_background": "light"
     },
     "output_type": "display_data"
    }
   ],
   "source": [
    "# Create plots comparing predictions with actual target\n",
    "status, prediction = ds.download_artifact(artifact['artifact_name'])\n",
    "df = pd.read_csv(TEST_DATASET)\n",
    "unq = prediction[target].unique()[::-1]\n",
    "p = np.zeros((len(prediction),))\n",
    "a = np.zeros((len(prediction),))\n",
    "for i,q in enumerate(unq):\n",
    "    p += i*(prediction[target] == q).values\n",
    "    a += i*(df[target] == q).values\n",
    "#Plot predictions vs actual\n",
    "plt.plot(a)\n",
    "plt.plot(p)\n",
    "plt.legend(['Actual','Predicted'])\n",
    "plt.yticks([i for i in range(len(unq))],[q for q in unq]);\n",
    "print(classification_report(df[target], prediction[target]))"
   ]
  },
  {
   "cell_type": "code",
   "execution_count": null,
   "metadata": {},
   "outputs": [],
   "source": []
  },
  {
   "cell_type": "code",
   "execution_count": null,
   "metadata": {},
   "outputs": [],
   "source": []
  }
 ],
 "metadata": {
  "kernelspec": {
   "display_name": "Python 3",
   "language": "python",
   "name": "python3"
  },
  "language_info": {
   "codemirror_mode": {
    "name": "ipython",
    "version": 3
   },
   "file_extension": ".py",
   "mimetype": "text/x-python",
   "name": "python",
   "nbconvert_exporter": "python",
   "pygments_lexer": "ipython3",
   "version": "3.7.1"
  }
 },
 "nbformat": 4,
 "nbformat_minor": 2
}
