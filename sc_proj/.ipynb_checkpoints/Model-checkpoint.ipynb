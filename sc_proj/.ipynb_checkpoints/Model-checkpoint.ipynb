{
 "cells": [
  {
   "cell_type": "code",
   "execution_count": 24,
   "metadata": {},
   "outputs": [],
   "source": [
    "# Import necessary libraries\n",
    "import warnings\n",
    "warnings.filterwarnings(\"ignore\", message=\"numpy.dtype size changed\")\n",
    "%matplotlib inline\n",
    "import matplotlib.pyplot as plt\n",
    "import pandas as pd\n",
    "from IPython.display import Image\n",
    "from time import sleep\n",
    "import os\n",
    "import numpy as np\n",
    "from sklearn.metrics import classification_report\n",
    "\n",
    "from amb_sdk.sdk import DarwinSdk\n",
    "import datetime\n",
    "ts = '{:%Y%m%d%H%M%S}'.format(datetime.datetime.now())"
   ]
  },
  {
   "cell_type": "code",
   "execution_count": 25,
   "metadata": {
    "scrolled": true
   },
   "outputs": [
    {
     "name": "stdout",
     "output_type": "stream",
     "text": [
      "You are logged in!\n"
     ]
    }
   ],
   "source": [
    "# Login\n",
    "ds = DarwinSdk()\n",
    "ds.set_url('https://amb-demo-api.sparkcognition.com/v1/')\n",
    "status, msg = ds.auth_login_user('PRIYAPATEL0513@GMAIL.COM', '4uvRjWXe5b')\n",
    "\n",
    "if not status:\n",
    "    print(msg)\n",
    "else:\n",
    "    print('You are logged in!')"
   ]
  },
  {
   "cell_type": "code",
   "execution_count": 26,
   "metadata": {},
   "outputs": [],
   "source": [
    "def get_formatted_dataframe(xls_file, year):\n",
    "    df = pd.read_excel(xls_file)\n",
    "    df = df[['DZRATING', 'DZCAMPUS','DPETALLC','DA0AT' + str(year) + 'R', 'DA0912DR' + str(year) + 'R','DAGC4X' + str(year) + 'R','DAGC5X' + str(year - 1) + 'R','DA0GR' + str(year) + 'N','DA0CT' + str(year) + 'R','DA0CC' + str(year) + 'R','DA0CSA' + str(year) + 'R','DA0CAA' + str(year) + 'R','DPSTTOSA','DPSTEXPA','DPFRAALLT','DPFRAALLK','DPFRASTAP','DZRVLOCP','DPFRAFEDP','DPFEAINST','DPFEAINSK','DISTSIZE','COMMTYPE', 'PROPWLTH', 'TAXRATE']]\n",
    "    df = df.rename(index=str, columns = {\"DZRATING\":\"rating\", \"DZCAMPUS\":\"num_schools\", \"DPETALLC\":\"num_students\", \"DA0AT\" + str(year) + \"R\":\"attendance_rate\", \"DA0912DR\" + str(year) + \"R\":\"dropout_rate\", \"DAGC4X\" + str(year) + \"R\":\"grad_rate_4_year\", \"DAGC5X\" + str(year - 1) + \"R\":\"grad_rate_5_year\", \"DA0GR\" + str(year) + \"N\":\"annual_grad_count\", \"DA0CT\" + str(year) + \"R\":\"college_admissions_per_tested\", \"DA0CC\" + str(year) + \"R\":\"college_admissions_at_crit\", \"DA0CSA\" + str(year) + \"R\":\"average_sat\", \"DA0CAA\" + str(year) + \"R\":\"average_act\", \"DPSTTOSA\":\"average_teacher_salary\", \"DPSTEXPA\":\"average_teacher_exp\", \"DPFRAALLT\":\"total_revenue\", \"DPFRAALLK\":\"total_revenue_per_pupil\", \"DPFRASTAP\":\"percent_revenue_from_state\", \"DZRVLOCP\":\"percent_revenue_from_local\", \"DPFRAFEDP\":\"percent_revenue_from_federal\", \"DPFEAINST\":\"instr_expenditures\", \"DPFEAINSK\":\"instr_expenditures_per_pupil\", \"DISTSIZE\":\"district_size\", \"COMMTYPE\":\"community_type\", \"PROPWLTH\":\"property_wealth\", \"TAXRATE\":\"tax_rate\"})\n",
    "    return df"
   ]
  },
  {
   "cell_type": "code",
   "execution_count": 27,
   "metadata": {},
   "outputs": [
    {
     "name": "stdout",
     "output_type": "stream",
     "text": [
      "Test dataframe shape: (1203, 25)\n",
      "Train dataframe shape: (3653, 25)\n"
     ]
    }
   ],
   "source": [
    "test_df = get_formatted_dataframe('2016-2017.xls', 16)\n",
    "train_df = get_formatted_dataframe('2015-2016.xls',15)\n",
    "train_df = train_df.append(get_formatted_dataframe('2014-2015.xls',14))\n",
    "train_df = train_df.append(get_formatted_dataframe('2013-2014.xls',13))\n",
    "print('Test dataframe shape:', test_df.shape)\n",
    "print('Train dataframe shape:', train_df.shape)"
   ]
  },
  {
   "cell_type": "code",
   "execution_count": 28,
   "metadata": {},
   "outputs": [],
   "source": [
    "def clean_dataframe(df):\n",
    "    df = df.loc[(df['rating'] == \"Met Standard\") | (df['rating'] == \"Met Alternative Standard\") |(df['rating'] == \"Improvement Required\")]\n",
    "    features = list(df)[3:21]\n",
    "    for feature in features:\n",
    "        df = df.loc[(df[feature] != '.')]\n",
    "    df = df.dropna()\n",
    "    return df"
   ]
  },
  {
   "cell_type": "code",
   "execution_count": 29,
   "metadata": {},
   "outputs": [
    {
     "name": "stdout",
     "output_type": "stream",
     "text": [
      "After cleaning:\n",
      "Test dataframe shape: (908, 25)\n",
      "Train dataframe shape: (2749, 25)\n"
     ]
    }
   ],
   "source": [
    "# Cleaning the data\n",
    "train_df = clean_dataframe(train_df)\n",
    "test_df = clean_dataframe(test_df)\n",
    "print('After cleaning:')\n",
    "print('Test dataframe shape:', test_df.shape)\n",
    "print('Train dataframe shape:', train_df.shape)"
   ]
  },
  {
   "cell_type": "code",
   "execution_count": 22,
   "metadata": {},
   "outputs": [
    {
     "name": "stdout",
     "output_type": "stream",
     "text": [
      "Before oversampling:\n",
      "Met Standard                2589\n",
      "Improvement Required        2589\n",
      "Met Alternative Standard    2589\n",
      "Name: rating, dtype: int64\n",
      "\n"
     ]
    },
    {
     "ename": "ValueError",
     "evalue": "could not convert string to float: 'Met Standard'",
     "output_type": "error",
     "traceback": [
      "\u001b[0;31m---------------------------------------------------------------------------\u001b[0m",
      "\u001b[0;31mValueError\u001b[0m                                Traceback (most recent call last)",
      "\u001b[0;32m<ipython-input-22-7f5912dbc2db>\u001b[0m in \u001b[0;36m<module>\u001b[0;34m\u001b[0m\n\u001b[1;32m      9\u001b[0m \u001b[0mtrain_df_y\u001b[0m \u001b[0;34m=\u001b[0m \u001b[0mtrain_df\u001b[0m\u001b[0;34m[\u001b[0m\u001b[0;34m'rating'\u001b[0m\u001b[0;34m]\u001b[0m\u001b[0;34m\u001b[0m\u001b[0;34m\u001b[0m\u001b[0m\n\u001b[1;32m     10\u001b[0m \u001b[0mtrain_df_x\u001b[0m \u001b[0;34m=\u001b[0m \u001b[0mtrain_df\u001b[0m\u001b[0;34m.\u001b[0m\u001b[0miloc\u001b[0m\u001b[0;34m[\u001b[0m\u001b[0;34m:\u001b[0m\u001b[0;34m,\u001b[0m\u001b[0;36m1\u001b[0m\u001b[0;34m:\u001b[0m\u001b[0;34m]\u001b[0m\u001b[0;34m\u001b[0m\u001b[0;34m\u001b[0m\u001b[0m\n\u001b[0;32m---> 11\u001b[0;31m \u001b[0mx_res\u001b[0m\u001b[0;34m,\u001b[0m \u001b[0my_res\u001b[0m \u001b[0;34m=\u001b[0m \u001b[0mad\u001b[0m\u001b[0;34m.\u001b[0m\u001b[0mfit_sample\u001b[0m\u001b[0;34m(\u001b[0m\u001b[0mtrain_df_x\u001b[0m\u001b[0;34m,\u001b[0m \u001b[0mtrain_df_y\u001b[0m\u001b[0;34m)\u001b[0m\u001b[0;34m\u001b[0m\u001b[0;34m\u001b[0m\u001b[0m\n\u001b[0m\u001b[1;32m     12\u001b[0m \u001b[0;34m\u001b[0m\u001b[0m\n\u001b[1;32m     13\u001b[0m \u001b[0mtrain_df\u001b[0m \u001b[0;34m=\u001b[0m \u001b[0mpd\u001b[0m\u001b[0;34m.\u001b[0m\u001b[0mDataFrame\u001b[0m\u001b[0;34m(\u001b[0m\u001b[0mdata\u001b[0m\u001b[0;34m=\u001b[0m\u001b[0mx_res\u001b[0m\u001b[0;34m)\u001b[0m\u001b[0;34m\u001b[0m\u001b[0;34m\u001b[0m\u001b[0m\n",
      "\u001b[0;32m~/anaconda3/lib/python3.7/site-packages/imblearn/base.py\u001b[0m in \u001b[0;36mfit_resample\u001b[0;34m(self, X, y)\u001b[0m\n\u001b[1;32m     83\u001b[0m             self.sampling_strategy, y, self._sampling_type)\n\u001b[1;32m     84\u001b[0m \u001b[0;34m\u001b[0m\u001b[0m\n\u001b[0;32m---> 85\u001b[0;31m         \u001b[0moutput\u001b[0m \u001b[0;34m=\u001b[0m \u001b[0mself\u001b[0m\u001b[0;34m.\u001b[0m\u001b[0m_fit_resample\u001b[0m\u001b[0;34m(\u001b[0m\u001b[0mX\u001b[0m\u001b[0;34m,\u001b[0m \u001b[0my\u001b[0m\u001b[0;34m)\u001b[0m\u001b[0;34m\u001b[0m\u001b[0;34m\u001b[0m\u001b[0m\n\u001b[0m\u001b[1;32m     86\u001b[0m \u001b[0;34m\u001b[0m\u001b[0m\n\u001b[1;32m     87\u001b[0m         \u001b[0;32mif\u001b[0m \u001b[0mbinarize_y\u001b[0m\u001b[0;34m:\u001b[0m\u001b[0;34m\u001b[0m\u001b[0;34m\u001b[0m\u001b[0m\n",
      "\u001b[0;32m~/anaconda3/lib/python3.7/site-packages/imblearn/over_sampling/_smote.py\u001b[0m in \u001b[0;36m_fit_resample\u001b[0;34m(self, X, y)\u001b[0m\n\u001b[1;32m    945\u001b[0m \u001b[0;34m\u001b[0m\u001b[0m\n\u001b[1;32m    946\u001b[0m         \u001b[0mX_continuous\u001b[0m \u001b[0;34m=\u001b[0m \u001b[0mX\u001b[0m\u001b[0;34m[\u001b[0m\u001b[0;34m:\u001b[0m\u001b[0;34m,\u001b[0m \u001b[0mself\u001b[0m\u001b[0;34m.\u001b[0m\u001b[0mcontinuous_features_\u001b[0m\u001b[0;34m]\u001b[0m\u001b[0;34m\u001b[0m\u001b[0;34m\u001b[0m\u001b[0m\n\u001b[0;32m--> 947\u001b[0;31m         \u001b[0mX_continuous\u001b[0m \u001b[0;34m=\u001b[0m \u001b[0mcheck_array\u001b[0m\u001b[0;34m(\u001b[0m\u001b[0mX_continuous\u001b[0m\u001b[0;34m,\u001b[0m \u001b[0maccept_sparse\u001b[0m\u001b[0;34m=\u001b[0m\u001b[0;34m[\u001b[0m\u001b[0;34m'csr'\u001b[0m\u001b[0;34m,\u001b[0m \u001b[0;34m'csc'\u001b[0m\u001b[0;34m]\u001b[0m\u001b[0;34m)\u001b[0m\u001b[0;34m\u001b[0m\u001b[0;34m\u001b[0m\u001b[0m\n\u001b[0m\u001b[1;32m    948\u001b[0m         X_minority = safe_indexing(X_continuous,\n\u001b[1;32m    949\u001b[0m                                    np.flatnonzero(y == class_minority))\n",
      "\u001b[0;32m~/anaconda3/lib/python3.7/site-packages/sklearn/utils/validation.py\u001b[0m in \u001b[0;36mcheck_array\u001b[0;34m(array, accept_sparse, accept_large_sparse, dtype, order, copy, force_all_finite, ensure_2d, allow_nd, ensure_min_samples, ensure_min_features, warn_on_dtype, estimator)\u001b[0m\n\u001b[1;32m    525\u001b[0m             \u001b[0;32mtry\u001b[0m\u001b[0;34m:\u001b[0m\u001b[0;34m\u001b[0m\u001b[0;34m\u001b[0m\u001b[0m\n\u001b[1;32m    526\u001b[0m                 \u001b[0mwarnings\u001b[0m\u001b[0;34m.\u001b[0m\u001b[0msimplefilter\u001b[0m\u001b[0;34m(\u001b[0m\u001b[0;34m'error'\u001b[0m\u001b[0;34m,\u001b[0m \u001b[0mComplexWarning\u001b[0m\u001b[0;34m)\u001b[0m\u001b[0;34m\u001b[0m\u001b[0;34m\u001b[0m\u001b[0m\n\u001b[0;32m--> 527\u001b[0;31m                 \u001b[0marray\u001b[0m \u001b[0;34m=\u001b[0m \u001b[0mnp\u001b[0m\u001b[0;34m.\u001b[0m\u001b[0masarray\u001b[0m\u001b[0;34m(\u001b[0m\u001b[0marray\u001b[0m\u001b[0;34m,\u001b[0m \u001b[0mdtype\u001b[0m\u001b[0;34m=\u001b[0m\u001b[0mdtype\u001b[0m\u001b[0;34m,\u001b[0m \u001b[0morder\u001b[0m\u001b[0;34m=\u001b[0m\u001b[0morder\u001b[0m\u001b[0;34m)\u001b[0m\u001b[0;34m\u001b[0m\u001b[0;34m\u001b[0m\u001b[0m\n\u001b[0m\u001b[1;32m    528\u001b[0m             \u001b[0;32mexcept\u001b[0m \u001b[0mComplexWarning\u001b[0m\u001b[0;34m:\u001b[0m\u001b[0;34m\u001b[0m\u001b[0;34m\u001b[0m\u001b[0m\n\u001b[1;32m    529\u001b[0m                 raise ValueError(\"Complex data not supported\\n\"\n",
      "\u001b[0;32m~/anaconda3/lib/python3.7/site-packages/numpy/core/numeric.py\u001b[0m in \u001b[0;36masarray\u001b[0;34m(a, dtype, order)\u001b[0m\n\u001b[1;32m    499\u001b[0m \u001b[0;34m\u001b[0m\u001b[0m\n\u001b[1;32m    500\u001b[0m     \"\"\"\n\u001b[0;32m--> 501\u001b[0;31m     \u001b[0;32mreturn\u001b[0m \u001b[0marray\u001b[0m\u001b[0;34m(\u001b[0m\u001b[0ma\u001b[0m\u001b[0;34m,\u001b[0m \u001b[0mdtype\u001b[0m\u001b[0;34m,\u001b[0m \u001b[0mcopy\u001b[0m\u001b[0;34m=\u001b[0m\u001b[0;32mFalse\u001b[0m\u001b[0;34m,\u001b[0m \u001b[0morder\u001b[0m\u001b[0;34m=\u001b[0m\u001b[0morder\u001b[0m\u001b[0;34m)\u001b[0m\u001b[0;34m\u001b[0m\u001b[0;34m\u001b[0m\u001b[0m\n\u001b[0m\u001b[1;32m    502\u001b[0m \u001b[0;34m\u001b[0m\u001b[0m\n\u001b[1;32m    503\u001b[0m \u001b[0;34m\u001b[0m\u001b[0m\n",
      "\u001b[0;31mValueError\u001b[0m: could not convert string to float: 'Met Standard'"
     ]
    }
   ],
   "source": [
    "# Dealing with class imbalance\n",
    "\n",
    "print(\"Before oversampling:\")\n",
    "print(train_df['rating'].value_counts())\n",
    "print()\n",
    "\n",
    "from imblearn.over_sampling import SMOTENC\n",
    "ad = SMOTENC(categorical_features=[20, 21, 22, 23], random_state=None)\n",
    "train_df_y = train_df['rating']\n",
    "train_df_x = train_df.iloc[:,1:]\n",
    "x_res, y_res = ad.fit_sample(train_df_x, train_df_y)\n",
    "\n",
    "train_df = pd.DataFrame(data=x_res)\n",
    "train_df['rating'] = y_res\n",
    "\n",
    "print(\"After oversampling:\")\n",
    "print(train_df['rating'].value_counts())\n",
    "print(train_df)"
   ]
  },
  {
   "cell_type": "code",
   "execution_count": 8,
   "metadata": {},
   "outputs": [],
   "source": [
    "test_df.to_csv('test_data.csv')\n",
    "train_df.to_csv('train_data.csv')"
   ]
  },
  {
   "cell_type": "code",
   "execution_count": 9,
   "metadata": {},
   "outputs": [
    {
     "name": "stdout",
     "output_type": "stream",
     "text": [
      "400: BAD REQUEST - {\"message\": \"Dataset already exists\"}\n",
      "\n"
     ]
    }
   ],
   "source": [
    "TRAIN_DATASET = 'train_data.csv'\n",
    "TEST_DATASET = 'test_data.csv'\n",
    "train_df = pd.read_csv('train_data.csv')\n",
    "test_df = pd.read_csv('test_data.csv')\n",
    "status, message = ds.delete_dataset(TRAIN_DATASET)\n",
    "status, dataset = ds.upload_dataset(TRAIN_DATASET)\n",
    "if not status:\n",
    "    print(dataset)\n",
    "status, message = ds.delete_dataset(TEST_DATASET)\n",
    "status, dataset = ds.upload_dataset(TEST_DATASET)\n",
    "if not status:\n",
    "    print(dataset)"
   ]
  },
  {
   "cell_type": "code",
   "execution_count": 10,
   "metadata": {},
   "outputs": [
    {
     "name": "stdout",
     "output_type": "stream",
     "text": [
      "{'status': 'Requested', 'starttime': '2019-04-22T13:08:41.539121', 'endtime': None, 'percent_complete': 0, 'job_type': 'CleanDataTiny', 'loss': None, 'generations': None, 'dataset_names': ['train_data.csv'], 'artifact_names': ['be4c9f8e573b40b484e750c5a422c711'], 'model_name': None, 'job_error': None}\n",
      "{'status': 'Requested', 'starttime': '2019-04-22T13:08:41.539121', 'endtime': None, 'percent_complete': 0, 'job_type': 'CleanDataTiny', 'loss': None, 'generations': None, 'dataset_names': ['train_data.csv'], 'artifact_names': ['be4c9f8e573b40b484e750c5a422c711'], 'model_name': None, 'job_error': None}\n",
      "{'status': 'Complete', 'starttime': '2019-04-22T13:08:41.539121', 'endtime': '2019-04-22T13:09:08.671777', 'percent_complete': 100, 'job_type': 'CleanDataTiny', 'loss': None, 'generations': None, 'dataset_names': ['train_data.csv'], 'artifact_names': ['be4c9f8e573b40b484e750c5a422c711'], 'model_name': None, 'job_error': ''}\n"
     ]
    }
   ],
   "source": [
    "#clean train_Set\n",
    "target = \"rating\"\n",
    "status, job_id = ds.clean_data(TRAIN_DATASET, target = target)\n",
    "if status:\n",
    "    ds.wait_for_job(job_id['job_name'])\n",
    "else:\n",
    "    print(job_id)"
   ]
  },
  {
   "cell_type": "code",
   "execution_count": 11,
   "metadata": {
    "scrolled": true
   },
   "outputs": [
    {
     "name": "stdout",
     "output_type": "stream",
     "text": [
      "{'status': 'Requested', 'starttime': '2019-04-22T13:09:12.848521', 'endtime': None, 'percent_complete': 0, 'job_type': 'TrainModel', 'loss': None, 'generations': 0, 'dataset_names': ['train_data.csv'], 'artifact_names': None, 'model_name': 'rating_model0120190422130830', 'job_error': None}\n",
      "{'status': 'Requested', 'starttime': '2019-04-22T13:09:12.848521', 'endtime': None, 'percent_complete': 0, 'job_type': 'TrainModel', 'loss': None, 'generations': 0, 'dataset_names': ['train_data.csv'], 'artifact_names': None, 'model_name': 'rating_model0120190422130830', 'job_error': None}\n",
      "{'status': 'Requested', 'starttime': '2019-04-22T13:09:12.848521', 'endtime': None, 'percent_complete': 0, 'job_type': 'TrainModel', 'loss': None, 'generations': 0, 'dataset_names': ['train_data.csv'], 'artifact_names': None, 'model_name': 'rating_model0120190422130830', 'job_error': None}\n",
      "{'status': 'Running', 'starttime': '2019-04-22T13:09:12.848521', 'endtime': None, 'percent_complete': 0, 'job_type': 'TrainModel', 'loss': None, 'generations': 0, 'dataset_names': ['train_data.csv'], 'artifact_names': None, 'model_name': 'rating_model0120190422130830', 'job_error': ''}\n",
      "{'status': 'Running', 'starttime': '2019-04-22T13:09:12.848521', 'endtime': None, 'percent_complete': 0, 'job_type': 'TrainModel', 'loss': None, 'generations': 0, 'dataset_names': ['train_data.csv'], 'artifact_names': None, 'model_name': 'rating_model0120190422130830', 'job_error': ''}\n",
      "{'status': 'Running', 'starttime': '2019-04-22T13:09:12.848521', 'endtime': None, 'percent_complete': 0, 'job_type': 'TrainModel', 'loss': None, 'generations': 0, 'dataset_names': ['train_data.csv'], 'artifact_names': None, 'model_name': 'rating_model0120190422130830', 'job_error': ''}\n",
      "{'status': 'Running', 'starttime': '2019-04-22T13:09:12.848521', 'endtime': None, 'percent_complete': 0, 'job_type': 'TrainModel', 'loss': None, 'generations': 0, 'dataset_names': ['train_data.csv'], 'artifact_names': None, 'model_name': 'rating_model0120190422130830', 'job_error': ''}\n",
      "{'status': 'Running', 'starttime': '2019-04-22T13:09:12.848521', 'endtime': None, 'percent_complete': 0, 'job_type': 'TrainModel', 'loss': None, 'generations': 0, 'dataset_names': ['train_data.csv'], 'artifact_names': None, 'model_name': 'rating_model0120190422130830', 'job_error': ''}\n",
      "{'status': 'Running', 'starttime': '2019-04-22T13:09:12.848521', 'endtime': None, 'percent_complete': 0, 'job_type': 'TrainModel', 'loss': None, 'generations': 0, 'dataset_names': ['train_data.csv'], 'artifact_names': None, 'model_name': 'rating_model0120190422130830', 'job_error': ''}\n",
      "{'status': 'Running', 'starttime': '2019-04-22T13:09:12.848521', 'endtime': None, 'percent_complete': 0, 'job_type': 'TrainModel', 'loss': None, 'generations': 0, 'dataset_names': ['train_data.csv'], 'artifact_names': None, 'model_name': 'rating_model0120190422130830', 'job_error': ''}\n",
      "{'status': 'Running', 'starttime': '2019-04-22T13:09:12.848521', 'endtime': None, 'percent_complete': 0, 'job_type': 'TrainModel', 'loss': None, 'generations': 0, 'dataset_names': ['train_data.csv'], 'artifact_names': None, 'model_name': 'rating_model0120190422130830', 'job_error': ''}\n",
      "{'status': 'Running', 'starttime': '2019-04-22T13:09:12.848521', 'endtime': None, 'percent_complete': 0, 'job_type': 'TrainModel', 'loss': None, 'generations': 0, 'dataset_names': ['train_data.csv'], 'artifact_names': None, 'model_name': 'rating_model0120190422130830', 'job_error': ''}\n",
      "{'status': 'Running', 'starttime': '2019-04-22T13:09:12.848521', 'endtime': None, 'percent_complete': 0, 'job_type': 'TrainModel', 'loss': None, 'generations': 0, 'dataset_names': ['train_data.csv'], 'artifact_names': None, 'model_name': 'rating_model0120190422130830', 'job_error': ''}\n",
      "{'status': 'Running', 'starttime': '2019-04-22T13:09:12.848521', 'endtime': None, 'percent_complete': 0, 'job_type': 'TrainModel', 'loss': None, 'generations': 0, 'dataset_names': ['train_data.csv'], 'artifact_names': None, 'model_name': 'rating_model0120190422130830', 'job_error': ''}\n",
      "{'status': 'Running', 'starttime': '2019-04-22T13:09:12.848521', 'endtime': None, 'percent_complete': 0, 'job_type': 'TrainModel', 'loss': None, 'generations': 0, 'dataset_names': ['train_data.csv'], 'artifact_names': None, 'model_name': 'rating_model0120190422130830', 'job_error': ''}\n",
      "{'status': 'Running', 'starttime': '2019-04-22T13:09:12.848521', 'endtime': None, 'percent_complete': 0, 'job_type': 'TrainModel', 'loss': None, 'generations': 0, 'dataset_names': ['train_data.csv'], 'artifact_names': None, 'model_name': 'rating_model0120190422130830', 'job_error': ''}\n",
      "{'status': 'Running', 'starttime': '2019-04-22T13:09:12.848521', 'endtime': None, 'percent_complete': 0, 'job_type': 'TrainModel', 'loss': None, 'generations': 0, 'dataset_names': ['train_data.csv'], 'artifact_names': None, 'model_name': 'rating_model0120190422130830', 'job_error': ''}\n",
      "{'status': 'Running', 'starttime': '2019-04-22T13:09:12.848521', 'endtime': None, 'percent_complete': 0, 'job_type': 'TrainModel', 'loss': None, 'generations': 0, 'dataset_names': ['train_data.csv'], 'artifact_names': None, 'model_name': 'rating_model0120190422130830', 'job_error': ''}\n",
      "{'status': 'Running', 'starttime': '2019-04-22T13:09:12.848521', 'endtime': None, 'percent_complete': 0, 'job_type': 'TrainModel', 'loss': None, 'generations': 0, 'dataset_names': ['train_data.csv'], 'artifact_names': None, 'model_name': 'rating_model0120190422130830', 'job_error': ''}\n",
      "{'status': 'Running', 'starttime': '2019-04-22T13:09:12.848521', 'endtime': None, 'percent_complete': 0, 'job_type': 'TrainModel', 'loss': None, 'generations': 0, 'dataset_names': ['train_data.csv'], 'artifact_names': None, 'model_name': 'rating_model0120190422130830', 'job_error': ''}\n",
      "{'status': 'Running', 'starttime': '2019-04-22T13:09:12.848521', 'endtime': None, 'percent_complete': 0, 'job_type': 'TrainModel', 'loss': None, 'generations': 0, 'dataset_names': ['train_data.csv'], 'artifact_names': None, 'model_name': 'rating_model0120190422130830', 'job_error': ''}\n",
      "{'status': 'Running', 'starttime': '2019-04-22T13:09:12.848521', 'endtime': None, 'percent_complete': 0, 'job_type': 'TrainModel', 'loss': None, 'generations': 0, 'dataset_names': ['train_data.csv'], 'artifact_names': None, 'model_name': 'rating_model0120190422130830', 'job_error': ''}\n",
      "{'status': 'Running', 'starttime': '2019-04-22T13:09:12.848521', 'endtime': None, 'percent_complete': 0, 'job_type': 'TrainModel', 'loss': None, 'generations': 0, 'dataset_names': ['train_data.csv'], 'artifact_names': None, 'model_name': 'rating_model0120190422130830', 'job_error': ''}\n",
      "{'status': 'Running', 'starttime': '2019-04-22T13:09:12.848521', 'endtime': None, 'percent_complete': 0, 'job_type': 'TrainModel', 'loss': None, 'generations': 0, 'dataset_names': ['train_data.csv'], 'artifact_names': None, 'model_name': 'rating_model0120190422130830', 'job_error': ''}\n",
      "{'status': 'Running', 'starttime': '2019-04-22T13:09:12.848521', 'endtime': None, 'percent_complete': 0, 'job_type': 'TrainModel', 'loss': None, 'generations': 0, 'dataset_names': ['train_data.csv'], 'artifact_names': None, 'model_name': 'rating_model0120190422130830', 'job_error': ''}\n",
      "{'status': 'Running', 'starttime': '2019-04-22T13:09:12.848521', 'endtime': None, 'percent_complete': 10, 'job_type': 'TrainModel', 'loss': 0.5759900808334351, 'generations': 2, 'dataset_names': ['train_data.csv'], 'artifact_names': None, 'model_name': 'rating_model0120190422130830', 'job_error': ''}\n",
      "{'status': 'Running', 'starttime': '2019-04-22T13:09:12.848521', 'endtime': None, 'percent_complete': 21, 'job_type': 'TrainModel', 'loss': 0.5929335951805115, 'generations': 6, 'dataset_names': ['train_data.csv'], 'artifact_names': None, 'model_name': 'rating_model0120190422130830', 'job_error': ''}\n",
      "{'status': 'Running', 'starttime': '2019-04-22T13:09:12.848521', 'endtime': None, 'percent_complete': 25, 'job_type': 'TrainModel', 'loss': 0.5929335951805115, 'generations': 8, 'dataset_names': ['train_data.csv'], 'artifact_names': None, 'model_name': 'rating_model0120190422130830', 'job_error': ''}\n",
      "{'status': 'Running', 'starttime': '2019-04-22T13:09:12.848521', 'endtime': None, 'percent_complete': 25, 'job_type': 'TrainModel', 'loss': 0.5929335951805115, 'generations': 8, 'dataset_names': ['train_data.csv'], 'artifact_names': None, 'model_name': 'rating_model0120190422130830', 'job_error': ''}\n"
     ]
    },
    {
     "name": "stdout",
     "output_type": "stream",
     "text": [
      "{'status': 'Running', 'starttime': '2019-04-22T13:09:12.848521', 'endtime': None, 'percent_complete': 25, 'job_type': 'TrainModel', 'loss': 0.5929335951805115, 'generations': 8, 'dataset_names': ['train_data.csv'], 'artifact_names': None, 'model_name': 'rating_model0120190422130830', 'job_error': ''}\n",
      "{'status': 'Running', 'starttime': '2019-04-22T13:09:12.848521', 'endtime': None, 'percent_complete': 25, 'job_type': 'TrainModel', 'loss': 0.5929335951805115, 'generations': 8, 'dataset_names': ['train_data.csv'], 'artifact_names': None, 'model_name': 'rating_model0120190422130830', 'job_error': ''}\n",
      "{'status': 'Running', 'starttime': '2019-04-22T13:09:12.848521', 'endtime': None, 'percent_complete': 25, 'job_type': 'TrainModel', 'loss': 0.5929335951805115, 'generations': 8, 'dataset_names': ['train_data.csv'], 'artifact_names': None, 'model_name': 'rating_model0120190422130830', 'job_error': ''}\n",
      "{'status': 'Running', 'starttime': '2019-04-22T13:09:12.848521', 'endtime': None, 'percent_complete': 25, 'job_type': 'TrainModel', 'loss': 0.5929335951805115, 'generations': 8, 'dataset_names': ['train_data.csv'], 'artifact_names': None, 'model_name': 'rating_model0120190422130830', 'job_error': ''}\n",
      "{'status': 'Running', 'starttime': '2019-04-22T13:09:12.848521', 'endtime': None, 'percent_complete': 25, 'job_type': 'TrainModel', 'loss': 0.5929335951805115, 'generations': 8, 'dataset_names': ['train_data.csv'], 'artifact_names': None, 'model_name': 'rating_model0120190422130830', 'job_error': ''}\n",
      "{'status': 'Running', 'starttime': '2019-04-22T13:09:12.848521', 'endtime': None, 'percent_complete': 25, 'job_type': 'TrainModel', 'loss': 0.5929335951805115, 'generations': 8, 'dataset_names': ['train_data.csv'], 'artifact_names': None, 'model_name': 'rating_model0120190422130830', 'job_error': ''}\n",
      "{'status': 'Running', 'starttime': '2019-04-22T13:09:12.848521', 'endtime': None, 'percent_complete': 25, 'job_type': 'TrainModel', 'loss': 0.5929335951805115, 'generations': 8, 'dataset_names': ['train_data.csv'], 'artifact_names': None, 'model_name': 'rating_model0120190422130830', 'job_error': ''}\n",
      "{'status': 'Complete', 'starttime': '2019-04-22T13:09:12.848521', 'endtime': '2019-04-22T13:18:03.63596', 'percent_complete': 100, 'job_type': 'TrainModel', 'loss': 0.5929335951805115, 'generations': 8, 'dataset_names': ['train_data.csv'], 'artifact_names': None, 'model_name': 'rating_model0120190422130830', 'job_error': ''}\n"
     ]
    }
   ],
   "source": [
    "model = target + \"_model01\" + ts\n",
    "status, job_id = ds.create_model(dataset_names = TRAIN_DATASET, \\\n",
    "                                 model_name =  model, \\\n",
    "                                 max_train_time = '00:02')\n",
    "if status:\n",
    "    ds.wait_for_job(job_id['job_name'])\n",
    "else:\n",
    "    print(job_id)"
   ]
  },
  {
   "cell_type": "code",
   "execution_count": 12,
   "metadata": {},
   "outputs": [
    {
     "name": "stdout",
     "output_type": "stream",
     "text": [
      "{'status': 'Requested', 'starttime': '2019-04-22T13:18:16.321296', 'endtime': None, 'percent_complete': 0, 'job_type': 'AnalyzeModel', 'loss': 0.5929335951805115, 'generations': 8, 'dataset_names': None, 'artifact_names': ['5161a721bced4b2d9ad30593ea6a4706'], 'model_name': 'rating_model0120190422130830', 'job_error': None}\n",
      "{'status': 'Requested', 'starttime': '2019-04-22T13:18:16.321296', 'endtime': None, 'percent_complete': 0, 'job_type': 'AnalyzeModel', 'loss': 0.5929335951805115, 'generations': 8, 'dataset_names': None, 'artifact_names': ['5161a721bced4b2d9ad30593ea6a4706'], 'model_name': 'rating_model0120190422130830', 'job_error': None}\n",
      "{'status': 'Requested', 'starttime': '2019-04-22T13:18:16.321296', 'endtime': None, 'percent_complete': 0, 'job_type': 'AnalyzeModel', 'loss': 0.5929335951805115, 'generations': 8, 'dataset_names': None, 'artifact_names': ['5161a721bced4b2d9ad30593ea6a4706'], 'model_name': 'rating_model0120190422130830', 'job_error': None}\n",
      "{'status': 'Requested', 'starttime': '2019-04-22T13:18:16.321296', 'endtime': None, 'percent_complete': 0, 'job_type': 'AnalyzeModel', 'loss': 0.5929335951805115, 'generations': 8, 'dataset_names': None, 'artifact_names': ['5161a721bced4b2d9ad30593ea6a4706'], 'model_name': 'rating_model0120190422130830', 'job_error': None}\n",
      "{'status': 'Requested', 'starttime': '2019-04-22T13:18:16.321296', 'endtime': None, 'percent_complete': 0, 'job_type': 'AnalyzeModel', 'loss': 0.5929335951805115, 'generations': 8, 'dataset_names': None, 'artifact_names': ['5161a721bced4b2d9ad30593ea6a4706'], 'model_name': 'rating_model0120190422130830', 'job_error': None}\n",
      "{'status': 'Requested', 'starttime': '2019-04-22T13:18:16.321296', 'endtime': None, 'percent_complete': 0, 'job_type': 'AnalyzeModel', 'loss': 0.5929335951805115, 'generations': 8, 'dataset_names': None, 'artifact_names': ['5161a721bced4b2d9ad30593ea6a4706'], 'model_name': 'rating_model0120190422130830', 'job_error': None}\n",
      "{'status': 'Requested', 'starttime': '2019-04-22T13:18:16.321296', 'endtime': None, 'percent_complete': 0, 'job_type': 'AnalyzeModel', 'loss': 0.5929335951805115, 'generations': 8, 'dataset_names': None, 'artifact_names': ['5161a721bced4b2d9ad30593ea6a4706'], 'model_name': 'rating_model0120190422130830', 'job_error': None}\n",
      "{'status': 'Requested', 'starttime': '2019-04-22T13:18:16.321296', 'endtime': None, 'percent_complete': 0, 'job_type': 'AnalyzeModel', 'loss': 0.5929335951805115, 'generations': 8, 'dataset_names': None, 'artifact_names': ['5161a721bced4b2d9ad30593ea6a4706'], 'model_name': 'rating_model0120190422130830', 'job_error': None}\n",
      "{'status': 'Requested', 'starttime': '2019-04-22T13:18:16.321296', 'endtime': None, 'percent_complete': 0, 'job_type': 'AnalyzeModel', 'loss': 0.5929335951805115, 'generations': 8, 'dataset_names': None, 'artifact_names': ['5161a721bced4b2d9ad30593ea6a4706'], 'model_name': 'rating_model0120190422130830', 'job_error': None}\n",
      "{'status': 'Requested', 'starttime': '2019-04-22T13:18:16.321296', 'endtime': None, 'percent_complete': 0, 'job_type': 'AnalyzeModel', 'loss': 0.5929335951805115, 'generations': 8, 'dataset_names': None, 'artifact_names': ['5161a721bced4b2d9ad30593ea6a4706'], 'model_name': 'rating_model0120190422130830', 'job_error': None}\n",
      "{'status': 'Requested', 'starttime': '2019-04-22T13:18:16.321296', 'endtime': None, 'percent_complete': 0, 'job_type': 'AnalyzeModel', 'loss': 0.5929335951805115, 'generations': 8, 'dataset_names': None, 'artifact_names': ['5161a721bced4b2d9ad30593ea6a4706'], 'model_name': 'rating_model0120190422130830', 'job_error': None}\n",
      "{'status': 'Requested', 'starttime': '2019-04-22T13:18:16.321296', 'endtime': None, 'percent_complete': 0, 'job_type': 'AnalyzeModel', 'loss': 0.5929335951805115, 'generations': 8, 'dataset_names': None, 'artifact_names': ['5161a721bced4b2d9ad30593ea6a4706'], 'model_name': 'rating_model0120190422130830', 'job_error': None}\n",
      "{'status': 'Running', 'starttime': '2019-04-22T13:18:16.321296', 'endtime': None, 'percent_complete': 0, 'job_type': 'AnalyzeModel', 'loss': 0.5929335951805115, 'generations': 8, 'dataset_names': None, 'artifact_names': ['5161a721bced4b2d9ad30593ea6a4706'], 'model_name': 'rating_model0120190422130830', 'job_error': ''}\n",
      "{'status': 'Complete', 'starttime': '2019-04-22T13:18:16.321296', 'endtime': '2019-04-22T13:21:19.393136', 'percent_complete': 100, 'job_type': 'AnalyzeModel', 'loss': 0.5929335951805115, 'generations': 8, 'dataset_names': None, 'artifact_names': ['5161a721bced4b2d9ad30593ea6a4706'], 'model_name': 'rating_model0120190422130830', 'job_error': ''}\n"
     ]
    }
   ],
   "source": [
    "# Retrieve feature importance of built model\n",
    "status, artifact = ds.analyze_model(model)\n",
    "sleep(1)\n",
    "if status:\n",
    "    ds.wait_for_job(artifact['job_name'])\n",
    "else:\n",
    "    print(artifact)\n",
    "status, feature_importance = ds.download_artifact(artifact['artifact_name'])\n"
   ]
  },
  {
   "cell_type": "code",
   "execution_count": 13,
   "metadata": {},
   "outputs": [
    {
     "data": {
      "text/plain": [
       "Unnamed: 0    0.383161\n",
       "16            0.214216\n",
       "4             0.054553\n",
       "2             0.052868\n",
       "10            0.051003\n",
       "18            0.024337\n",
       "5             0.023645\n",
       "14            0.021412\n",
       "7             0.016233\n",
       "21 = Rural    0.016206\n",
       "dtype: float64"
      ]
     },
     "execution_count": 13,
     "metadata": {},
     "output_type": "execute_result"
    }
   ],
   "source": [
    "feature_importance[:10]"
   ]
  },
  {
   "cell_type": "code",
   "execution_count": 14,
   "metadata": {},
   "outputs": [
    {
     "name": "stdout",
     "output_type": "stream",
     "text": [
      "{'status': 'Requested', 'starttime': '2019-04-22T13:21:34.698248', 'endtime': None, 'percent_complete': 0, 'job_type': 'RunModel', 'loss': 0.5929335951805115, 'generations': 8, 'dataset_names': ['train_data.csv'], 'artifact_names': ['a9bd8d80593842bcb71ad03f3c75c093'], 'model_name': 'rating_model0120190422130830', 'job_error': None}\n",
      "{'status': 'Requested', 'starttime': '2019-04-22T13:21:34.698248', 'endtime': None, 'percent_complete': 0, 'job_type': 'RunModel', 'loss': 0.5929335951805115, 'generations': 8, 'dataset_names': ['train_data.csv'], 'artifact_names': ['a9bd8d80593842bcb71ad03f3c75c093'], 'model_name': 'rating_model0120190422130830', 'job_error': None}\n",
      "{'status': 'Complete', 'starttime': '2019-04-22T13:21:34.698248', 'endtime': '2019-04-22T13:22:00.438321', 'percent_complete': 100, 'job_type': 'RunModel', 'loss': 0.5929335951805115, 'generations': 8, 'dataset_names': ['train_data.csv'], 'artifact_names': ['a9bd8d80593842bcb71ad03f3c75c093'], 'model_name': 'rating_model0120190422130830', 'job_error': ''}\n"
     ]
    },
    {
     "data": {
      "text/plain": [
       "(True, 'Job completed')"
      ]
     },
     "execution_count": 14,
     "metadata": {},
     "output_type": "execute_result"
    }
   ],
   "source": [
    "status, artifact = ds.run_model(TRAIN_DATASET, model)\n",
    "sleep(1)\n",
    "ds.wait_for_job(artifact['job_name'])"
   ]
  },
  {
   "cell_type": "code",
   "execution_count": 15,
   "metadata": {},
   "outputs": [
    {
     "data": {
      "text/html": [
       "<div>\n",
       "<style scoped>\n",
       "    .dataframe tbody tr th:only-of-type {\n",
       "        vertical-align: middle;\n",
       "    }\n",
       "\n",
       "    .dataframe tbody tr th {\n",
       "        vertical-align: top;\n",
       "    }\n",
       "\n",
       "    .dataframe thead th {\n",
       "        text-align: right;\n",
       "    }\n",
       "</style>\n",
       "<table border=\"1\" class=\"dataframe\">\n",
       "  <thead>\n",
       "    <tr style=\"text-align: right;\">\n",
       "      <th></th>\n",
       "      <th>prob_Improvement Required</th>\n",
       "      <th>prob_Met Alternative Standard</th>\n",
       "      <th>prob_Met Standard</th>\n",
       "      <th>rating</th>\n",
       "    </tr>\n",
       "  </thead>\n",
       "  <tbody>\n",
       "    <tr>\n",
       "      <th>0</th>\n",
       "      <td>0.074601</td>\n",
       "      <td>0.000477</td>\n",
       "      <td>0.924922</td>\n",
       "      <td>Met Standard</td>\n",
       "    </tr>\n",
       "    <tr>\n",
       "      <th>1</th>\n",
       "      <td>0.008891</td>\n",
       "      <td>0.000012</td>\n",
       "      <td>0.991098</td>\n",
       "      <td>Met Standard</td>\n",
       "    </tr>\n",
       "    <tr>\n",
       "      <th>2</th>\n",
       "      <td>0.121333</td>\n",
       "      <td>0.002139</td>\n",
       "      <td>0.876529</td>\n",
       "      <td>Met Standard</td>\n",
       "    </tr>\n",
       "    <tr>\n",
       "      <th>3</th>\n",
       "      <td>0.060513</td>\n",
       "      <td>0.002553</td>\n",
       "      <td>0.936935</td>\n",
       "      <td>Met Standard</td>\n",
       "    </tr>\n",
       "    <tr>\n",
       "      <th>4</th>\n",
       "      <td>0.124485</td>\n",
       "      <td>0.001459</td>\n",
       "      <td>0.874057</td>\n",
       "      <td>Met Standard</td>\n",
       "    </tr>\n",
       "  </tbody>\n",
       "</table>\n",
       "</div>"
      ],
      "text/plain": [
       "   prob_Improvement Required  prob_Met Alternative Standard  \\\n",
       "0                   0.074601                       0.000477   \n",
       "1                   0.008891                       0.000012   \n",
       "2                   0.121333                       0.002139   \n",
       "3                   0.060513                       0.002553   \n",
       "4                   0.124485                       0.001459   \n",
       "\n",
       "   prob_Met Standard        rating  \n",
       "0           0.924922  Met Standard  \n",
       "1           0.991098  Met Standard  \n",
       "2           0.876529  Met Standard  \n",
       "3           0.936935  Met Standard  \n",
       "4           0.874057  Met Standard  "
      ]
     },
     "execution_count": 15,
     "metadata": {},
     "output_type": "execute_result"
    }
   ],
   "source": [
    "status, prediction = ds.download_artifact(artifact['artifact_name'])\n",
    "prediction.head()"
   ]
  },
  {
   "cell_type": "code",
   "execution_count": 16,
   "metadata": {},
   "outputs": [
    {
     "name": "stdout",
     "output_type": "stream",
     "text": [
      "                          precision    recall  f1-score   support\n",
      "\n",
      "    Improvement Required       1.00      0.96      0.98      2589\n",
      "Met Alternative Standard       1.00      1.00      1.00      2589\n",
      "            Met Standard       0.96      1.00      0.98      2589\n",
      "\n",
      "               micro avg       0.99      0.99      0.99      7767\n",
      "               macro avg       0.99      0.99      0.99      7767\n",
      "            weighted avg       0.99      0.99      0.99      7767\n",
      "\n"
     ]
    },
    {
     "data": {
      "image/png": "[encoded data removed]",
      "text/plain": [
       "<Figure size 432x288 with 1 Axes>"
      ]
     },
     "metadata": {
      "needs_background": "light"
     },
     "output_type": "display_data"
    }
   ],
   "source": [
    "unq = prediction[target].unique()[::-1]\n",
    "p = np.zeros((len(prediction),))\n",
    "a = np.zeros((len(prediction),))\n",
    "for i,q in enumerate(unq):\n",
    "    p += i*(prediction[target] == q).values\n",
    "    a += i*(train_df[target] == q).values\n",
    "#Plot predictions vs actual\n",
    "plt.plot(a)\n",
    "plt.plot(p)\n",
    "plt.legend(['Actual','Predicted'])\n",
    "plt.yticks([i for i in range(len(unq))],[q for q in unq]);\n",
    "print(classification_report(train_df[target], prediction[target]))"
   ]
  },
  {
   "cell_type": "code",
   "execution_count": 17,
   "metadata": {},
   "outputs": [],
   "source": [
    "#TEST DATASET\n",
    "status, message = ds.delete_dataset(TEST_DATASET)\n",
    "status, dataset = ds.upload_dataset( TEST_DATASET)\n",
    "if not status:\n",
    "    print(dataset)"
   ]
  },
  {
   "cell_type": "code",
   "execution_count": 18,
   "metadata": {},
   "outputs": [
    {
     "name": "stdout",
     "output_type": "stream",
     "text": [
      "{'status': 'Requested', 'starttime': '2019-04-22T13:22:08.97441', 'endtime': None, 'percent_complete': 0, 'job_type': 'CleanDataTiny', 'loss': None, 'generations': None, 'dataset_names': ['test_data.csv'], 'artifact_names': ['4a6baf0ee8294111b6667089e95f7ce2'], 'model_name': None, 'job_error': None}\n",
      "{'status': 'Requested', 'starttime': '2019-04-22T13:22:08.97441', 'endtime': None, 'percent_complete': 0, 'job_type': 'CleanDataTiny', 'loss': None, 'generations': None, 'dataset_names': ['test_data.csv'], 'artifact_names': ['4a6baf0ee8294111b6667089e95f7ce2'], 'model_name': None, 'job_error': None}\n",
      "{'status': 'Requested', 'starttime': '2019-04-22T13:22:08.97441', 'endtime': None, 'percent_complete': 0, 'job_type': 'CleanDataTiny', 'loss': None, 'generations': None, 'dataset_names': ['test_data.csv'], 'artifact_names': ['4a6baf0ee8294111b6667089e95f7ce2'], 'model_name': None, 'job_error': None}\n",
      "{'status': 'Requested', 'starttime': '2019-04-22T13:22:08.97441', 'endtime': None, 'percent_complete': 0, 'job_type': 'CleanDataTiny', 'loss': None, 'generations': None, 'dataset_names': ['test_data.csv'], 'artifact_names': ['4a6baf0ee8294111b6667089e95f7ce2'], 'model_name': None, 'job_error': None}\n",
      "{'status': 'Requested', 'starttime': '2019-04-22T13:22:08.97441', 'endtime': None, 'percent_complete': 0, 'job_type': 'CleanDataTiny', 'loss': None, 'generations': None, 'dataset_names': ['test_data.csv'], 'artifact_names': ['4a6baf0ee8294111b6667089e95f7ce2'], 'model_name': None, 'job_error': None}\n",
      "{'status': 'Requested', 'starttime': '2019-04-22T13:22:08.97441', 'endtime': None, 'percent_complete': 0, 'job_type': 'CleanDataTiny', 'loss': None, 'generations': None, 'dataset_names': ['test_data.csv'], 'artifact_names': ['4a6baf0ee8294111b6667089e95f7ce2'], 'model_name': None, 'job_error': None}\n",
      "{'status': 'Requested', 'starttime': '2019-04-22T13:22:08.97441', 'endtime': None, 'percent_complete': 0, 'job_type': 'CleanDataTiny', 'loss': None, 'generations': None, 'dataset_names': ['test_data.csv'], 'artifact_names': ['4a6baf0ee8294111b6667089e95f7ce2'], 'model_name': None, 'job_error': None}\n",
      "{'status': 'Requested', 'starttime': '2019-04-22T13:22:08.97441', 'endtime': None, 'percent_complete': 0, 'job_type': 'CleanDataTiny', 'loss': None, 'generations': None, 'dataset_names': ['test_data.csv'], 'artifact_names': ['4a6baf0ee8294111b6667089e95f7ce2'], 'model_name': None, 'job_error': None}\n",
      "{'status': 'Requested', 'starttime': '2019-04-22T13:22:08.97441', 'endtime': None, 'percent_complete': 0, 'job_type': 'CleanDataTiny', 'loss': None, 'generations': None, 'dataset_names': ['test_data.csv'], 'artifact_names': ['4a6baf0ee8294111b6667089e95f7ce2'], 'model_name': None, 'job_error': None}\n",
      "{'status': 'Requested', 'starttime': '2019-04-22T13:22:08.97441', 'endtime': None, 'percent_complete': 0, 'job_type': 'CleanDataTiny', 'loss': None, 'generations': None, 'dataset_names': ['test_data.csv'], 'artifact_names': ['4a6baf0ee8294111b6667089e95f7ce2'], 'model_name': None, 'job_error': None}\n",
      "{'status': 'Requested', 'starttime': '2019-04-22T13:22:08.97441', 'endtime': None, 'percent_complete': 0, 'job_type': 'CleanDataTiny', 'loss': None, 'generations': None, 'dataset_names': ['test_data.csv'], 'artifact_names': ['4a6baf0ee8294111b6667089e95f7ce2'], 'model_name': None, 'job_error': None}\n",
      "{'status': 'Requested', 'starttime': '2019-04-22T13:22:08.97441', 'endtime': None, 'percent_complete': 0, 'job_type': 'CleanDataTiny', 'loss': None, 'generations': None, 'dataset_names': ['test_data.csv'], 'artifact_names': ['4a6baf0ee8294111b6667089e95f7ce2'], 'model_name': None, 'job_error': None}\n",
      "{'status': 'Requested', 'starttime': '2019-04-22T13:22:08.97441', 'endtime': None, 'percent_complete': 0, 'job_type': 'CleanDataTiny', 'loss': None, 'generations': None, 'dataset_names': ['test_data.csv'], 'artifact_names': ['4a6baf0ee8294111b6667089e95f7ce2'], 'model_name': None, 'job_error': None}\n",
      "{'status': 'Requested', 'starttime': '2019-04-22T13:22:08.97441', 'endtime': None, 'percent_complete': 0, 'job_type': 'CleanDataTiny', 'loss': None, 'generations': None, 'dataset_names': ['test_data.csv'], 'artifact_names': ['4a6baf0ee8294111b6667089e95f7ce2'], 'model_name': None, 'job_error': None}\n",
      "{'status': 'Requested', 'starttime': '2019-04-22T13:22:08.97441', 'endtime': None, 'percent_complete': 0, 'job_type': 'CleanDataTiny', 'loss': None, 'generations': None, 'dataset_names': ['test_data.csv'], 'artifact_names': ['4a6baf0ee8294111b6667089e95f7ce2'], 'model_name': None, 'job_error': None}\n",
      "{'status': 'Requested', 'starttime': '2019-04-22T13:22:08.97441', 'endtime': None, 'percent_complete': 0, 'job_type': 'CleanDataTiny', 'loss': None, 'generations': None, 'dataset_names': ['test_data.csv'], 'artifact_names': ['4a6baf0ee8294111b6667089e95f7ce2'], 'model_name': None, 'job_error': None}\n",
      "{'status': 'Requested', 'starttime': '2019-04-22T13:22:08.97441', 'endtime': None, 'percent_complete': 0, 'job_type': 'CleanDataTiny', 'loss': None, 'generations': None, 'dataset_names': ['test_data.csv'], 'artifact_names': ['4a6baf0ee8294111b6667089e95f7ce2'], 'model_name': None, 'job_error': None}\n",
      "{'status': 'Requested', 'starttime': '2019-04-22T13:22:08.97441', 'endtime': None, 'percent_complete': 0, 'job_type': 'CleanDataTiny', 'loss': None, 'generations': None, 'dataset_names': ['test_data.csv'], 'artifact_names': ['4a6baf0ee8294111b6667089e95f7ce2'], 'model_name': None, 'job_error': None}\n",
      "{'status': 'Requested', 'starttime': '2019-04-22T13:22:08.97441', 'endtime': None, 'percent_complete': 0, 'job_type': 'CleanDataTiny', 'loss': None, 'generations': None, 'dataset_names': ['test_data.csv'], 'artifact_names': ['4a6baf0ee8294111b6667089e95f7ce2'], 'model_name': None, 'job_error': None}\n",
      "{'status': 'Failed', 'starttime': '2019-04-22T13:22:08.97441', 'endtime': '2019-04-22T13:26:46.74422', 'percent_complete': 100, 'job_type': 'CleanDataTiny', 'loss': None, 'generations': None, 'dataset_names': ['test_data.csv'], 'artifact_names': ['4a6baf0ee8294111b6667089e95f7ce2'], 'model_name': None, 'job_error': \"ColumnHeaderMismatch: Dataset missing column(s) : {'15', '11', '19', '7', '12', '1', '13', '10', '4', '3', '0', '8', '9', '23', '2', '16', '20', '17', '21', '5', '18', '22', '6', '14'}\"}\n"
     ]
    }
   ],
   "source": [
    "status, job_id = ds.clean_data(TEST_DATASET, target = target, model_name = model)\n",
    "\n",
    "if status:\n",
    "    ds.wait_for_job(job_id['job_name'])\n",
    "else:\n",
    "    print(job_id)"
   ]
  },
  {
   "cell_type": "code",
   "execution_count": 19,
   "metadata": {},
   "outputs": [
    {
     "name": "stdout",
     "output_type": "stream",
     "text": [
      "{'status': 'Requested', 'starttime': '2019-04-22T13:26:56.340818', 'endtime': None, 'percent_complete': 0, 'job_type': 'RunModel', 'loss': 0.5929335951805115, 'generations': 8, 'dataset_names': ['test_data.csv'], 'artifact_names': ['2186e8aa4e7944bc85d8b600d16235c0'], 'model_name': 'rating_model0120190422130830', 'job_error': None}\n",
      "{'status': 'Requested', 'starttime': '2019-04-22T13:26:56.340818', 'endtime': None, 'percent_complete': 0, 'job_type': 'RunModel', 'loss': 0.5929335951805115, 'generations': 8, 'dataset_names': ['test_data.csv'], 'artifact_names': ['2186e8aa4e7944bc85d8b600d16235c0'], 'model_name': 'rating_model0120190422130830', 'job_error': None}\n",
      "{'status': 'Requested', 'starttime': '2019-04-22T13:26:56.340818', 'endtime': None, 'percent_complete': 0, 'job_type': 'RunModel', 'loss': 0.5929335951805115, 'generations': 8, 'dataset_names': ['test_data.csv'], 'artifact_names': ['2186e8aa4e7944bc85d8b600d16235c0'], 'model_name': 'rating_model0120190422130830', 'job_error': None}\n",
      "{'status': 'Requested', 'starttime': '2019-04-22T13:26:56.340818', 'endtime': None, 'percent_complete': 0, 'job_type': 'RunModel', 'loss': 0.5929335951805115, 'generations': 8, 'dataset_names': ['test_data.csv'], 'artifact_names': ['2186e8aa4e7944bc85d8b600d16235c0'], 'model_name': 'rating_model0120190422130830', 'job_error': None}\n",
      "{'status': 'Requested', 'starttime': '2019-04-22T13:26:56.340818', 'endtime': None, 'percent_complete': 0, 'job_type': 'RunModel', 'loss': 0.5929335951805115, 'generations': 8, 'dataset_names': ['test_data.csv'], 'artifact_names': ['2186e8aa4e7944bc85d8b600d16235c0'], 'model_name': 'rating_model0120190422130830', 'job_error': None}\n",
      "{'status': 'Requested', 'starttime': '2019-04-22T13:26:56.340818', 'endtime': None, 'percent_complete': 0, 'job_type': 'RunModel', 'loss': 0.5929335951805115, 'generations': 8, 'dataset_names': ['test_data.csv'], 'artifact_names': ['2186e8aa4e7944bc85d8b600d16235c0'], 'model_name': 'rating_model0120190422130830', 'job_error': None}\n",
      "{'status': 'Requested', 'starttime': '2019-04-22T13:26:56.340818', 'endtime': None, 'percent_complete': 0, 'job_type': 'RunModel', 'loss': 0.5929335951805115, 'generations': 8, 'dataset_names': ['test_data.csv'], 'artifact_names': ['2186e8aa4e7944bc85d8b600d16235c0'], 'model_name': 'rating_model0120190422130830', 'job_error': None}\n",
      "{'status': 'Requested', 'starttime': '2019-04-22T13:26:56.340818', 'endtime': None, 'percent_complete': 0, 'job_type': 'RunModel', 'loss': 0.5929335951805115, 'generations': 8, 'dataset_names': ['test_data.csv'], 'artifact_names': ['2186e8aa4e7944bc85d8b600d16235c0'], 'model_name': 'rating_model0120190422130830', 'job_error': None}\n",
      "{'status': 'Requested', 'starttime': '2019-04-22T13:26:56.340818', 'endtime': None, 'percent_complete': 0, 'job_type': 'RunModel', 'loss': 0.5929335951805115, 'generations': 8, 'dataset_names': ['test_data.csv'], 'artifact_names': ['2186e8aa4e7944bc85d8b600d16235c0'], 'model_name': 'rating_model0120190422130830', 'job_error': None}\n",
      "{'status': 'Requested', 'starttime': '2019-04-22T13:26:56.340818', 'endtime': None, 'percent_complete': 0, 'job_type': 'RunModel', 'loss': 0.5929335951805115, 'generations': 8, 'dataset_names': ['test_data.csv'], 'artifact_names': ['2186e8aa4e7944bc85d8b600d16235c0'], 'model_name': 'rating_model0120190422130830', 'job_error': None}\n",
      "{'status': 'Requested', 'starttime': '2019-04-22T13:26:56.340818', 'endtime': None, 'percent_complete': 0, 'job_type': 'RunModel', 'loss': 0.5929335951805115, 'generations': 8, 'dataset_names': ['test_data.csv'], 'artifact_names': ['2186e8aa4e7944bc85d8b600d16235c0'], 'model_name': 'rating_model0120190422130830', 'job_error': None}\n",
      "{'status': 'Requested', 'starttime': '2019-04-22T13:26:56.340818', 'endtime': None, 'percent_complete': 0, 'job_type': 'RunModel', 'loss': 0.5929335951805115, 'generations': 8, 'dataset_names': ['test_data.csv'], 'artifact_names': ['2186e8aa4e7944bc85d8b600d16235c0'], 'model_name': 'rating_model0120190422130830', 'job_error': None}\n",
      "{'status': 'Requested', 'starttime': '2019-04-22T13:26:56.340818', 'endtime': None, 'percent_complete': 0, 'job_type': 'RunModel', 'loss': 0.5929335951805115, 'generations': 8, 'dataset_names': ['test_data.csv'], 'artifact_names': ['2186e8aa4e7944bc85d8b600d16235c0'], 'model_name': 'rating_model0120190422130830', 'job_error': None}\n",
      "{'status': 'Requested', 'starttime': '2019-04-22T13:26:56.340818', 'endtime': None, 'percent_complete': 0, 'job_type': 'RunModel', 'loss': 0.5929335951805115, 'generations': 8, 'dataset_names': ['test_data.csv'], 'artifact_names': ['2186e8aa4e7944bc85d8b600d16235c0'], 'model_name': 'rating_model0120190422130830', 'job_error': None}\n",
      "{'status': 'Requested', 'starttime': '2019-04-22T13:26:56.340818', 'endtime': None, 'percent_complete': 0, 'job_type': 'RunModel', 'loss': 0.5929335951805115, 'generations': 8, 'dataset_names': ['test_data.csv'], 'artifact_names': ['2186e8aa4e7944bc85d8b600d16235c0'], 'model_name': 'rating_model0120190422130830', 'job_error': None}\n",
      "{'status': 'Requested', 'starttime': '2019-04-22T13:26:56.340818', 'endtime': None, 'percent_complete': 0, 'job_type': 'RunModel', 'loss': 0.5929335951805115, 'generations': 8, 'dataset_names': ['test_data.csv'], 'artifact_names': ['2186e8aa4e7944bc85d8b600d16235c0'], 'model_name': 'rating_model0120190422130830', 'job_error': None}\n",
      "{'status': 'Requested', 'starttime': '2019-04-22T13:26:56.340818', 'endtime': None, 'percent_complete': 0, 'job_type': 'RunModel', 'loss': 0.5929335951805115, 'generations': 8, 'dataset_names': ['test_data.csv'], 'artifact_names': ['2186e8aa4e7944bc85d8b600d16235c0'], 'model_name': 'rating_model0120190422130830', 'job_error': None}\n",
      "{'status': 'Requested', 'starttime': '2019-04-22T13:26:56.340818', 'endtime': None, 'percent_complete': 0, 'job_type': 'RunModel', 'loss': 0.5929335951805115, 'generations': 8, 'dataset_names': ['test_data.csv'], 'artifact_names': ['2186e8aa4e7944bc85d8b600d16235c0'], 'model_name': 'rating_model0120190422130830', 'job_error': None}\n",
      "{'status': 'Running', 'starttime': '2019-04-22T13:26:56.340818', 'endtime': None, 'percent_complete': 0, 'job_type': 'RunModel', 'loss': 0.5929335951805115, 'generations': 8, 'dataset_names': ['test_data.csv'], 'artifact_names': ['2186e8aa4e7944bc85d8b600d16235c0'], 'model_name': 'rating_model0120190422130830', 'job_error': ''}\n",
      "{'status': 'Failed', 'starttime': '2019-04-22T13:26:56.340818', 'endtime': '2019-04-22T13:31:39.090849', 'percent_complete': 100, 'job_type': 'RunModel', 'loss': 0.5929335951805115, 'generations': 8, 'dataset_names': ['test_data.csv'], 'artifact_names': ['2186e8aa4e7944bc85d8b600d16235c0'], 'model_name': 'rating_model0120190422130830', 'job_error': 'FailedDownload: Failed to download entity of type Object from location artifacts/dc6bd3ca-4f34-11e9-ba76-4318af6b754c_4a6baf0ee8294111b6667089e95f7ce2/data.csv'}\n"
     ]
    },
    {
     "data": {
      "text/plain": [
       "(False,\n",
       " {'status': 'Failed',\n",
       "  'starttime': '2019-04-22T13:26:56.340818',\n",
       "  'endtime': '2019-04-22T13:31:39.090849',\n",
       "  'percent_complete': 100,\n",
       "  'job_type': 'RunModel',\n",
       "  'loss': 0.5929335951805115,\n",
       "  'generations': 8,\n",
       "  'dataset_names': ['test_data.csv'],\n",
       "  'artifact_names': ['2186e8aa4e7944bc85d8b600d16235c0'],\n",
       "  'model_name': 'rating_model0120190422130830',\n",
       "  'job_error': 'FailedDownload: Failed to download entity of type Object from location artifacts/dc6bd3ca-4f34-11e9-ba76-4318af6b754c_4a6baf0ee8294111b6667089e95f7ce2/data.csv'})"
      ]
     },
     "execution_count": 19,
     "metadata": {},
     "output_type": "execute_result"
    }
   ],
   "source": [
    "status, artifact = ds.run_model(TEST_DATASET, model)\n",
    "sleep(1)\n",
    "ds.wait_for_job(artifact['job_name'])"
   ]
  },
  {
   "cell_type": "code",
   "execution_count": 20,
   "metadata": {},
   "outputs": [
    {
     "ename": "TypeError",
     "evalue": "string indices must be integers",
     "output_type": "error",
     "traceback": [
      "\u001b[0;31m---------------------------------------------------------------------------\u001b[0m",
      "\u001b[0;31mTypeError\u001b[0m                                 Traceback (most recent call last)",
      "\u001b[0;32m<ipython-input-20-cecb734a350c>\u001b[0m in \u001b[0;36m<module>\u001b[0;34m\u001b[0m\n\u001b[1;32m      2\u001b[0m \u001b[0mstatus\u001b[0m\u001b[0;34m,\u001b[0m \u001b[0mprediction\u001b[0m \u001b[0;34m=\u001b[0m \u001b[0mds\u001b[0m\u001b[0;34m.\u001b[0m\u001b[0mdownload_artifact\u001b[0m\u001b[0;34m(\u001b[0m\u001b[0martifact\u001b[0m\u001b[0;34m[\u001b[0m\u001b[0;34m'artifact_name'\u001b[0m\u001b[0;34m]\u001b[0m\u001b[0;34m)\u001b[0m\u001b[0;34m\u001b[0m\u001b[0;34m\u001b[0m\u001b[0m\n\u001b[1;32m      3\u001b[0m \u001b[0mdf\u001b[0m \u001b[0;34m=\u001b[0m \u001b[0mpd\u001b[0m\u001b[0;34m.\u001b[0m\u001b[0mread_csv\u001b[0m\u001b[0;34m(\u001b[0m\u001b[0mTEST_DATASET\u001b[0m\u001b[0;34m)\u001b[0m\u001b[0;34m\u001b[0m\u001b[0;34m\u001b[0m\u001b[0m\n\u001b[0;32m----> 4\u001b[0;31m \u001b[0munq\u001b[0m \u001b[0;34m=\u001b[0m \u001b[0mprediction\u001b[0m\u001b[0;34m[\u001b[0m\u001b[0mtarget\u001b[0m\u001b[0;34m]\u001b[0m\u001b[0;34m.\u001b[0m\u001b[0munique\u001b[0m\u001b[0;34m(\u001b[0m\u001b[0;34m)\u001b[0m\u001b[0;34m[\u001b[0m\u001b[0;34m:\u001b[0m\u001b[0;34m:\u001b[0m\u001b[0;34m-\u001b[0m\u001b[0;36m1\u001b[0m\u001b[0;34m]\u001b[0m\u001b[0;34m\u001b[0m\u001b[0;34m\u001b[0m\u001b[0m\n\u001b[0m\u001b[1;32m      5\u001b[0m \u001b[0mp\u001b[0m \u001b[0;34m=\u001b[0m \u001b[0mnp\u001b[0m\u001b[0;34m.\u001b[0m\u001b[0mzeros\u001b[0m\u001b[0;34m(\u001b[0m\u001b[0;34m(\u001b[0m\u001b[0mlen\u001b[0m\u001b[0;34m(\u001b[0m\u001b[0mprediction\u001b[0m\u001b[0;34m)\u001b[0m\u001b[0;34m,\u001b[0m\u001b[0;34m)\u001b[0m\u001b[0;34m)\u001b[0m\u001b[0;34m\u001b[0m\u001b[0;34m\u001b[0m\u001b[0m\n\u001b[1;32m      6\u001b[0m \u001b[0ma\u001b[0m \u001b[0;34m=\u001b[0m \u001b[0mnp\u001b[0m\u001b[0;34m.\u001b[0m\u001b[0mzeros\u001b[0m\u001b[0;34m(\u001b[0m\u001b[0;34m(\u001b[0m\u001b[0mlen\u001b[0m\u001b[0;34m(\u001b[0m\u001b[0mprediction\u001b[0m\u001b[0;34m)\u001b[0m\u001b[0;34m,\u001b[0m\u001b[0;34m)\u001b[0m\u001b[0;34m)\u001b[0m\u001b[0;34m\u001b[0m\u001b[0;34m\u001b[0m\u001b[0m\n",
      "\u001b[0;31mTypeError\u001b[0m: string indices must be integers"
     ]
    }
   ],
   "source": [
    "# Create plots comparing predictions with actual target\n",
    "status, prediction = ds.download_artifact(artifact['artifact_name'])\n",
    "df = pd.read_csv(TEST_DATASET)\n",
    "unq = prediction[target].unique()[::-1]\n",
    "p = np.zeros((len(prediction),))\n",
    "a = np.zeros((len(prediction),))\n",
    "for i,q in enumerate(unq):\n",
    "    p += i*(prediction[target] == q).values\n",
    "    a += i*(df[target] == q).values\n",
    "#Plot predictions vs actual\n",
    "plt.plot(a)\n",
    "plt.plot(p)\n",
    "plt.legend(['Actual','Predicted'])\n",
    "plt.yticks([i for i in range(len(unq))],[q for q in unq]);\n",
    "print(classification_report(df[target], prediction[target]))"
   ]
  },
  {
   "cell_type": "code",
   "execution_count": null,
   "metadata": {},
   "outputs": [],
   "source": []
  },
  {
   "cell_type": "code",
   "execution_count": null,
   "metadata": {},
   "outputs": [],
   "source": []
  }
 ],
 "metadata": {
  "kernelspec": {
   "display_name": "Python 3",
   "language": "python",
   "name": "python3"
  },
  "language_info": {
   "codemirror_mode": {
    "name": "ipython",
    "version": 3
   },
   "file_extension": ".py",
   "mimetype": "text/x-python",
   "name": "python",
   "nbconvert_exporter": "python",
   "pygments_lexer": "ipython3",
   "version": "3.7.1"
  }
 },
 "nbformat": 4,
 "nbformat_minor": 2
}
