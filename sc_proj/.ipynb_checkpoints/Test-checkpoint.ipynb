{
 "cells": [
  {
   "cell_type": "code",
   "execution_count": 1,
   "metadata": {},
   "outputs": [],
   "source": [
    "# Import necessary libraries\n",
    "import warnings\n",
    "warnings.filterwarnings(\"ignore\", message=\"numpy.dtype size changed\")\n",
    "%matplotlib inline\n",
    "import matplotlib.pyplot as plt\n",
    "import pandas as pd\n",
    "from IPython.display import Image\n",
    "from time import sleep\n",
    "import os\n",
    "import numpy as np\n",
    "from sklearn.metrics import classification_report\n",
    "\n",
    "from amb_sdk.sdk import DarwinSdk\n",
    "import datetime\n",
    "ts = '{:%Y%m%d%H%M%S}'.format(datetime.datetime.now())"
   ]
  },
  {
   "cell_type": "code",
   "execution_count": 2,
   "metadata": {
    "scrolled": true
   },
   "outputs": [
    {
     "name": "stdout",
     "output_type": "stream",
     "text": [
      "You are logged in!\n"
     ]
    }
   ],
   "source": [
    "# Login\n",
    "from login import username, password\n",
    "ds = DarwinSdk()\n",
    "ds.set_url('https://amb-demo-api.sparkcognition.com/v1/')\n",
    "status, msg = ds.auth_login_user(username, password)\n",
    "\n",
    "if not status:\n",
    "    print(msg)\n",
    "else:\n",
    "    print('You are logged in!')"
   ]
  },
  {
   "cell_type": "code",
   "execution_count": 3,
   "metadata": {},
   "outputs": [],
   "source": [
    "def get_formatted_dataframe(xls_file, year):\n",
    "    df = pd.read_excel(xls_file)\n",
    "    df = df[['DZRATING', 'DZCAMPUS','DPETALLC','DA0AT' + str(year) + 'R', 'DA0912DR' + str(year) + 'R','DAGC4X' + str(year) + 'R','DAGC5X' + str(year - 1) + 'R','DA0GR' + str(year) + 'N','DA0CT' + str(year) + 'R','DA0CC' + str(year) + 'R','DA0CSA' + str(year) + 'R','DA0CAA' + str(year) + 'R','DPSTTOSA','DPSTEXPA','DPFRAALLT','DPFRAALLK','DPFRASTAP','DZRVLOCP','DPFRAFEDP','DPFEAINST','DPFEAINSK','DISTSIZE','COMMTYPE', 'PROPWLTH', 'TAXRATE']]\n",
    "    df = df.rename(index=str, columns = {\"DZRATING\":\"rating\", \"DZCAMPUS\":\"num_schools\", \"DPETALLC\":\"num_students\", \"DA0AT\" + str(year) + \"R\":\"attendance_rate\", \"DA0912DR\" + str(year) + \"R\":\"dropout_rate\", \"DAGC4X\" + str(year) + \"R\":\"grad_rate_4_year\", \"DAGC5X\" + str(year - 1) + \"R\":\"grad_rate_5_year\", \"DA0GR\" + str(year) + \"N\":\"annual_grad_count\", \"DA0CT\" + str(year) + \"R\":\"college_admissions_per_tested\", \"DA0CC\" + str(year) + \"R\":\"college_admissions_at_crit\", \"DA0CSA\" + str(year) + \"R\":\"average_sat\", \"DA0CAA\" + str(year) + \"R\":\"average_act\", \"DPSTTOSA\":\"average_teacher_salary\", \"DPSTEXPA\":\"average_teacher_exp\", \"DPFRAALLT\":\"total_revenue\", \"DPFRAALLK\":\"total_revenue_per_pupil\", \"DPFRASTAP\":\"percent_revenue_from_state\", \"DZRVLOCP\":\"percent_revenue_from_local\", \"DPFRAFEDP\":\"percent_revenue_from_federal\", \"DPFEAINST\":\"instr_expenditures\", \"DPFEAINSK\":\"instr_expenditures_per_pupil\", \"DISTSIZE\":\"district_size\", \"COMMTYPE\":\"community_type\", \"PROPWLTH\":\"property_wealth\", \"TAXRATE\":\"tax_rate\"})\n",
    "    return df"
   ]
  },
  {
   "cell_type": "code",
   "execution_count": 4,
   "metadata": {},
   "outputs": [
    {
     "name": "stdout",
     "output_type": "stream",
     "text": [
      "Test dataframe shape: (1190, 25)\n",
      "Train dataframe shape: (3618, 25)\n"
     ]
    }
   ],
   "source": [
    "test_df = get_formatted_dataframe('2016-2017.xls', 16)\n",
    "train_df = get_formatted_dataframe('2015-2016.xls',15)\n",
    "train_df = train_df.append(get_formatted_dataframe('2014-2015.xls',14))\n",
    "train_df = train_df.append(get_formatted_dataframe('2013-2014.xls',13))\n",
    "train_df = train_df.loc[(train_df['rating'] == \"Met Standard\") | (train_df['rating'] == \"Met Alternative Standard\") |(train_df['rating'] == \"Improvement Required\")]\n",
    "test_df = test_df.loc[(test_df['rating'] == \"Met Standard\") | (test_df['rating'] == \"Met Alternative Standard\") |(test_df['rating'] == \"Improvement Required\")]\n",
    "print('Test dataframe shape:', test_df.shape)\n",
    "print('Train dataframe shape:', train_df.shape)"
   ]
  },
  {
   "cell_type": "code",
   "execution_count": 5,
   "metadata": {},
   "outputs": [],
   "source": [
    "#Dealing with class imbalance\n"
   ]
  },
  {
   "cell_type": "code",
   "execution_count": 6,
   "metadata": {},
   "outputs": [],
   "source": [
    "test_df.to_csv('test_data.csv')\n",
    "train_df.to_csv('train_data.csv')"
   ]
  },
  {
   "cell_type": "code",
   "execution_count": 7,
   "metadata": {},
   "outputs": [],
   "source": [
    "TRAIN_DATASET='train_data.csv'\n",
    "TEST_DATASET = 'test_data.csv'\n",
    "train_df = pd.read_csv('train_data.csv')\n",
    "test_df = pd.read_csv('test_data.csv')\n",
    "status, message = ds.delete_dataset(TRAIN_DATASET)\n",
    "status, dataset = ds.upload_dataset( TRAIN_DATASET)\n",
    "if not status:\n",
    "    print(dataset)"
   ]
  },
  {
   "cell_type": "code",
   "execution_count": 8,
   "metadata": {},
   "outputs": [
    {
     "name": "stdout",
     "output_type": "stream",
     "text": [
      "{'status': 'Requested', 'starttime': '2019-04-19T14:26:08.849949', 'endtime': None, 'percent_complete': 0, 'job_type': 'CleanDataTiny', 'loss': None, 'generations': None, 'dataset_names': ['train_data.csv'], 'artifact_names': ['307abe94ffb04bec8c82bfb83073136e'], 'model_name': None, 'job_error': None}\n",
      "{'status': 'Complete', 'starttime': '2019-04-19T14:26:08.849949', 'endtime': '2019-04-19T14:26:11.920513', 'percent_complete': 100, 'job_type': 'CleanDataTiny', 'loss': None, 'generations': None, 'dataset_names': ['train_data.csv'], 'artifact_names': ['307abe94ffb04bec8c82bfb83073136e'], 'model_name': None, 'job_error': ''}\n"
     ]
    }
   ],
   "source": [
    "#clean train_Set\n",
    "target = \"rating\"\n",
    "status, job_id = ds.clean_data(TRAIN_DATASET, target = target)\n",
    "if status:\n",
    "    ds.wait_for_job(job_id['job_name'])\n",
    "else:\n",
    "    print(job_id)"
   ]
  },
  {
   "cell_type": "code",
   "execution_count": 9,
   "metadata": {
    "scrolled": true
   },
   "outputs": [
    {
     "name": "stdout",
     "output_type": "stream",
     "text": [
      "{'status': 'Requested', 'starttime': '2019-04-19T14:26:25.092753', 'endtime': None, 'percent_complete': 0, 'job_type': 'TrainModel', 'loss': None, 'generations': 0, 'dataset_names': ['train_data.csv'], 'artifact_names': None, 'model_name': 'rating_model0120190419142556', 'job_error': None}\n",
      "{'status': 'Running', 'starttime': '2019-04-19T14:26:25.092753', 'endtime': None, 'percent_complete': 2, 'job_type': 'TrainModel', 'loss': 0.644415020942688, 'generations': 4, 'dataset_names': ['train_data.csv'], 'artifact_names': None, 'model_name': 'rating_model0120190419142556', 'job_error': ''}\n",
      "{'status': 'Running', 'starttime': '2019-04-19T14:26:25.092753', 'endtime': None, 'percent_complete': 2, 'job_type': 'TrainModel', 'loss': 0.644415020942688, 'generations': 4, 'dataset_names': ['train_data.csv'], 'artifact_names': None, 'model_name': 'rating_model0120190419142556', 'job_error': ''}\n",
      "{'status': 'Running', 'starttime': '2019-04-19T14:26:25.092753', 'endtime': None, 'percent_complete': 2, 'job_type': 'TrainModel', 'loss': 0.644415020942688, 'generations': 4, 'dataset_names': ['train_data.csv'], 'artifact_names': None, 'model_name': 'rating_model0120190419142556', 'job_error': ''}\n",
      "{'status': 'Running', 'starttime': '2019-04-19T14:26:25.092753', 'endtime': None, 'percent_complete': 2, 'job_type': 'TrainModel', 'loss': 0.644415020942688, 'generations': 4, 'dataset_names': ['train_data.csv'], 'artifact_names': None, 'model_name': 'rating_model0120190419142556', 'job_error': ''}\n",
      "{'status': 'Running', 'starttime': '2019-04-19T14:26:25.092753', 'endtime': None, 'percent_complete': 2, 'job_type': 'TrainModel', 'loss': 0.644415020942688, 'generations': 4, 'dataset_names': ['train_data.csv'], 'artifact_names': None, 'model_name': 'rating_model0120190419142556', 'job_error': ''}\n",
      "{'status': 'Running', 'starttime': '2019-04-19T14:26:25.092753', 'endtime': None, 'percent_complete': 2, 'job_type': 'TrainModel', 'loss': 0.644415020942688, 'generations': 4, 'dataset_names': ['train_data.csv'], 'artifact_names': None, 'model_name': 'rating_model0120190419142556', 'job_error': ''}\n",
      "{'status': 'Running', 'starttime': '2019-04-19T14:26:25.092753', 'endtime': None, 'percent_complete': 20, 'job_type': 'TrainModel', 'loss': 0.644415020942688, 'generations': 4, 'dataset_names': ['train_data.csv'], 'artifact_names': None, 'model_name': 'rating_model0120190419142556', 'job_error': ''}\n",
      "{'status': 'Running', 'starttime': '2019-04-19T14:26:25.092753', 'endtime': None, 'percent_complete': 28, 'job_type': 'TrainModel', 'loss': 0.644415020942688, 'generations': 4, 'dataset_names': ['train_data.csv'], 'artifact_names': None, 'model_name': 'rating_model0120190419142556', 'job_error': ''}\n",
      "{'status': 'Running', 'starttime': '2019-04-19T14:26:25.092753', 'endtime': None, 'percent_complete': 28, 'job_type': 'TrainModel', 'loss': 0.644415020942688, 'generations': 4, 'dataset_names': ['train_data.csv'], 'artifact_names': None, 'model_name': 'rating_model0120190419142556', 'job_error': ''}\n",
      "{'status': 'Running', 'starttime': '2019-04-19T14:26:25.092753', 'endtime': None, 'percent_complete': 37, 'job_type': 'TrainModel', 'loss': 0.644415020942688, 'generations': 4, 'dataset_names': ['train_data.csv'], 'artifact_names': None, 'model_name': 'rating_model0120190419142556', 'job_error': ''}\n",
      "{'status': 'Running', 'starttime': '2019-04-19T14:26:25.092753', 'endtime': None, 'percent_complete': 37, 'job_type': 'TrainModel', 'loss': 0.644415020942688, 'generations': 4, 'dataset_names': ['train_data.csv'], 'artifact_names': None, 'model_name': 'rating_model0120190419142556', 'job_error': ''}\n",
      "{'status': 'Running', 'starttime': '2019-04-19T14:26:25.092753', 'endtime': None, 'percent_complete': 44, 'job_type': 'TrainModel', 'loss': 0.644415020942688, 'generations': 4, 'dataset_names': ['train_data.csv'], 'artifact_names': None, 'model_name': 'rating_model0120190419142556', 'job_error': ''}\n",
      "{'status': 'Running', 'starttime': '2019-04-19T14:26:25.092753', 'endtime': None, 'percent_complete': 44, 'job_type': 'TrainModel', 'loss': 0.644415020942688, 'generations': 4, 'dataset_names': ['train_data.csv'], 'artifact_names': None, 'model_name': 'rating_model0120190419142556', 'job_error': ''}\n",
      "{'status': 'Running', 'starttime': '2019-04-19T14:26:25.092753', 'endtime': None, 'percent_complete': 55, 'job_type': 'TrainModel', 'loss': 0.644415020942688, 'generations': 4, 'dataset_names': ['train_data.csv'], 'artifact_names': None, 'model_name': 'rating_model0120190419142556', 'job_error': ''}\n",
      "{'status': 'Running', 'starttime': '2019-04-19T14:26:25.092753', 'endtime': None, 'percent_complete': 60, 'job_type': 'TrainModel', 'loss': 0.1981218457221985, 'generations': 5, 'dataset_names': ['train_data.csv'], 'artifact_names': None, 'model_name': 'rating_model0120190419142556', 'job_error': ''}\n",
      "{'status': 'Running', 'starttime': '2019-04-19T14:26:25.092753', 'endtime': None, 'percent_complete': 60, 'job_type': 'TrainModel', 'loss': 0.1981218457221985, 'generations': 5, 'dataset_names': ['train_data.csv'], 'artifact_names': None, 'model_name': 'rating_model0120190419142556', 'job_error': ''}\n",
      "{'status': 'Running', 'starttime': '2019-04-19T14:26:25.092753', 'endtime': None, 'percent_complete': 70, 'job_type': 'TrainModel', 'loss': 0.1981218457221985, 'generations': 6, 'dataset_names': ['train_data.csv'], 'artifact_names': None, 'model_name': 'rating_model0120190419142556', 'job_error': ''}\n",
      "{'status': 'Running', 'starttime': '2019-04-19T14:26:25.092753', 'endtime': None, 'percent_complete': 72, 'job_type': 'TrainModel', 'loss': 0.1981218457221985, 'generations': 7, 'dataset_names': ['train_data.csv'], 'artifact_names': None, 'model_name': 'rating_model0120190419142556', 'job_error': ''}\n",
      "{'status': 'Running', 'starttime': '2019-04-19T14:26:25.092753', 'endtime': None, 'percent_complete': 72, 'job_type': 'TrainModel', 'loss': 0.1981218457221985, 'generations': 7, 'dataset_names': ['train_data.csv'], 'artifact_names': None, 'model_name': 'rating_model0120190419142556', 'job_error': ''}\n",
      "{'status': 'Complete', 'starttime': '2019-04-19T14:26:25.092753', 'endtime': '2019-04-19T14:31:19.518834', 'percent_complete': 100, 'job_type': 'TrainModel', 'loss': 0.1981218457221985, 'generations': 7, 'dataset_names': ['train_data.csv'], 'artifact_names': None, 'model_name': 'rating_model0120190419142556', 'job_error': ''}\n"
     ]
    }
   ],
   "source": [
    "model = target + \"_model01\" + ts\n",
    "status, job_id = ds.create_model(dataset_names = TRAIN_DATASET, \\\n",
    "                                 model_name =  model, \\\n",
    "                                 max_train_time = '00:05')\n",
    "if status:\n",
    "    ds.wait_for_job(job_id['job_name'])\n",
    "else:\n",
    "    print(job_id)"
   ]
  },
  {
   "cell_type": "code",
   "execution_count": 10,
   "metadata": {},
   "outputs": [
    {
     "name": "stdout",
     "output_type": "stream",
     "text": [
      "{'status': 'Running', 'starttime': '2019-04-19T14:31:27.500249', 'endtime': None, 'percent_complete': 0, 'job_type': 'AnalyzeModel', 'loss': 0.1981218457221985, 'generations': 7, 'dataset_names': None, 'artifact_names': ['99ed202385b446b28d5dc6bba680ff61'], 'model_name': 'rating_model0120190419142556', 'job_error': ''}\n",
      "{'status': 'Complete', 'starttime': '2019-04-19T14:31:27.500249', 'endtime': '2019-04-19T14:31:29.012524', 'percent_complete': 100, 'job_type': 'AnalyzeModel', 'loss': 0.1981218457221985, 'generations': 7, 'dataset_names': None, 'artifact_names': ['99ed202385b446b28d5dc6bba680ff61'], 'model_name': 'rating_model0120190419142556', 'job_error': ''}\n"
     ]
    }
   ],
   "source": [
    "# Retrieve feature importance of built model\n",
    "status, artifact = ds.analyze_model(model)\n",
    "sleep(1)\n",
    "if status:\n",
    "    ds.wait_for_job(artifact['job_name'])\n",
    "else:\n",
    "    print(artifact)\n",
    "status, feature_importance = ds.download_artifact(artifact['artifact_name'])\n"
   ]
  },
  {
   "cell_type": "code",
   "execution_count": 11,
   "metadata": {},
   "outputs": [
    {
     "data": {
      "text/plain": [
       "attendance_rate                   0.194580\n",
       "grad_rate_4_year                  0.103488\n",
       "dropout_rate                      0.091430\n",
       "college_admissions_per_tested     0.067408\n",
       "percent_revenue_from_local        0.054016\n",
       "grad_rate_5_year                  0.051737\n",
       "average_teacher_exp               0.049587\n",
       "tax_rate = Non-taxing entities    0.041485\n",
       "total_revenue                     0.031837\n",
       "average_teacher_salary            0.028774\n",
       "dtype: float64"
      ]
     },
     "execution_count": 11,
     "metadata": {},
     "output_type": "execute_result"
    }
   ],
   "source": [
    "feature_importance[:10]"
   ]
  },
  {
   "cell_type": "code",
   "execution_count": 12,
   "metadata": {},
   "outputs": [
    {
     "name": "stdout",
     "output_type": "stream",
     "text": [
      "{'status': 'Running', 'starttime': '2019-04-19T14:31:45.190197', 'endtime': None, 'percent_complete': 0, 'job_type': 'RunModel', 'loss': 0.1981218457221985, 'generations': 7, 'dataset_names': ['train_data.csv'], 'artifact_names': ['82f7156d2e9c4e5d91a5e36d241763df'], 'model_name': 'rating_model0120190419142556', 'job_error': ''}\n",
      "{'status': 'Complete', 'starttime': '2019-04-19T14:31:45.190197', 'endtime': '2019-04-19T14:31:46.782878', 'percent_complete': 100, 'job_type': 'RunModel', 'loss': 0.1981218457221985, 'generations': 7, 'dataset_names': ['train_data.csv'], 'artifact_names': ['82f7156d2e9c4e5d91a5e36d241763df'], 'model_name': 'rating_model0120190419142556', 'job_error': ''}\n"
     ]
    },
    {
     "data": {
      "text/plain": [
       "(True, 'Job completed')"
      ]
     },
     "execution_count": 12,
     "metadata": {},
     "output_type": "execute_result"
    }
   ],
   "source": [
    "status, artifact = ds.run_model(TRAIN_DATASET, model)\n",
    "sleep(1)\n",
    "ds.wait_for_job(artifact['job_name'])"
   ]
  },
  {
   "cell_type": "code",
   "execution_count": 13,
   "metadata": {},
   "outputs": [
    {
     "data": {
      "text/html": [
       "<div>\n",
       "<style scoped>\n",
       "    .dataframe tbody tr th:only-of-type {\n",
       "        vertical-align: middle;\n",
       "    }\n",
       "\n",
       "    .dataframe tbody tr th {\n",
       "        vertical-align: top;\n",
       "    }\n",
       "\n",
       "    .dataframe thead th {\n",
       "        text-align: right;\n",
       "    }\n",
       "</style>\n",
       "<table border=\"1\" class=\"dataframe\">\n",
       "  <thead>\n",
       "    <tr style=\"text-align: right;\">\n",
       "      <th></th>\n",
       "      <th>prob_Improvement Required</th>\n",
       "      <th>prob_Met Alternative Standard</th>\n",
       "      <th>prob_Met Standard</th>\n",
       "      <th>rating</th>\n",
       "    </tr>\n",
       "  </thead>\n",
       "  <tbody>\n",
       "    <tr>\n",
       "      <th>0</th>\n",
       "      <td>0.062878</td>\n",
       "      <td>1.655353e-03</td>\n",
       "      <td>0.935467</td>\n",
       "      <td>Met Standard</td>\n",
       "    </tr>\n",
       "    <tr>\n",
       "      <th>1</th>\n",
       "      <td>0.000305</td>\n",
       "      <td>9.940000e-08</td>\n",
       "      <td>0.999695</td>\n",
       "      <td>Met Standard</td>\n",
       "    </tr>\n",
       "    <tr>\n",
       "      <th>2</th>\n",
       "      <td>0.006085</td>\n",
       "      <td>2.003640e-05</td>\n",
       "      <td>0.993895</td>\n",
       "      <td>Met Standard</td>\n",
       "    </tr>\n",
       "    <tr>\n",
       "      <th>3</th>\n",
       "      <td>0.014734</td>\n",
       "      <td>1.085605e-04</td>\n",
       "      <td>0.985158</td>\n",
       "      <td>Met Standard</td>\n",
       "    </tr>\n",
       "    <tr>\n",
       "      <th>4</th>\n",
       "      <td>0.001856</td>\n",
       "      <td>2.476000e-06</td>\n",
       "      <td>0.998141</td>\n",
       "      <td>Met Standard</td>\n",
       "    </tr>\n",
       "  </tbody>\n",
       "</table>\n",
       "</div>"
      ],
      "text/plain": [
       "   prob_Improvement Required  prob_Met Alternative Standard  \\\n",
       "0                   0.062878                   1.655353e-03   \n",
       "1                   0.000305                   9.940000e-08   \n",
       "2                   0.006085                   2.003640e-05   \n",
       "3                   0.014734                   1.085605e-04   \n",
       "4                   0.001856                   2.476000e-06   \n",
       "\n",
       "   prob_Met Standard        rating  \n",
       "0           0.935467  Met Standard  \n",
       "1           0.999695  Met Standard  \n",
       "2           0.993895  Met Standard  \n",
       "3           0.985158  Met Standard  \n",
       "4           0.998141  Met Standard  "
      ]
     },
     "execution_count": 13,
     "metadata": {},
     "output_type": "execute_result"
    }
   ],
   "source": [
    "status, prediction = ds.download_artifact(artifact['artifact_name'])\n",
    "prediction.head()"
   ]
  },
  {
   "cell_type": "code",
   "execution_count": 24,
   "metadata": {},
   "outputs": [
    {
     "name": "stdout",
     "output_type": "stream",
     "text": [
      "                          precision    recall  f1-score   support\n",
      "\n",
      "    Improvement Required       0.36      0.12      0.18        42\n",
      "Met Alternative Standard       0.80      0.74      0.77        27\n",
      "            Met Standard       0.97      0.99      0.98      1121\n",
      "\n",
      "             avg / total       0.94      0.96      0.95      1190\n",
      "\n"
     ]
    },
    {
     "data": {
      "image/png": "[encoded data removed]",
      "text/plain": [
       "<Figure size 432x288 with 1 Axes>"
      ]
     },
     "metadata": {},
     "output_type": "display_data"
    }
   ],
   "source": [
    "unq = prediction[target].unique()[::-1]\n",
    "p = np.zeros((len(prediction),))\n",
    "a = np.zeros((len(prediction),))\n",
    "for i,q in enumerate(unq):\n",
    "    p += i*(prediction[target] == q).values\n",
    "    a += i*(test_df[target] == q).values\n",
    "#Plot predictions vs actual\n",
    "plt.plot(a)\n",
    "plt.plot(p)\n",
    "plt.legend(['Actual','Predicted'])\n",
    "plt.yticks([i for i in range(len(unq))],[q for q in unq]);\n",
    "print(classification_report(test_df[target], prediction[target]))"
   ]
  },
  {
   "cell_type": "code",
   "execution_count": 18,
   "metadata": {},
   "outputs": [],
   "source": [
    "#TEST DATASET\n",
    "status, message = ds.delete_dataset(TEST_DATASET)\n",
    "status, dataset = ds.upload_dataset( TEST_DATASET)\n",
    "if not status:\n",
    "    print(dataset)"
   ]
  },
  {
   "cell_type": "code",
   "execution_count": 19,
   "metadata": {},
   "outputs": [
    {
     "name": "stdout",
     "output_type": "stream",
     "text": [
      "{'status': 'Taken', 'starttime': '2019-04-19T14:37:50.604547', 'endtime': None, 'percent_complete': 0, 'job_type': 'CleanDataTiny', 'loss': None, 'generations': None, 'dataset_names': ['test_data.csv'], 'artifact_names': ['8204b25d2c764b79855089ba45adfe4b'], 'model_name': None, 'job_error': None}\n",
      "{'status': 'Complete', 'starttime': '2019-04-19T14:37:50.604547', 'endtime': '2019-04-19T14:37:52.180563', 'percent_complete': 100, 'job_type': 'CleanDataTiny', 'loss': None, 'generations': None, 'dataset_names': ['test_data.csv'], 'artifact_names': ['8204b25d2c764b79855089ba45adfe4b'], 'model_name': None, 'job_error': ''}\n"
     ]
    }
   ],
   "source": [
    "status, job_id = ds.clean_data(TEST_DATASET, target = target, model_name = model)\n",
    "\n",
    "if status:\n",
    "    ds.wait_for_job(job_id['job_name'])\n",
    "else:\n",
    "    print(job_id)"
   ]
  },
  {
   "cell_type": "code",
   "execution_count": 20,
   "metadata": {},
   "outputs": [
    {
     "name": "stdout",
     "output_type": "stream",
     "text": [
      "{'status': 'Running', 'starttime': '2019-04-19T14:38:06.851133', 'endtime': None, 'percent_complete': 0, 'job_type': 'RunModel', 'loss': 0.1981218457221985, 'generations': 7, 'dataset_names': ['test_data.csv'], 'artifact_names': ['1fd828eeb9394b2fb2e05a44427af76e'], 'model_name': 'rating_model0120190419142556', 'job_error': ''}\n",
      "{'status': 'Complete', 'starttime': '2019-04-19T14:38:06.851133', 'endtime': '2019-04-19T14:38:08.165754', 'percent_complete': 100, 'job_type': 'RunModel', 'loss': 0.1981218457221985, 'generations': 7, 'dataset_names': ['test_data.csv'], 'artifact_names': ['1fd828eeb9394b2fb2e05a44427af76e'], 'model_name': 'rating_model0120190419142556', 'job_error': ''}\n"
     ]
    },
    {
     "data": {
      "text/plain": [
       "(True, 'Job completed')"
      ]
     },
     "execution_count": 20,
     "metadata": {},
     "output_type": "execute_result"
    }
   ],
   "source": [
    "status, artifact = ds.run_model(TEST_DATASET, model)\n",
    "sleep(1)\n",
    "ds.wait_for_job(artifact['job_name'])"
   ]
  },
  {
   "cell_type": "code",
   "execution_count": 21,
   "metadata": {},
   "outputs": [
    {
     "name": "stdout",
     "output_type": "stream",
     "text": [
      "                          precision    recall  f1-score   support\n",
      "\n",
      "    Improvement Required       0.36      0.12      0.18        42\n",
      "Met Alternative Standard       0.80      0.74      0.77        27\n",
      "            Met Standard       0.97      0.99      0.98      1121\n",
      "\n",
      "             avg / total       0.94      0.96      0.95      1190\n",
      "\n"
     ]
    },
    {
     "data": {
      "image/png": "[encoded data removed]",
      "text/plain": [
       "<Figure size 432x288 with 1 Axes>"
      ]
     },
     "metadata": {},
     "output_type": "display_data"
    }
   ],
   "source": [
    "# Create plots comparing predictions with actual target\n",
    "status, prediction = ds.download_artifact(artifact['artifact_name'])\n",
    "df = pd.read_csv(TEST_DATASET)\n",
    "unq = prediction[target].unique()[::-1]\n",
    "p = np.zeros((len(prediction),))\n",
    "a = np.zeros((len(prediction),))\n",
    "for i,q in enumerate(unq):\n",
    "    p += i*(prediction[target] == q).values\n",
    "    a += i*(df[target] == q).values\n",
    "#Plot predictions vs actual\n",
    "plt.plot(a)\n",
    "plt.plot(p)\n",
    "plt.legend(['Actual','Predicted'])\n",
    "plt.yticks([i for i in range(len(unq))],[q for q in unq]);\n",
    "print(classification_report(df[target], prediction[target]))"
   ]
  },
  {
   "cell_type": "code",
   "execution_count": null,
   "metadata": {},
   "outputs": [],
   "source": []
  },
  {
   "cell_type": "code",
   "execution_count": null,
   "metadata": {},
   "outputs": [],
   "source": []
  }
 ],
 "metadata": {
  "kernelspec": {
   "display_name": "Python 3",
   "language": "python",
   "name": "python3"
  },
  "language_info": {
   "codemirror_mode": {
    "name": "ipython",
    "version": 3
   },
   "file_extension": ".py",
   "mimetype": "text/x-python",
   "name": "python",
   "nbconvert_exporter": "python",
   "pygments_lexer": "ipython3",
   "version": "3.6.5"
  }
 },
 "nbformat": 4,
 "nbformat_minor": 2
}
