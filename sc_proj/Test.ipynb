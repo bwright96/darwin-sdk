{
 "cells": [
  {
   "cell_type": "code",
   "execution_count": 1,
   "metadata": {},
   "outputs": [],
   "source": [
    "# Import necessary libraries\n",
    "import warnings\n",
    "warnings.filterwarnings(\"ignore\", message=\"numpy.dtype size changed\")\n",
    "%matplotlib inline\n",
    "import matplotlib.pyplot as plt\n",
    "import pandas as pd\n",
    "from IPython.display import Image\n",
    "from time import sleep\n",
    "import os\n",
    "import numpy as np\n",
    "from sklearn.metrics import classification_report\n",
    "\n",
    "from amb_sdk.sdk import DarwinSdk\n",
    "import datetime\n",
    "ts = '{:%Y%m%d%H%M%S}'.format(datetime.datetime.now())"
   ]
  },
  {
   "cell_type": "code",
   "execution_count": 2,
   "metadata": {
    "scrolled": true
   },
   "outputs": [
    {
     "name": "stdout",
     "output_type": "stream",
     "text": [
      "You are logged in!\n"
     ]
    }
   ],
   "source": [
    "# Login\n",
    "from login import username, password\n",
    "ds = DarwinSdk()\n",
    "ds.set_url('https://amb-demo-api.sparkcognition.com/v1/')\n",
    "status, msg = ds.auth_login_user(username, password)\n",
    "\n",
    "if not status:\n",
    "    print(msg)\n",
    "else:\n",
    "    print('You are logged in!')"
   ]
  },
  {
   "cell_type": "code",
   "execution_count": 3,
   "metadata": {},
   "outputs": [
    {
     "name": "stdout",
     "output_type": "stream",
     "text": [
      "(1203, 107)\n"
     ]
    }
   ],
   "source": [
    "dataset_name = 'district.csv'\n",
    "df = pd.read_csv(dataset_name)\n",
    "df.head()\n",
    "print(df.shape)"
   ]
  },
  {
   "cell_type": "code",
   "execution_count": 4,
   "metadata": {},
   "outputs": [
    {
     "data": {
      "text/html": [
       "<div>\n",
       "<style scoped>\n",
       "    .dataframe tbody tr th:only-of-type {\n",
       "        vertical-align: middle;\n",
       "    }\n",
       "\n",
       "    .dataframe tbody tr th {\n",
       "        vertical-align: top;\n",
       "    }\n",
       "\n",
       "    .dataframe thead th {\n",
       "        text-align: right;\n",
       "    }\n",
       "</style>\n",
       "<table border=\"1\" class=\"dataframe\">\n",
       "  <thead>\n",
       "    <tr style=\"text-align: right;\">\n",
       "      <th></th>\n",
       "      <th>rating</th>\n",
       "      <th>num_schools</th>\n",
       "      <th>num_students</th>\n",
       "      <th>attendance_rate</th>\n",
       "      <th>dropout_rate</th>\n",
       "      <th>grad_rate_4_year</th>\n",
       "      <th>grad_rate_5_year</th>\n",
       "      <th>grad_rate_6_year</th>\n",
       "      <th>annual_grad_count</th>\n",
       "      <th>college_admissions_per_tested</th>\n",
       "      <th>...</th>\n",
       "      <th>total_revenue_per_pupil</th>\n",
       "      <th>percent_revenue_from_state</th>\n",
       "      <th>percent_revenue_from_local</th>\n",
       "      <th>percent_revenue_from_federal</th>\n",
       "      <th>instr_expenditures</th>\n",
       "      <th>instr_expenditures_per_pupil</th>\n",
       "      <th>district_size</th>\n",
       "      <th>community_type</th>\n",
       "      <th>property_wealth</th>\n",
       "      <th>tax_rate</th>\n",
       "    </tr>\n",
       "  </thead>\n",
       "  <tbody>\n",
       "    <tr>\n",
       "      <th>0</th>\n",
       "      <td>Met Standard</td>\n",
       "      <td>3</td>\n",
       "      <td>576</td>\n",
       "      <td>96.8</td>\n",
       "      <td>1</td>\n",
       "      <td>93.5</td>\n",
       "      <td>96.6</td>\n",
       "      <td>89.2</td>\n",
       "      <td>45</td>\n",
       "      <td>60</td>\n",
       "      <td>...</td>\n",
       "      <td>15318</td>\n",
       "      <td>40.4</td>\n",
       "      <td>38.6</td>\n",
       "      <td>21</td>\n",
       "      <td>4750155</td>\n",
       "      <td>8363</td>\n",
       "      <td>500 to 999</td>\n",
       "      <td>Rural</td>\n",
       "      <td>$450,288 to &lt; $512,741</td>\n",
       "      <td>Under $1.1659</td>\n",
       "    </tr>\n",
       "    <tr>\n",
       "      <th>1</th>\n",
       "      <td>Met Standard</td>\n",
       "      <td>4</td>\n",
       "      <td>1267</td>\n",
       "      <td>96.6</td>\n",
       "      <td>0.3</td>\n",
       "      <td>98.6</td>\n",
       "      <td>98.6</td>\n",
       "      <td>98.7</td>\n",
       "      <td>74</td>\n",
       "      <td>56.8</td>\n",
       "      <td>...</td>\n",
       "      <td>9887</td>\n",
       "      <td>61.2</td>\n",
       "      <td>32.9</td>\n",
       "      <td>5.9</td>\n",
       "      <td>6535726</td>\n",
       "      <td>5254</td>\n",
       "      <td>1,000 to 1,599</td>\n",
       "      <td>Non-metropolitan Stable</td>\n",
       "      <td>$226,182 to &lt; $235,915</td>\n",
       "      <td>$1.2781 to under $1.3998</td>\n",
       "    </tr>\n",
       "    <tr>\n",
       "      <th>2</th>\n",
       "      <td>Met Standard</td>\n",
       "      <td>3</td>\n",
       "      <td>846</td>\n",
       "      <td>96.2</td>\n",
       "      <td>0.4</td>\n",
       "      <td>100</td>\n",
       "      <td>100</td>\n",
       "      <td>100</td>\n",
       "      <td>50</td>\n",
       "      <td>38</td>\n",
       "      <td>...</td>\n",
       "      <td>11153</td>\n",
       "      <td>50.7</td>\n",
       "      <td>43.2</td>\n",
       "      <td>6.1</td>\n",
       "      <td>4099594</td>\n",
       "      <td>4875</td>\n",
       "      <td>500 to 999</td>\n",
       "      <td>Rural</td>\n",
       "      <td>$297,485 to &lt; $318,066</td>\n",
       "      <td>$1.3998 and over</td>\n",
       "    </tr>\n",
       "    <tr>\n",
       "      <th>3</th>\n",
       "      <td>Met Standard</td>\n",
       "      <td>2</td>\n",
       "      <td>377</td>\n",
       "      <td>96.4</td>\n",
       "      <td>0</td>\n",
       "      <td>94.3</td>\n",
       "      <td>96.9</td>\n",
       "      <td>97.6</td>\n",
       "      <td>35</td>\n",
       "      <td>60</td>\n",
       "      <td>...</td>\n",
       "      <td>10892</td>\n",
       "      <td>56.7</td>\n",
       "      <td>36.3</td>\n",
       "      <td>7.1</td>\n",
       "      <td>2190799</td>\n",
       "      <td>5720</td>\n",
       "      <td>Under 500</td>\n",
       "      <td>Rural</td>\n",
       "      <td>$297,485 to &lt; $318,066</td>\n",
       "      <td>$1.2781 to under $1.3998</td>\n",
       "    </tr>\n",
       "    <tr>\n",
       "      <th>4</th>\n",
       "      <td>Met Standard</td>\n",
       "      <td>6</td>\n",
       "      <td>3453</td>\n",
       "      <td>95.7</td>\n",
       "      <td>0.2</td>\n",
       "      <td>89.2</td>\n",
       "      <td>96.8</td>\n",
       "      <td>97.8</td>\n",
       "      <td>178</td>\n",
       "      <td>32</td>\n",
       "      <td>...</td>\n",
       "      <td>12311</td>\n",
       "      <td>43.4</td>\n",
       "      <td>42.8</td>\n",
       "      <td>13.8</td>\n",
       "      <td>18198163</td>\n",
       "      <td>5376</td>\n",
       "      <td>3,000 to 4,999</td>\n",
       "      <td>Independent Town</td>\n",
       "      <td>$276,039 to &lt; $297,485</td>\n",
       "      <td>$1.3998 and over</td>\n",
       "    </tr>\n",
       "  </tbody>\n",
       "</table>\n",
       "<p>5 rows × 26 columns</p>\n",
       "</div>"
      ],
      "text/plain": [
       "         rating  num_schools  num_students attendance_rate dropout_rate  \\\n",
       "0  Met Standard            3           576            96.8            1   \n",
       "1  Met Standard            4          1267            96.6          0.3   \n",
       "2  Met Standard            3           846            96.2          0.4   \n",
       "3  Met Standard            2           377            96.4            0   \n",
       "4  Met Standard            6          3453            95.7          0.2   \n",
       "\n",
       "  grad_rate_4_year grad_rate_5_year grad_rate_6_year annual_grad_count  \\\n",
       "0             93.5             96.6             89.2                45   \n",
       "1             98.6             98.6             98.7                74   \n",
       "2              100              100              100                50   \n",
       "3             94.3             96.9             97.6                35   \n",
       "4             89.2             96.8             97.8               178   \n",
       "\n",
       "  college_admissions_per_tested            ...             \\\n",
       "0                            60            ...              \n",
       "1                          56.8            ...              \n",
       "2                            38            ...              \n",
       "3                            60            ...              \n",
       "4                            32            ...              \n",
       "\n",
       "  total_revenue_per_pupil percent_revenue_from_state  \\\n",
       "0                   15318                       40.4   \n",
       "1                    9887                       61.2   \n",
       "2                   11153                       50.7   \n",
       "3                   10892                       56.7   \n",
       "4                   12311                       43.4   \n",
       "\n",
       "  percent_revenue_from_local percent_revenue_from_federal instr_expenditures  \\\n",
       "0                       38.6                           21            4750155   \n",
       "1                       32.9                          5.9            6535726   \n",
       "2                       43.2                          6.1            4099594   \n",
       "3                       36.3                          7.1            2190799   \n",
       "4                       42.8                         13.8           18198163   \n",
       "\n",
       "  instr_expenditures_per_pupil   district_size           community_type  \\\n",
       "0                         8363      500 to 999                    Rural   \n",
       "1                         5254  1,000 to 1,599  Non-metropolitan Stable   \n",
       "2                         4875      500 to 999                    Rural   \n",
       "3                         5720       Under 500                    Rural   \n",
       "4                         5376  3,000 to 4,999         Independent Town   \n",
       "\n",
       "          property_wealth                  tax_rate  \n",
       "0  $450,288 to < $512,741             Under $1.1659  \n",
       "1  $226,182 to < $235,915  $1.2781 to under $1.3998  \n",
       "2  $297,485 to < $318,066          $1.3998 and over  \n",
       "3  $297,485 to < $318,066  $1.2781 to under $1.3998  \n",
       "4  $276,039 to < $297,485          $1.3998 and over  \n",
       "\n",
       "[5 rows x 26 columns]"
      ]
     },
     "execution_count": 4,
     "metadata": {},
     "output_type": "execute_result"
    }
   ],
   "source": [
    "df = df[['DZRATING', 'DZCAMPUS','DPETALLC','DA0AT16R','DA0912DR16R','DAGC4X16R','DAGC5X15R','DAGC6X14R','DA0GR16N','DA0CT16R','DA0CC16R','DA0CSA16R','DA0CAA16R','DPSTTOSA','DPSTEXPA','DPFRAALLT','DPFRAALLK','DPFRASTAP','DZRVLOCP','DPFRAFEDP','DPFEAINST','DPFEAINSK','DISTSIZE','COMMTYPE', 'PROPWLTH', 'TAXRATE']]\n",
    "df = df.rename(index=str, columns = {\"DZRATING\":\"rating\", \"DZCAMPUS\":\"num_schools\", \"DPETALLC\":\"num_students\", \"DA0AT16R\":\"attendance_rate\", \"DA0912DR16R\":\"dropout_rate\", \"DAGC4X16R\":\"grad_rate_4_year\", \"DAGC5X15R\":\"grad_rate_5_year\", \"DAGC6X14R\":\"grad_rate_6_year\", \"DA0GR16N\":\"annual_grad_count\", \"DA0CT16R\":\"college_admissions_per_tested\", \"DA0CC16R\":\"college_admissions_at_crit\", \"DA0CSA16R\":\"average_sat\", \"DA0CAA16R\":\"average_act\", \"DPSTTOSA\":\"average_teacher_salary\", \"DPSTEXPA\":\"average_teacher_exp\", \"DPFRAALLT\":\"total_revenue\", \"DPFRAALLK\":\"total_revenue_per_pupil\", \"DPFRASTAP\":\"percent_revenue_from_state\", \"DZRVLOCP\":\"percent_revenue_from_local\", \"DPFRAFEDP\":\"percent_revenue_from_federal\", \"DPFEAINST\":\"instr_expenditures\", \"DPFEAINSK\":\"instr_expenditures_per_pupil\", \"DISTSIZE\":\"district_size\", \"COMMTYPE\":\"community_type\", \"PROPWLTH\":\"property_wealth\", \"TAXRATE\":\"tax_rate\"})\n",
    "df.head()"
   ]
  },
  {
   "cell_type": "code",
   "execution_count": 5,
   "metadata": {},
   "outputs": [],
   "source": [
    "df[0:len(df)//5].to_csv('test_data.csv')\n",
    "df[len(df)//5:].to_csv('train_data.csv')"
   ]
  },
  {
   "cell_type": "code",
   "execution_count": 6,
   "metadata": {},
   "outputs": [
    {
     "name": "stdout",
     "output_type": "stream",
     "text": [
      "400: BAD REQUEST - {\"message\": \"Dataset already exists\"}\n",
      "\n"
     ]
    }
   ],
   "source": [
    "TRAIN_DATASET='train_data.csv'\n",
    "TEST_DATASET = 'test_data.csv'\n",
    "train_df = pd.read_csv('train_data.csv')\n",
    "test_df = pd.read_csv('test_data.csv')\n",
    "status, dataset = ds.upload_dataset( TRAIN_DATASET)\n",
    "if not status:\n",
    "    print(dataset)"
   ]
  },
  {
   "cell_type": "code",
   "execution_count": 7,
   "metadata": {},
   "outputs": [
    {
     "name": "stdout",
     "output_type": "stream",
     "text": [
      "{'status': 'Requested', 'starttime': '2019-04-13T13:54:12.625879', 'endtime': None, 'percent_complete': 0, 'job_type': 'CleanDataTiny', 'loss': None, 'generations': None, 'dataset_names': ['train_data.csv'], 'artifact_names': ['a47dc116bab44a1fa386d9da7a03b7b6'], 'model_name': None, 'job_error': None}\n",
      "{'status': 'Complete', 'starttime': '2019-04-13T13:54:12.625879', 'endtime': '2019-04-13T13:54:15.653648', 'percent_complete': 100, 'job_type': 'CleanDataTiny', 'loss': None, 'generations': None, 'dataset_names': ['train_data.csv'], 'artifact_names': ['a47dc116bab44a1fa386d9da7a03b7b6'], 'model_name': None, 'job_error': ''}\n"
     ]
    }
   ],
   "source": [
    "#clean train_Set\n",
    "target = \"rating\"\n",
    "status, job_id = ds.clean_data(TRAIN_DATASET, target = target)\n",
    "if status:\n",
    "    ds.wait_for_job(job_id['job_name'])\n",
    "else:\n",
    "    print(job_id)"
   ]
  },
  {
   "cell_type": "code",
   "execution_count": 8,
   "metadata": {
    "scrolled": true
   },
   "outputs": [
    {
     "name": "stdout",
     "output_type": "stream",
     "text": [
      "{'status': 'Requested', 'starttime': '2019-04-13T13:54:28.904331', 'endtime': None, 'percent_complete': 0, 'job_type': 'TrainModel', 'loss': None, 'generations': 0, 'dataset_names': ['train_data.csv'], 'artifact_names': None, 'model_name': 'rating_model0120190413135410', 'job_error': None}\n",
      "{'status': 'Running', 'starttime': '2019-04-13T13:54:28.904331', 'endtime': None, 'percent_complete': 3, 'job_type': 'TrainModel', 'loss': 0.7967410683631897, 'generations': 7, 'dataset_names': ['train_data.csv'], 'artifact_names': None, 'model_name': 'rating_model0120190413135410', 'job_error': ''}\n",
      "{'status': 'Running', 'starttime': '2019-04-13T13:54:28.904331', 'endtime': None, 'percent_complete': 3, 'job_type': 'TrainModel', 'loss': 0.7967410683631897, 'generations': 7, 'dataset_names': ['train_data.csv'], 'artifact_names': None, 'model_name': 'rating_model0120190413135410', 'job_error': ''}\n",
      "{'status': 'Running', 'starttime': '2019-04-13T13:54:28.904331', 'endtime': None, 'percent_complete': 10, 'job_type': 'TrainModel', 'loss': 0.7967410683631897, 'generations': 7, 'dataset_names': ['train_data.csv'], 'artifact_names': None, 'model_name': 'rating_model0120190413135410', 'job_error': ''}\n",
      "{'status': 'Running', 'starttime': '2019-04-13T13:54:28.904331', 'endtime': None, 'percent_complete': 14, 'job_type': 'TrainModel', 'loss': 0.7967410683631897, 'generations': 7, 'dataset_names': ['train_data.csv'], 'artifact_names': None, 'model_name': 'rating_model0120190413135410', 'job_error': ''}\n",
      "{'status': 'Running', 'starttime': '2019-04-13T13:54:28.904331', 'endtime': None, 'percent_complete': 20, 'job_type': 'TrainModel', 'loss': 0.7967410683631897, 'generations': 7, 'dataset_names': ['train_data.csv'], 'artifact_names': None, 'model_name': 'rating_model0120190413135410', 'job_error': ''}\n",
      "{'status': 'Running', 'starttime': '2019-04-13T13:54:28.904331', 'endtime': None, 'percent_complete': 23, 'job_type': 'TrainModel', 'loss': 0.7967410683631897, 'generations': 7, 'dataset_names': ['train_data.csv'], 'artifact_names': None, 'model_name': 'rating_model0120190413135410', 'job_error': ''}\n",
      "{'status': 'Running', 'starttime': '2019-04-13T13:54:28.904331', 'endtime': None, 'percent_complete': 27, 'job_type': 'TrainModel', 'loss': 0.7967410683631897, 'generations': 7, 'dataset_names': ['train_data.csv'], 'artifact_names': None, 'model_name': 'rating_model0120190413135410', 'job_error': ''}\n",
      "{'status': 'Complete', 'starttime': '2019-04-13T13:54:28.904331', 'endtime': '2019-04-13T13:56:23.891855', 'percent_complete': 100, 'job_type': 'TrainModel', 'loss': 0.7967410683631897, 'generations': 7, 'dataset_names': ['train_data.csv'], 'artifact_names': None, 'model_name': 'rating_model0120190413135410', 'job_error': ''}\n"
     ]
    }
   ],
   "source": [
    "model = target + \"_model01\" + ts\n",
    "status, job_id = ds.create_model(dataset_names = TRAIN_DATASET, \\\n",
    "                                 model_name =  model, \\\n",
    "                                 max_train_time = '00:05')\n",
    "if status:\n",
    "    ds.wait_for_job(job_id['job_name'])\n",
    "else:\n",
    "    print(job_id)"
   ]
  },
  {
   "cell_type": "code",
   "execution_count": 9,
   "metadata": {},
   "outputs": [
    {
     "name": "stdout",
     "output_type": "stream",
     "text": [
      "{'status': 'Running', 'starttime': '2019-04-13T13:56:30.594146', 'endtime': None, 'percent_complete': 0, 'job_type': 'AnalyzeModel', 'loss': 0.7967410683631897, 'generations': 7, 'dataset_names': None, 'artifact_names': ['1100f9fc9fd747d3891ea745fa21ba46'], 'model_name': 'rating_model0120190413135410', 'job_error': ''}\n",
      "{'status': 'Complete', 'starttime': '2019-04-13T13:56:30.594146', 'endtime': '2019-04-13T13:56:32.04474', 'percent_complete': 100, 'job_type': 'AnalyzeModel', 'loss': 0.7967410683631897, 'generations': 7, 'dataset_names': None, 'artifact_names': ['1100f9fc9fd747d3891ea745fa21ba46'], 'model_name': 'rating_model0120190413135410', 'job_error': ''}\n"
     ]
    }
   ],
   "source": [
    "# Retrieve feature importance of built model\n",
    "status, artifact = ds.analyze_model(model)\n",
    "sleep(1)\n",
    "if status:\n",
    "    ds.wait_for_job(artifact['job_name'])\n",
    "else:\n",
    "    print(artifact)\n",
    "status, feature_importance = ds.download_artifact(artifact['artifact_name'])\n"
   ]
  },
  {
   "cell_type": "code",
   "execution_count": 10,
   "metadata": {},
   "outputs": [
    {
     "data": {
      "text/plain": [
       "attendance_rate                  0.091801\n",
       "instr_expenditures_per_pupil     0.069590\n",
       "average_teacher_exp              0.067306\n",
       "num_students                     0.061547\n",
       "grad_rate_5_year                 0.058105\n",
       "college_admissions_per_tested    0.056559\n",
       "percent_revenue_from_state       0.055458\n",
       "grad_rate_6_year                 0.050457\n",
       "dropout_rate                     0.049914\n",
       "grad_rate_4_year                 0.044283\n",
       "dtype: float64"
      ]
     },
     "execution_count": 10,
     "metadata": {},
     "output_type": "execute_result"
    }
   ],
   "source": [
    "feature_importance[:10]"
   ]
  },
  {
   "cell_type": "code",
   "execution_count": 11,
   "metadata": {},
   "outputs": [
    {
     "name": "stdout",
     "output_type": "stream",
     "text": [
      "{'status': 'Running', 'starttime': '2019-04-13T13:56:48.196114', 'endtime': None, 'percent_complete': 0, 'job_type': 'RunModel', 'loss': 0.7967410683631897, 'generations': 7, 'dataset_names': ['train_data.csv'], 'artifact_names': ['6849e722d6a64506af7feca651f939f7'], 'model_name': 'rating_model0120190413135410', 'job_error': ''}\n",
      "{'status': 'Complete', 'starttime': '2019-04-13T13:56:48.196114', 'endtime': '2019-04-13T13:56:49.447322', 'percent_complete': 100, 'job_type': 'RunModel', 'loss': 0.7967410683631897, 'generations': 7, 'dataset_names': ['train_data.csv'], 'artifact_names': ['6849e722d6a64506af7feca651f939f7'], 'model_name': 'rating_model0120190413135410', 'job_error': ''}\n"
     ]
    },
    {
     "data": {
      "text/plain": [
       "(True, 'Job completed')"
      ]
     },
     "execution_count": 11,
     "metadata": {},
     "output_type": "execute_result"
    }
   ],
   "source": [
    "status, artifact = ds.run_model(TRAIN_DATASET, model)\n",
    "sleep(1)\n",
    "ds.wait_for_job(artifact['job_name'])"
   ]
  },
  {
   "cell_type": "code",
   "execution_count": 12,
   "metadata": {},
   "outputs": [
    {
     "data": {
      "text/html": [
       "<div>\n",
       "<style scoped>\n",
       "    .dataframe tbody tr th:only-of-type {\n",
       "        vertical-align: middle;\n",
       "    }\n",
       "\n",
       "    .dataframe tbody tr th {\n",
       "        vertical-align: top;\n",
       "    }\n",
       "\n",
       "    .dataframe thead th {\n",
       "        text-align: right;\n",
       "    }\n",
       "</style>\n",
       "<table border=\"1\" class=\"dataframe\">\n",
       "  <thead>\n",
       "    <tr style=\"text-align: right;\">\n",
       "      <th></th>\n",
       "      <th>prob_Improvement Required</th>\n",
       "      <th>prob_Met Alternative Standard</th>\n",
       "      <th>prob_Met Standard</th>\n",
       "      <th>prob_Not Rated</th>\n",
       "      <th>rating</th>\n",
       "    </tr>\n",
       "  </thead>\n",
       "  <tbody>\n",
       "    <tr>\n",
       "      <th>0</th>\n",
       "      <td>0.000839</td>\n",
       "      <td>0.000095</td>\n",
       "      <td>0.998949</td>\n",
       "      <td>0.000118</td>\n",
       "      <td>Met Standard</td>\n",
       "    </tr>\n",
       "    <tr>\n",
       "      <th>1</th>\n",
       "      <td>0.007248</td>\n",
       "      <td>0.000843</td>\n",
       "      <td>0.989734</td>\n",
       "      <td>0.002175</td>\n",
       "      <td>Met Standard</td>\n",
       "    </tr>\n",
       "    <tr>\n",
       "      <th>2</th>\n",
       "      <td>0.003129</td>\n",
       "      <td>0.000278</td>\n",
       "      <td>0.996328</td>\n",
       "      <td>0.000265</td>\n",
       "      <td>Met Standard</td>\n",
       "    </tr>\n",
       "    <tr>\n",
       "      <th>3</th>\n",
       "      <td>0.006836</td>\n",
       "      <td>0.000804</td>\n",
       "      <td>0.991411</td>\n",
       "      <td>0.000948</td>\n",
       "      <td>Met Standard</td>\n",
       "    </tr>\n",
       "    <tr>\n",
       "      <th>4</th>\n",
       "      <td>0.000960</td>\n",
       "      <td>0.000202</td>\n",
       "      <td>0.998686</td>\n",
       "      <td>0.000152</td>\n",
       "      <td>Met Standard</td>\n",
       "    </tr>\n",
       "  </tbody>\n",
       "</table>\n",
       "</div>"
      ],
      "text/plain": [
       "   prob_Improvement Required  prob_Met Alternative Standard  \\\n",
       "0                   0.000839                       0.000095   \n",
       "1                   0.007248                       0.000843   \n",
       "2                   0.003129                       0.000278   \n",
       "3                   0.006836                       0.000804   \n",
       "4                   0.000960                       0.000202   \n",
       "\n",
       "   prob_Met Standard  prob_Not Rated        rating  \n",
       "0           0.998949        0.000118  Met Standard  \n",
       "1           0.989734        0.002175  Met Standard  \n",
       "2           0.996328        0.000265  Met Standard  \n",
       "3           0.991411        0.000948  Met Standard  \n",
       "4           0.998686        0.000152  Met Standard  "
      ]
     },
     "execution_count": 12,
     "metadata": {},
     "output_type": "execute_result"
    }
   ],
   "source": [
    "status, prediction = ds.download_artifact(artifact['artifact_name'])\n",
    "prediction.head()"
   ]
  },
  {
   "cell_type": "code",
   "execution_count": 13,
   "metadata": {},
   "outputs": [
    {
     "ename": "ValueError",
     "evalue": "operands could not be broadcast together with shapes (963,) (1203,) (963,) ",
     "output_type": "error",
     "traceback": [
      "\u001b[0;31m---------------------------------------------------------------------------\u001b[0m",
      "\u001b[0;31mValueError\u001b[0m                                Traceback (most recent call last)",
      "\u001b[0;32m<ipython-input-13-7fd43cceed28>\u001b[0m in \u001b[0;36m<module>\u001b[0;34m()\u001b[0m\n\u001b[1;32m      4\u001b[0m \u001b[0;32mfor\u001b[0m \u001b[0mi\u001b[0m\u001b[0;34m,\u001b[0m\u001b[0mq\u001b[0m \u001b[0;32min\u001b[0m \u001b[0menumerate\u001b[0m\u001b[0;34m(\u001b[0m\u001b[0munq\u001b[0m\u001b[0;34m)\u001b[0m\u001b[0;34m:\u001b[0m\u001b[0;34m\u001b[0m\u001b[0m\n\u001b[1;32m      5\u001b[0m     \u001b[0mp\u001b[0m \u001b[0;34m+=\u001b[0m \u001b[0mi\u001b[0m\u001b[0;34m*\u001b[0m\u001b[0;34m(\u001b[0m\u001b[0mprediction\u001b[0m\u001b[0;34m[\u001b[0m\u001b[0mtarget\u001b[0m\u001b[0;34m]\u001b[0m \u001b[0;34m==\u001b[0m \u001b[0mq\u001b[0m\u001b[0;34m)\u001b[0m\u001b[0;34m.\u001b[0m\u001b[0mvalues\u001b[0m\u001b[0;34m\u001b[0m\u001b[0m\n\u001b[0;32m----> 6\u001b[0;31m     \u001b[0ma\u001b[0m \u001b[0;34m+=\u001b[0m \u001b[0mi\u001b[0m\u001b[0;34m*\u001b[0m\u001b[0;34m(\u001b[0m\u001b[0mdf\u001b[0m\u001b[0;34m[\u001b[0m\u001b[0mtarget\u001b[0m\u001b[0;34m]\u001b[0m \u001b[0;34m==\u001b[0m \u001b[0mq\u001b[0m\u001b[0;34m)\u001b[0m\u001b[0;34m.\u001b[0m\u001b[0mvalues\u001b[0m\u001b[0;34m\u001b[0m\u001b[0m\n\u001b[0m\u001b[1;32m      7\u001b[0m \u001b[0;31m#Plot predictions vs actual\u001b[0m\u001b[0;34m\u001b[0m\u001b[0;34m\u001b[0m\u001b[0m\n\u001b[1;32m      8\u001b[0m \u001b[0mplt\u001b[0m\u001b[0;34m.\u001b[0m\u001b[0mplot\u001b[0m\u001b[0;34m(\u001b[0m\u001b[0ma\u001b[0m\u001b[0;34m)\u001b[0m\u001b[0;34m\u001b[0m\u001b[0m\n",
      "\u001b[0;31mValueError\u001b[0m: operands could not be broadcast together with shapes (963,) (1203,) (963,) "
     ]
    }
   ],
   "source": [
    "unq = prediction[target].unique()[::-1]\n",
    "p = np.zeros((len(prediction),))\n",
    "a = np.zeros((len(prediction),))\n",
    "for i,q in enumerate(unq):\n",
    "    p += i*(prediction[target] == q).values\n",
    "    a += i*(df[target] == q).values\n",
    "#Plot predictions vs actual\n",
    "plt.plot(a)\n",
    "plt.plot(p)\n",
    "plt.legend(['Actual','Predicted'])\n",
    "plt.yticks([i for i in range(len(unq))],[q for q in unq]);\n",
    "print(classification_report(df[target], prediction[target]))"
   ]
  },
  {
   "cell_type": "code",
   "execution_count": 14,
   "metadata": {},
   "outputs": [
    {
     "name": "stdout",
     "output_type": "stream",
     "text": [
      "400: BAD REQUEST - {\"message\": \"Dataset already exists\"}\n",
      "\n"
     ]
    }
   ],
   "source": [
    "#TEST DATASET\n",
    "status, dataset = ds.upload_dataset( TEST_DATASET)\n",
    "if not status:\n",
    "    print(dataset)"
   ]
  },
  {
   "cell_type": "code",
   "execution_count": 15,
   "metadata": {},
   "outputs": [
    {
     "name": "stdout",
     "output_type": "stream",
     "text": [
      "{'status': 'Requested', 'starttime': '2019-04-13T13:58:29.885537', 'endtime': None, 'percent_complete': 0, 'job_type': 'CleanDataTiny', 'loss': None, 'generations': None, 'dataset_names': ['test_data.csv'], 'artifact_names': ['d2c3b81758d141b48c72158e740ebd86'], 'model_name': None, 'job_error': None}\n",
      "{'status': 'Complete', 'starttime': '2019-04-13T13:58:29.885537', 'endtime': '2019-04-13T13:58:31.319168', 'percent_complete': 100, 'job_type': 'CleanDataTiny', 'loss': None, 'generations': None, 'dataset_names': ['test_data.csv'], 'artifact_names': ['d2c3b81758d141b48c72158e740ebd86'], 'model_name': None, 'job_error': ''}\n"
     ]
    }
   ],
   "source": [
    "status, job_id = ds.clean_data(TEST_DATASET, target = target, model_name = model)\n",
    "\n",
    "if status:\n",
    "    ds.wait_for_job(job_id['job_name'])\n",
    "else:\n",
    "    print(job_id)"
   ]
  },
  {
   "cell_type": "code",
   "execution_count": 16,
   "metadata": {},
   "outputs": [
    {
     "name": "stdout",
     "output_type": "stream",
     "text": [
      "{'status': 'Complete', 'starttime': '2019-04-13T13:58:46.15341', 'endtime': '2019-04-13T13:58:47.134996', 'percent_complete': 100, 'job_type': 'RunModel', 'loss': 0.7967410683631897, 'generations': 7, 'dataset_names': ['test_data.csv'], 'artifact_names': ['2e32b02c36fd4350a2a65271da418096'], 'model_name': 'rating_model0120190413135410', 'job_error': ''}\n"
     ]
    },
    {
     "data": {
      "text/plain": [
       "(True, 'Job completed')"
      ]
     },
     "execution_count": 16,
     "metadata": {},
     "output_type": "execute_result"
    }
   ],
   "source": [
    "status, artifact = ds.run_model(TEST_DATASET, model)\n",
    "sleep(1)\n",
    "ds.wait_for_job(artifact['job_name'])"
   ]
  },
  {
   "cell_type": "code",
   "execution_count": 17,
   "metadata": {},
   "outputs": [
    {
     "name": "stdout",
     "output_type": "stream",
     "text": [
      "                          precision    recall  f1-score   support\n",
      "\n",
      "    Improvement Required       0.00      0.00      0.00         8\n",
      "Met Alternative Standard       0.80      0.67      0.73         6\n",
      "            Met Standard       0.96      0.99      0.97       225\n",
      "               Not Rated       0.00      0.00      0.00         1\n",
      "\n",
      "             avg / total       0.92      0.95      0.93       240\n",
      "\n"
     ]
    },
    {
     "data": {
      "image/png": "[encoded data removed]",
      "text/plain": [
       "<Figure size 432x288 with 1 Axes>"
      ]
     },
     "metadata": {},
     "output_type": "display_data"
    }
   ],
   "source": [
    "# Create plots comparing predictions with actual target\n",
    "status, prediction = ds.download_artifact(artifact['artifact_name'])\n",
    "df = pd.read_csv(TEST_DATASET)\n",
    "unq = prediction[target].unique()[::-1]\n",
    "p = np.zeros((len(prediction),))\n",
    "a = np.zeros((len(prediction),))\n",
    "for i,q in enumerate(unq):\n",
    "    p += i*(prediction[target] == q).values\n",
    "    a += i*(df[target] == q).values\n",
    "#Plot predictions vs actual\n",
    "plt.plot(a)\n",
    "plt.plot(p)\n",
    "plt.legend(['Actual','Predicted'])\n",
    "plt.yticks([i for i in range(len(unq))],[q for q in unq]);\n",
    "print(classification_report(df[target], prediction[target]))"
   ]
  },
  {
   "cell_type": "code",
   "execution_count": null,
   "metadata": {},
   "outputs": [],
   "source": []
  }
 ],
 "metadata": {
  "kernelspec": {
   "display_name": "Python 3",
   "language": "python",
   "name": "python3"
  },
  "language_info": {
   "codemirror_mode": {
    "name": "ipython",
    "version": 3
   },
   "file_extension": ".py",
   "mimetype": "text/x-python",
   "name": "python",
   "nbconvert_exporter": "python",
   "pygments_lexer": "ipython3",
   "version": "3.6.5"
  }
 },
 "nbformat": 4,
 "nbformat_minor": 2
}
