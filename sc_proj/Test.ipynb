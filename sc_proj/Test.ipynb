{
 "cells": [
  {
   "cell_type": "code",
   "execution_count": 1,
   "metadata": {},
   "outputs": [],
   "source": [
    "# Import necessary libraries\n",
    "import warnings\n",
    "warnings.filterwarnings(\"ignore\", message=\"numpy.dtype size changed\")\n",
    "%matplotlib inline\n",
    "import matplotlib.pyplot as plt\n",
    "import pandas as pd\n",
    "from IPython.display import Image\n",
    "from time import sleep\n",
    "import os\n",
    "import numpy as np\n",
    "from sklearn.metrics import classification_report\n",
    "\n",
    "from amb_sdk.sdk import DarwinSdk\n",
    "import datetime\n",
    "ts = '{:%Y%m%d%H%M%S}'.format(datetime.datetime.now())"
   ]
  },
  {
   "cell_type": "code",
   "execution_count": 2,
   "metadata": {
    "scrolled": true
   },
   "outputs": [
    {
     "name": "stdout",
     "output_type": "stream",
     "text": [
      "You are logged in!\n"
     ]
    }
   ],
   "source": [
    "# Login\n",
    "from login import username, password\n",
    "ds = DarwinSdk()\n",
    "ds.set_url('https://amb-demo-api.sparkcognition.com/v1/')\n",
    "status, msg = ds.auth_login_user(username, password)\n",
    "\n",
    "if not status:\n",
    "    print(msg)\n",
    "else:\n",
    "    print('You are logged in!')"
   ]
  },
  {
   "cell_type": "code",
   "execution_count": 3,
   "metadata": {},
   "outputs": [],
   "source": [
    "def get_formatted_dataframe(xls_file, year):\n",
    "    df = pd.read_excel(xls_file)\n",
    "    df = df[['DZRATING', 'DZCAMPUS','DPETALLC','DA0AT' + str(year) + 'R', 'DA0912DR' + str(year) + 'R','DAGC4X' + str(year) + 'R','DAGC5X' + str(year - 1) + 'R','DA0GR' + str(year) + 'N','DA0CT' + str(year) + 'R','DA0CC' + str(year) + 'R','DA0CSA' + str(year) + 'R','DA0CAA' + str(year) + 'R','DPSTTOSA','DPSTEXPA','DPFRAALLT','DPFRAALLK','DPFRASTAP','DZRVLOCP','DPFRAFEDP','DPFEAINST','DPFEAINSK','DISTSIZE','COMMTYPE', 'PROPWLTH', 'TAXRATE']]\n",
    "    df = df.rename(index=str, columns = {\"DZRATING\":\"rating\", \"DZCAMPUS\":\"num_schools\", \"DPETALLC\":\"num_students\", \"DA0AT\" + str(year) + \"R\":\"attendance_rate\", \"DA0912DR\" + str(year) + \"R\":\"dropout_rate\", \"DAGC4X\" + str(year) + \"R\":\"grad_rate_4_year\", \"DAGC5X\" + str(year - 1) + \"R\":\"grad_rate_5_year\", \"DA0GR\" + str(year) + \"N\":\"annual_grad_count\", \"DA0CT\" + str(year) + \"R\":\"college_admissions_per_tested\", \"DA0CC\" + str(year) + \"R\":\"college_admissions_at_crit\", \"DA0CSA\" + str(year) + \"R\":\"average_sat\", \"DA0CAA\" + str(year) + \"R\":\"average_act\", \"DPSTTOSA\":\"average_teacher_salary\", \"DPSTEXPA\":\"average_teacher_exp\", \"DPFRAALLT\":\"total_revenue\", \"DPFRAALLK\":\"total_revenue_per_pupil\", \"DPFRASTAP\":\"percent_revenue_from_state\", \"DZRVLOCP\":\"percent_revenue_from_local\", \"DPFRAFEDP\":\"percent_revenue_from_federal\", \"DPFEAINST\":\"instr_expenditures\", \"DPFEAINSK\":\"instr_expenditures_per_pupil\", \"DISTSIZE\":\"district_size\", \"COMMTYPE\":\"community_type\", \"PROPWLTH\":\"property_wealth\", \"TAXRATE\":\"tax_rate\"})\n",
    "    return df"
   ]
  },
  {
   "cell_type": "code",
   "execution_count": 4,
   "metadata": {},
   "outputs": [
    {
     "name": "stdout",
     "output_type": "stream",
     "text": [
      "Test dataframe shape: (1190, 25)\n",
      "Train dataframe shape: (3618, 25)\n"
     ]
    },
    {
     "data": {
      "text/html": [
       "<div>\n",
       "<style scoped>\n",
       "    .dataframe tbody tr th:only-of-type {\n",
       "        vertical-align: middle;\n",
       "    }\n",
       "\n",
       "    .dataframe tbody tr th {\n",
       "        vertical-align: top;\n",
       "    }\n",
       "\n",
       "    .dataframe thead th {\n",
       "        text-align: right;\n",
       "    }\n",
       "</style>\n",
       "<table border=\"1\" class=\"dataframe\">\n",
       "  <thead>\n",
       "    <tr style=\"text-align: right;\">\n",
       "      <th></th>\n",
       "      <th>rating</th>\n",
       "      <th>num_schools</th>\n",
       "      <th>num_students</th>\n",
       "      <th>attendance_rate</th>\n",
       "      <th>dropout_rate</th>\n",
       "      <th>grad_rate_4_year</th>\n",
       "      <th>grad_rate_5_year</th>\n",
       "      <th>annual_grad_count</th>\n",
       "      <th>college_admissions_per_tested</th>\n",
       "      <th>college_admissions_at_crit</th>\n",
       "      <th>...</th>\n",
       "      <th>total_revenue_per_pupil</th>\n",
       "      <th>percent_revenue_from_state</th>\n",
       "      <th>percent_revenue_from_local</th>\n",
       "      <th>percent_revenue_from_federal</th>\n",
       "      <th>instr_expenditures</th>\n",
       "      <th>instr_expenditures_per_pupil</th>\n",
       "      <th>district_size</th>\n",
       "      <th>community_type</th>\n",
       "      <th>property_wealth</th>\n",
       "      <th>tax_rate</th>\n",
       "    </tr>\n",
       "  </thead>\n",
       "  <tbody>\n",
       "    <tr>\n",
       "      <th>0</th>\n",
       "      <td>Met Standard</td>\n",
       "      <td>3</td>\n",
       "      <td>568</td>\n",
       "      <td>96</td>\n",
       "      <td>1.4</td>\n",
       "      <td>93.3</td>\n",
       "      <td>89.2</td>\n",
       "      <td>56</td>\n",
       "      <td>66.1</td>\n",
       "      <td>10.8</td>\n",
       "      <td>...</td>\n",
       "      <td>14856</td>\n",
       "      <td>41.2</td>\n",
       "      <td>40.5</td>\n",
       "      <td>18.4</td>\n",
       "      <td>4699444</td>\n",
       "      <td>8145</td>\n",
       "      <td>500 to 999</td>\n",
       "      <td>Rural</td>\n",
       "      <td>$434,690 to &lt; $497,197</td>\n",
       "      <td>Under $1.1461</td>\n",
       "    </tr>\n",
       "    <tr>\n",
       "      <th>1</th>\n",
       "      <td>Met Standard</td>\n",
       "      <td>4</td>\n",
       "      <td>1244</td>\n",
       "      <td>96.5</td>\n",
       "      <td>0</td>\n",
       "      <td>95.8</td>\n",
       "      <td>98.7</td>\n",
       "      <td>73</td>\n",
       "      <td>68.5</td>\n",
       "      <td>16</td>\n",
       "      <td>...</td>\n",
       "      <td>10165</td>\n",
       "      <td>58.6</td>\n",
       "      <td>36.6</td>\n",
       "      <td>4.9</td>\n",
       "      <td>6045264</td>\n",
       "      <td>4967</td>\n",
       "      <td>1,000 to 1,599</td>\n",
       "      <td>Non-metropolitan Stable</td>\n",
       "      <td>$216,001 to &lt; $241,215</td>\n",
       "      <td>$1.2543 to under $1.3801</td>\n",
       "    </tr>\n",
       "    <tr>\n",
       "      <th>2</th>\n",
       "      <td>Met Standard</td>\n",
       "      <td>3</td>\n",
       "      <td>841</td>\n",
       "      <td>95.9</td>\n",
       "      <td>0.4</td>\n",
       "      <td>97.7</td>\n",
       "      <td>100</td>\n",
       "      <td>43</td>\n",
       "      <td>32.6</td>\n",
       "      <td>0</td>\n",
       "      <td>...</td>\n",
       "      <td>11132</td>\n",
       "      <td>47.5</td>\n",
       "      <td>47.3</td>\n",
       "      <td>5.3</td>\n",
       "      <td>3788907</td>\n",
       "      <td>4718</td>\n",
       "      <td>500 to 999</td>\n",
       "      <td>Rural</td>\n",
       "      <td>$319,192 to &lt; $340,879</td>\n",
       "      <td>$1.3801 and over</td>\n",
       "    </tr>\n",
       "    <tr>\n",
       "      <th>3</th>\n",
       "      <td>Met Standard</td>\n",
       "      <td>3</td>\n",
       "      <td>383</td>\n",
       "      <td>95.5</td>\n",
       "      <td>1.6</td>\n",
       "      <td>90.9</td>\n",
       "      <td>97.6</td>\n",
       "      <td>29</td>\n",
       "      <td>34.5</td>\n",
       "      <td>40</td>\n",
       "      <td>...</td>\n",
       "      <td>11421</td>\n",
       "      <td>53.1</td>\n",
       "      <td>41.7</td>\n",
       "      <td>5.3</td>\n",
       "      <td>2067502</td>\n",
       "      <td>5588</td>\n",
       "      <td>Under 500</td>\n",
       "      <td>Rural</td>\n",
       "      <td>$305,220 to &lt; $319,192</td>\n",
       "      <td>$1.2543 to under $1.3801</td>\n",
       "    </tr>\n",
       "    <tr>\n",
       "      <th>4</th>\n",
       "      <td>Met Standard</td>\n",
       "      <td>6</td>\n",
       "      <td>3385</td>\n",
       "      <td>95.8</td>\n",
       "      <td>0.7</td>\n",
       "      <td>87.6</td>\n",
       "      <td>97.8</td>\n",
       "      <td>175</td>\n",
       "      <td>41.7</td>\n",
       "      <td>15.1</td>\n",
       "      <td>...</td>\n",
       "      <td>11450</td>\n",
       "      <td>41.8</td>\n",
       "      <td>44.7</td>\n",
       "      <td>13.5</td>\n",
       "      <td>17594931</td>\n",
       "      <td>5249</td>\n",
       "      <td>3,000 to 4,999</td>\n",
       "      <td>Independent Town</td>\n",
       "      <td>$277,857 to &lt; $305,220</td>\n",
       "      <td>$1.3801 and over</td>\n",
       "    </tr>\n",
       "  </tbody>\n",
       "</table>\n",
       "<p>5 rows × 25 columns</p>\n",
       "</div>"
      ],
      "text/plain": [
       "         rating  num_schools  num_students attendance_rate dropout_rate  \\\n",
       "0  Met Standard            3           568              96          1.4   \n",
       "1  Met Standard            4          1244            96.5            0   \n",
       "2  Met Standard            3           841            95.9          0.4   \n",
       "3  Met Standard            3           383            95.5          1.6   \n",
       "4  Met Standard            6          3385            95.8          0.7   \n",
       "\n",
       "  grad_rate_4_year grad_rate_5_year annual_grad_count  \\\n",
       "0             93.3             89.2                56   \n",
       "1             95.8             98.7                73   \n",
       "2             97.7              100                43   \n",
       "3             90.9             97.6                29   \n",
       "4             87.6             97.8               175   \n",
       "\n",
       "  college_admissions_per_tested college_admissions_at_crit  \\\n",
       "0                          66.1                       10.8   \n",
       "1                          68.5                         16   \n",
       "2                          32.6                          0   \n",
       "3                          34.5                         40   \n",
       "4                          41.7                       15.1   \n",
       "\n",
       "             ...            total_revenue_per_pupil  \\\n",
       "0            ...                              14856   \n",
       "1            ...                              10165   \n",
       "2            ...                              11132   \n",
       "3            ...                              11421   \n",
       "4            ...                              11450   \n",
       "\n",
       "  percent_revenue_from_state percent_revenue_from_local  \\\n",
       "0                       41.2                       40.5   \n",
       "1                       58.6                       36.6   \n",
       "2                       47.5                       47.3   \n",
       "3                       53.1                       41.7   \n",
       "4                       41.8                       44.7   \n",
       "\n",
       "  percent_revenue_from_federal instr_expenditures  \\\n",
       "0                         18.4            4699444   \n",
       "1                          4.9            6045264   \n",
       "2                          5.3            3788907   \n",
       "3                          5.3            2067502   \n",
       "4                         13.5           17594931   \n",
       "\n",
       "  instr_expenditures_per_pupil   district_size           community_type  \\\n",
       "0                         8145      500 to 999                    Rural   \n",
       "1                         4967  1,000 to 1,599  Non-metropolitan Stable   \n",
       "2                         4718      500 to 999                    Rural   \n",
       "3                         5588       Under 500                    Rural   \n",
       "4                         5249  3,000 to 4,999         Independent Town   \n",
       "\n",
       "          property_wealth                  tax_rate  \n",
       "0  $434,690 to < $497,197             Under $1.1461  \n",
       "1  $216,001 to < $241,215  $1.2543 to under $1.3801  \n",
       "2  $319,192 to < $340,879          $1.3801 and over  \n",
       "3  $305,220 to < $319,192  $1.2543 to under $1.3801  \n",
       "4  $277,857 to < $305,220          $1.3801 and over  \n",
       "\n",
       "[5 rows x 25 columns]"
      ]
     },
     "execution_count": 4,
     "metadata": {},
     "output_type": "execute_result"
    }
   ],
   "source": [
    "test_df = get_formatted_dataframe('2016-2017.xls', 16)\n",
    "train_df = get_formatted_dataframe('2015-2016.xls',15)\n",
    "train_df = train_df.append(get_formatted_dataframe('2014-2015.xls',14))\n",
    "train_df = train_df.append(get_formatted_dataframe('2013-2014.xls',13))\n",
    "train_df = train_df.loc[(train_df['rating'] == \"Met Standard\") | (train_df['rating'] == \"Met Alternative Standard\") |(train_df['rating'] == \"Improvement Required\")]\n",
    "test_df = test_df.loc[(test_df['rating'] == \"Met Standard\") | (test_df['rating'] == \"Met Alternative Standard\") |(test_df['rating'] == \"Improvement Required\")]\n",
    "print('Test dataframe shape:', test_df.shape)\n",
    "print('Train dataframe shape:', train_df.shape)\n",
    "train_df.head()"
   ]
  },
  {
   "cell_type": "code",
   "execution_count": 5,
   "metadata": {},
   "outputs": [],
   "source": [
    "# #Dealing with class imbalance\n",
    "# print(\"Before upsampling:\")\n",
    "# print(\"Met Standard:\", train_df.loc[train_df['rating'] == \"Met Standard\"].shape[0])\n",
    "# print(\"Met Alternative Standard:\", train_df.loc[train_df['rating'] == \"Met Alternative Standard\"].shape[0])\n",
    "# print(\"Improvement Required:\", train_df.loc[train_df['rating'] == \"Improvement Required\"].shape[0])\n",
    "# print()\n",
    "\n",
    "# from sklearn.utils import resample\n",
    "# from imblearn.over_sampling import RandomOverSampler\n",
    "# #train_df_majority = train_df[train_df['rating'] == 'Met Standard']\n",
    "# #train_df_minority_improvement = train_df[train_df['rating'] == 'Improvement Required']\n",
    "# #train_df_minority_alternative = resample(train_df_minority_alternative, replace=True, n_samples = 200, random_state=123)\n",
    "# #train_df_minority_improvement = resample(train_df_minority_improvement, replace=True, n_samples = 500, random_state=123)\n",
    "# #train_df_upsampled = pd.concat([train_df_majority, train_df_minority_alternative, train_df_minority_improvement])\n",
    "# #train_df = train_df_upsampled\n",
    "\n",
    "# ad = RandomOverSampler(random_state=12, ratio = 1.0)\n",
    "# train_df_y = train_df[\"rating\"]\n",
    "# train_df_x = train_df.iloc[:,1:21]\n",
    "# x_res, y_res = ad.fit_sample(train_df_x, train_df_y)\n",
    "# print(x_res)\n",
    "# #print(train_df_x)\n",
    "\n",
    "# print(\"After upsampling:\")\n",
    "# print(\"Met Standard:\", train_df.loc[train_df['rating'] == \"Met Standard\"].shape[0])\n",
    "# print(\"Met Alternative Standard:\", train_df.loc[train_df['rating'] == \"Met Alternative Standard\"].shape[0])\n",
    "# print(\"Improvement Required:\", train_df.loc[train_df['rating'] == \"Improvement Required\"].shape[0])\n",
    "# #train_df"
   ]
  },
  {
   "cell_type": "code",
   "execution_count": 6,
   "metadata": {},
   "outputs": [],
   "source": [
    "test_df.to_csv('test_data.csv')\n",
    "train_df.to_csv('train_data.csv')"
   ]
  },
  {
   "cell_type": "code",
   "execution_count": 7,
   "metadata": {},
   "outputs": [],
   "source": [
    "TRAIN_DATASET='train_data.csv'\n",
    "TEST_DATASET = 'test_data.csv'\n",
    "train_df = pd.read_csv('train_data.csv')\n",
    "test_df = pd.read_csv('test_data.csv')\n",
    "status, message = ds.delete_dataset(TRAIN_DATASET)\n",
    "status, dataset = ds.upload_dataset( TRAIN_DATASET)\n",
    "if not status:\n",
    "    print(dataset)"
   ]
  },
  {
   "cell_type": "code",
   "execution_count": 8,
   "metadata": {},
   "outputs": [
    {
     "name": "stdout",
     "output_type": "stream",
     "text": [
      "{'status': 'Requested', 'starttime': '2019-04-20T18:07:24.083002', 'endtime': None, 'percent_complete': 0, 'job_type': 'CleanDataTiny', 'loss': None, 'generations': None, 'dataset_names': ['train_data.csv'], 'artifact_names': ['eaef46cb7c7e421d8ecbdbd84c482719'], 'model_name': None, 'job_error': None}\n",
      "{'status': 'Complete', 'starttime': '2019-04-20T18:07:24.083002', 'endtime': '2019-04-20T18:07:27.549359', 'percent_complete': 100, 'job_type': 'CleanDataTiny', 'loss': None, 'generations': None, 'dataset_names': ['train_data.csv'], 'artifact_names': ['eaef46cb7c7e421d8ecbdbd84c482719'], 'model_name': None, 'job_error': ''}\n"
     ]
    }
   ],
   "source": [
    "#clean train_Set\n",
    "target = \"rating\"\n",
    "status, job_id = ds.clean_data(TRAIN_DATASET, target = target)\n",
    "if status:\n",
    "    ds.wait_for_job(job_id['job_name'])\n",
    "else:\n",
    "    print(job_id)"
   ]
  },
  {
   "cell_type": "code",
   "execution_count": 9,
   "metadata": {},
   "outputs": [
    {
     "name": "stdout",
     "output_type": "stream",
     "text": [
      "(True, {'filename': '/Users/ctjoe/Documents/CS363D/darwin/darwin-sdk/sc_proj/eaef46cb7c7e421d8ecbdbd84c482719-cleaned-e3htjewg.csv'})\n"
     ]
    }
   ],
   "source": [
    "dataset = ds.download_dataset(job_id['artifact_name'], artifact_path='/Users/ctjoe/Documents/CS363D/darwin/darwin-sdk/sc_proj')\n",
    "print(dataset)"
   ]
  },
  {
   "cell_type": "code",
   "execution_count": 10,
   "metadata": {},
   "outputs": [
    {
     "name": "stderr",
     "output_type": "stream",
     "text": [
      "/anaconda3/lib/python3.6/site-packages/imblearn/utils/validation.py:77: UserWarning: 'y' should be of types ('binary', 'multiclass') only. Got unknown instead.\n",
      "  TARGET_KIND, type_of_target(y)))\n",
      "/anaconda3/lib/python3.6/site-packages/sklearn/utils/deprecation.py:77: DeprecationWarning: Function _ratio_float is deprecated; Use a float for 'ratio' is deprecated from version 0.2. The support will be removed in 0.4. Use a dict, str, or a callable instead.\n",
      "  warnings.warn(msg, category=DeprecationWarning)\n"
     ]
    },
    {
     "name": "stdout",
     "output_type": "stream",
     "text": [
      "After oversampling:\n",
      "Improvement Required        3300\n",
      "Met Standard                3300\n",
      "Met Alternative Standard    3300\n",
      "Name: rating, dtype: int64\n"
     ]
    }
   ],
   "source": [
    "clean_train_df = pd.read_csv(dataset[1]['filename'])\n",
    "\n",
    "clean_train_df['rating'] = 'N/A'\n",
    "clean_train_df.loc[clean_train_df['rating$$Met Standard'] == 1.0, 'rating'] = 1.0\n",
    "clean_train_df.loc[clean_train_df['rating$$Met Alternative Standard'] == 1.0, 'rating'] = 2.0\n",
    "clean_train_df.loc[clean_train_df['rating$$Improvement Required'] == 1.0, 'rating'] = 0\n",
    "labels = list(clean_train_df)\n",
    "labels.remove('rating$$Improvement Required')\n",
    "labels.remove('rating$$Met Alternative Standard')\n",
    "labels.remove('rating$$Met Standard')\n",
    "clean_train_df = clean_train_df[labels]\n",
    "labels.remove('rating')\n",
    "\n",
    "from imblearn.over_sampling import SMOTE\n",
    "ad = SMOTE(random_state=12, ratio = 1.0)\n",
    "clean_train_df_y = clean_train_df['rating']\n",
    "clean_train_df_x = clean_train_df.iloc[:,1:50]\n",
    "x_res, y_res = ad.fit_sample(clean_train_df_x, clean_train_df_y)\n",
    "\n",
    "train_df = pd.DataFrame(data=x_res, columns=labels)\n",
    "train_df['rating'] = y_res\n",
    "train_df.loc[train_df['rating'] == 1.0, 'rating'] = 'Met Standard'\n",
    "train_df.loc[train_df['rating'] == 2.0, 'rating'] = 'Met Alternative Standard'\n",
    "train_df.loc[train_df['rating'] == 0.0, 'rating'] = 'Improvement Required'\n",
    "print(\"After oversampling:\")\n",
    "print(train_df['rating'].value_counts())\n"
   ]
  },
  {
   "cell_type": "code",
   "execution_count": 11,
   "metadata": {},
   "outputs": [],
   "source": [
    "train_df.to_csv('upsample_train_data.csv')\n",
    "UPSAMPLE_TRAIN_DATASET = 'upsample_train_data.csv'\n",
    "upsample_train_df = pd.read_csv('upsample_train_data.csv')\n",
    "status, message = ds.delete_dataset(UPSAMPLE_TRAIN_DATASET)\n",
    "status, dataset = ds.upload_dataset( UPSAMPLE_TRAIN_DATASET)\n",
    "if not status:\n",
    "    print(dataset)"
   ]
  },
  {
   "cell_type": "code",
   "execution_count": 12,
   "metadata": {},
   "outputs": [
    {
     "name": "stdout",
     "output_type": "stream",
     "text": [
      "{'status': 'Requested', 'starttime': '2019-04-20T18:07:42.922975', 'endtime': None, 'percent_complete': 0, 'job_type': 'CleanDataTiny', 'loss': None, 'generations': None, 'dataset_names': ['upsample_train_data.csv'], 'artifact_names': ['098115409ff6494b8e6f9ea147d15553'], 'model_name': None, 'job_error': None}\n",
      "{'status': 'Complete', 'starttime': '2019-04-20T18:07:42.922975', 'endtime': '2019-04-20T18:07:48.977168', 'percent_complete': 100, 'job_type': 'CleanDataTiny', 'loss': None, 'generations': None, 'dataset_names': ['upsample_train_data.csv'], 'artifact_names': ['098115409ff6494b8e6f9ea147d15553'], 'model_name': None, 'job_error': ''}\n"
     ]
    }
   ],
   "source": [
    "#clean train_Set\n",
    "target = \"rating\"\n",
    "status, job_id = ds.clean_data(UPSAMPLE_TRAIN_DATASET, target = target)\n",
    "if status:\n",
    "    ds.wait_for_job(job_id['job_name'])\n",
    "else:\n",
    "    print(job_id)"
   ]
  },
  {
   "cell_type": "code",
   "execution_count": 13,
   "metadata": {
    "scrolled": true
   },
   "outputs": [
    {
     "name": "stdout",
     "output_type": "stream",
     "text": [
      "{'status': 'Requested', 'starttime': '2019-04-20T18:07:59.164597', 'endtime': None, 'percent_complete': 0, 'job_type': 'TrainModel', 'loss': None, 'generations': 0, 'dataset_names': ['upsample_train_data.csv'], 'artifact_names': None, 'model_name': 'rating_model0120190420180709', 'job_error': None}\n",
      "{'status': 'Running', 'starttime': '2019-04-20T18:07:59.164597', 'endtime': None, 'percent_complete': 7, 'job_type': 'TrainModel', 'loss': 0.5514952540397644, 'generations': 2, 'dataset_names': ['upsample_train_data.csv'], 'artifact_names': None, 'model_name': 'rating_model0120190420180709', 'job_error': ''}\n",
      "{'status': 'Running', 'starttime': '2019-04-20T18:07:59.164597', 'endtime': None, 'percent_complete': 12, 'job_type': 'TrainModel', 'loss': 0.5514952540397644, 'generations': 3, 'dataset_names': ['upsample_train_data.csv'], 'artifact_names': None, 'model_name': 'rating_model0120190420180709', 'job_error': ''}\n",
      "{'status': 'Running', 'starttime': '2019-04-20T18:07:59.164597', 'endtime': None, 'percent_complete': 12, 'job_type': 'TrainModel', 'loss': 0.5514952540397644, 'generations': 3, 'dataset_names': ['upsample_train_data.csv'], 'artifact_names': None, 'model_name': 'rating_model0120190420180709', 'job_error': ''}\n",
      "{'status': 'Running', 'starttime': '2019-04-20T18:07:59.164597', 'endtime': None, 'percent_complete': 12, 'job_type': 'TrainModel', 'loss': 0.5514952540397644, 'generations': 3, 'dataset_names': ['upsample_train_data.csv'], 'artifact_names': None, 'model_name': 'rating_model0120190420180709', 'job_error': ''}\n",
      "{'status': 'Running', 'starttime': '2019-04-20T18:07:59.164597', 'endtime': None, 'percent_complete': 12, 'job_type': 'TrainModel', 'loss': 0.5514952540397644, 'generations': 3, 'dataset_names': ['upsample_train_data.csv'], 'artifact_names': None, 'model_name': 'rating_model0120190420180709', 'job_error': ''}\n",
      "{'status': 'Running', 'starttime': '2019-04-20T18:07:59.164597', 'endtime': None, 'percent_complete': 12, 'job_type': 'TrainModel', 'loss': 0.5514952540397644, 'generations': 3, 'dataset_names': ['upsample_train_data.csv'], 'artifact_names': None, 'model_name': 'rating_model0120190420180709', 'job_error': ''}\n",
      "{'status': 'Running', 'starttime': '2019-04-20T18:07:59.164597', 'endtime': None, 'percent_complete': 12, 'job_type': 'TrainModel', 'loss': 0.5514952540397644, 'generations': 3, 'dataset_names': ['upsample_train_data.csv'], 'artifact_names': None, 'model_name': 'rating_model0120190420180709', 'job_error': ''}\n",
      "{'status': 'Running', 'starttime': '2019-04-20T18:07:59.164597', 'endtime': None, 'percent_complete': 12, 'job_type': 'TrainModel', 'loss': 0.5514952540397644, 'generations': 3, 'dataset_names': ['upsample_train_data.csv'], 'artifact_names': None, 'model_name': 'rating_model0120190420180709', 'job_error': ''}\n",
      "{'status': 'Complete', 'starttime': '2019-04-20T18:07:59.164597', 'endtime': '2019-04-20T18:10:05.322974', 'percent_complete': 100, 'job_type': 'TrainModel', 'loss': 0.5514952540397644, 'generations': 3, 'dataset_names': ['upsample_train_data.csv'], 'artifact_names': None, 'model_name': 'rating_model0120190420180709', 'job_error': ''}\n"
     ]
    }
   ],
   "source": [
    "model = target + \"_model01\" + ts\n",
    "status, job_id = ds.create_model(dataset_names = UPSAMPLE_TRAIN_DATASET, \\\n",
    "                                 model_name =  model, \\\n",
    "                                 max_train_time = '00:02')\n",
    "if status:\n",
    "    ds.wait_for_job(job_id['job_name'])\n",
    "else:\n",
    "    print(job_id)"
   ]
  },
  {
   "cell_type": "code",
   "execution_count": 14,
   "metadata": {},
   "outputs": [
    {
     "name": "stdout",
     "output_type": "stream",
     "text": [
      "{'status': 'Running', 'starttime': '2019-04-20T18:10:15.937045', 'endtime': None, 'percent_complete': 0, 'job_type': 'AnalyzeModel', 'loss': 0.5514952540397644, 'generations': 3, 'dataset_names': None, 'artifact_names': ['26bc40c0be8742848c7d4c78b30864dd'], 'model_name': 'rating_model0120190420180709', 'job_error': ''}\n",
      "{'status': 'Complete', 'starttime': '2019-04-20T18:10:15.937045', 'endtime': '2019-04-20T18:10:17.360452', 'percent_complete': 100, 'job_type': 'AnalyzeModel', 'loss': 0.5514952540397644, 'generations': 3, 'dataset_names': None, 'artifact_names': ['26bc40c0be8742848c7d4c78b30864dd'], 'model_name': 'rating_model0120190420180709', 'job_error': ''}\n"
     ]
    }
   ],
   "source": [
    "# Retrieve feature importance of built model\n",
    "status, artifact = ds.analyze_model(model)\n",
    "sleep(1)\n",
    "if status:\n",
    "    ds.wait_for_job(artifact['job_name'])\n",
    "else:\n",
    "    print(artifact)\n",
    "status, feature_importance = ds.download_artifact(artifact['artifact_name'])\n"
   ]
  },
  {
   "cell_type": "code",
   "execution_count": 15,
   "metadata": {},
   "outputs": [
    {
     "data": {
      "text/plain": [
       "Unnamed: 0                        0.339206\n",
       "tax_rate = Under $1.1461 = 1.0    0.178195\n",
       "tax_rate = Under $1.1461 = 2.0    0.135927\n",
       "num_students                      0.062221\n",
       "average_sat                       0.033918\n",
       "tax_rate = $1.3801 and over       0.032301\n",
       "annual_grad_count                 0.031804\n",
       "total_revenue_per_pupil           0.026496\n",
       "percent_revenue_from_state        0.021441\n",
       "average_teacher_salary            0.015740\n",
       "dtype: float64"
      ]
     },
     "execution_count": 15,
     "metadata": {},
     "output_type": "execute_result"
    }
   ],
   "source": [
    "feature_importance[:10]"
   ]
  },
  {
   "cell_type": "code",
   "execution_count": 16,
   "metadata": {},
   "outputs": [
    {
     "name": "stdout",
     "output_type": "stream",
     "text": [
      "{'status': 'Running', 'starttime': '2019-04-20T18:10:33.50678', 'endtime': None, 'percent_complete': 0, 'job_type': 'RunModel', 'loss': 0.5514952540397644, 'generations': 3, 'dataset_names': ['upsample_train_data.csv'], 'artifact_names': ['1565fe8b58e6488484b9a80465e30710'], 'model_name': 'rating_model0120190420180709', 'job_error': ''}\n",
      "{'status': 'Complete', 'starttime': '2019-04-20T18:10:33.50678', 'endtime': '2019-04-20T18:10:34.678952', 'percent_complete': 100, 'job_type': 'RunModel', 'loss': 0.5514952540397644, 'generations': 3, 'dataset_names': ['upsample_train_data.csv'], 'artifact_names': ['1565fe8b58e6488484b9a80465e30710'], 'model_name': 'rating_model0120190420180709', 'job_error': ''}\n"
     ]
    },
    {
     "data": {
      "text/plain": [
       "(True, 'Job completed')"
      ]
     },
     "execution_count": 16,
     "metadata": {},
     "output_type": "execute_result"
    }
   ],
   "source": [
    "status, artifact = ds.run_model(UPSAMPLE_TRAIN_DATASET, model)\n",
    "sleep(1)\n",
    "ds.wait_for_job(artifact['job_name'])"
   ]
  },
  {
   "cell_type": "code",
   "execution_count": 17,
   "metadata": {},
   "outputs": [
    {
     "data": {
      "text/html": [
       "<div>\n",
       "<style scoped>\n",
       "    .dataframe tbody tr th:only-of-type {\n",
       "        vertical-align: middle;\n",
       "    }\n",
       "\n",
       "    .dataframe tbody tr th {\n",
       "        vertical-align: top;\n",
       "    }\n",
       "\n",
       "    .dataframe thead th {\n",
       "        text-align: right;\n",
       "    }\n",
       "</style>\n",
       "<table border=\"1\" class=\"dataframe\">\n",
       "  <thead>\n",
       "    <tr style=\"text-align: right;\">\n",
       "      <th></th>\n",
       "      <th>prob_Improvement Required</th>\n",
       "      <th>prob_Met Alternative Standard</th>\n",
       "      <th>prob_Met Standard</th>\n",
       "      <th>rating</th>\n",
       "    </tr>\n",
       "  </thead>\n",
       "  <tbody>\n",
       "    <tr>\n",
       "      <th>0</th>\n",
       "      <td>0.000020</td>\n",
       "      <td>8.526000e-07</td>\n",
       "      <td>0.999979</td>\n",
       "      <td>Met Standard</td>\n",
       "    </tr>\n",
       "    <tr>\n",
       "      <th>1</th>\n",
       "      <td>0.000008</td>\n",
       "      <td>1.827000e-07</td>\n",
       "      <td>0.999991</td>\n",
       "      <td>Met Standard</td>\n",
       "    </tr>\n",
       "    <tr>\n",
       "      <th>2</th>\n",
       "      <td>0.000041</td>\n",
       "      <td>5.563000e-07</td>\n",
       "      <td>0.999958</td>\n",
       "      <td>Met Standard</td>\n",
       "    </tr>\n",
       "    <tr>\n",
       "      <th>3</th>\n",
       "      <td>0.000019</td>\n",
       "      <td>6.173000e-07</td>\n",
       "      <td>0.999981</td>\n",
       "      <td>Met Standard</td>\n",
       "    </tr>\n",
       "    <tr>\n",
       "      <th>4</th>\n",
       "      <td>0.000008</td>\n",
       "      <td>1.142100e-06</td>\n",
       "      <td>0.999991</td>\n",
       "      <td>Met Standard</td>\n",
       "    </tr>\n",
       "  </tbody>\n",
       "</table>\n",
       "</div>"
      ],
      "text/plain": [
       "   prob_Improvement Required  prob_Met Alternative Standard  \\\n",
       "0                   0.000020                   8.526000e-07   \n",
       "1                   0.000008                   1.827000e-07   \n",
       "2                   0.000041                   5.563000e-07   \n",
       "3                   0.000019                   6.173000e-07   \n",
       "4                   0.000008                   1.142100e-06   \n",
       "\n",
       "   prob_Met Standard        rating  \n",
       "0           0.999979  Met Standard  \n",
       "1           0.999991  Met Standard  \n",
       "2           0.999958  Met Standard  \n",
       "3           0.999981  Met Standard  \n",
       "4           0.999991  Met Standard  "
      ]
     },
     "execution_count": 17,
     "metadata": {},
     "output_type": "execute_result"
    }
   ],
   "source": [
    "status, prediction = ds.download_artifact(artifact['artifact_name'])\n",
    "prediction.head()"
   ]
  },
  {
   "cell_type": "code",
   "execution_count": 18,
   "metadata": {},
   "outputs": [
    {
     "name": "stdout",
     "output_type": "stream",
     "text": [
      "                          precision    recall  f1-score   support\n",
      "\n",
      "    Improvement Required       1.00      1.00      1.00      3300\n",
      "Met Alternative Standard       1.00      1.00      1.00      3300\n",
      "            Met Standard       1.00      1.00      1.00      3300\n",
      "\n",
      "             avg / total       1.00      1.00      1.00      9900\n",
      "\n"
     ]
    },
    {
     "data": {
      "image/png": "[encoded data removed]",
      "text/plain": [
       "<Figure size 432x288 with 1 Axes>"
      ]
     },
     "metadata": {},
     "output_type": "display_data"
    }
   ],
   "source": [
    "unq = prediction[target].unique()[::-1]\n",
    "p = np.zeros((len(prediction),))\n",
    "a = np.zeros((len(prediction),))\n",
    "for i,q in enumerate(unq):\n",
    "    p += i*(prediction[target] == q).values\n",
    "    a += i*(upsample_train_df[target] == q).values\n",
    "#Plot predictions vs actual\n",
    "plt.plot(a)\n",
    "plt.plot(p)\n",
    "plt.legend(['Actual','Predicted'])\n",
    "plt.yticks([i for i in range(len(unq))],[q for q in unq]);\n",
    "print(classification_report(upsample_train_df[target], prediction[target]))"
   ]
  },
  {
   "cell_type": "code",
   "execution_count": 19,
   "metadata": {},
   "outputs": [],
   "source": [
    "#TEST DATASET\n",
    "status, message = ds.delete_dataset(TEST_DATASET)\n",
    "status, dataset = ds.upload_dataset( TEST_DATASET)\n",
    "if not status:\n",
    "    print(dataset)"
   ]
  },
  {
   "cell_type": "code",
   "execution_count": 20,
   "metadata": {},
   "outputs": [
    {
     "name": "stdout",
     "output_type": "stream",
     "text": [
      "{'status': 'Requested', 'starttime': '2019-04-20T18:10:52.257838', 'endtime': None, 'percent_complete': 0, 'job_type': 'CleanDataTiny', 'loss': None, 'generations': None, 'dataset_names': ['test_data.csv'], 'artifact_names': ['912426c1773648bd95377eb6b8866d33'], 'model_name': None, 'job_error': None}\n",
      "{'status': 'Complete', 'starttime': '2019-04-20T18:10:52.257838', 'endtime': '2019-04-20T18:10:55.083903', 'percent_complete': 100, 'job_type': 'CleanDataTiny', 'loss': None, 'generations': None, 'dataset_names': ['test_data.csv'], 'artifact_names': ['912426c1773648bd95377eb6b8866d33'], 'model_name': None, 'job_error': ''}\n"
     ]
    }
   ],
   "source": [
    "status, job_id = ds.clean_data(TEST_DATASET, target = target)\n",
    "if status:\n",
    "    ds.wait_for_job(job_id['job_name'])\n",
    "else:\n",
    "    print(job_id)"
   ]
  },
  {
   "cell_type": "code",
   "execution_count": 21,
   "metadata": {},
   "outputs": [
    {
     "name": "stdout",
     "output_type": "stream",
     "text": [
      "(True, {'filename': '/Users/ctjoe/Documents/CS363D/darwin/darwin-sdk/sc_proj/912426c1773648bd95377eb6b8866d33-cleaned-egfnkcgp.csv'})\n"
     ]
    }
   ],
   "source": [
    "dataset = ds.download_dataset(job_id['artifact_name'], artifact_path='/Users/ctjoe/Documents/CS363D/darwin/darwin-sdk/sc_proj')\n",
    "print(dataset)"
   ]
  },
  {
   "cell_type": "code",
   "execution_count": 22,
   "metadata": {},
   "outputs": [],
   "source": [
    "clean_test_df = pd.read_csv(dataset[1]['filename'])\n",
    "clean_test_df['rating'] = 'N/A'\n",
    "clean_test_df.loc[clean_test_df['rating$$Met Standard'] == 1.0, 'rating'] = 1.0\n",
    "clean_test_df.loc[clean_test_df['rating$$Met Alternative Standard'] == 1.0, 'rating'] = 2.0\n",
    "clean_test_df.loc[clean_test_df['rating$$Improvement Required'] == 1.0, 'rating'] = 0\n",
    "labels = list(clean_test_df)\n",
    "labels.remove('rating$$Improvement Required')\n",
    "labels.remove('rating$$Met Alternative Standard')\n",
    "labels.remove('rating$$Met Standard')\n",
    "clean_test_df = clean_test_df[labels]\n",
    "labels.remove('rating')\n",
    "clean_test_df.loc[clean_test_df['rating'] == 1.0, 'rating'] = 'Met Standard'\n",
    "clean_test_df.loc[clean_test_df['rating'] == 2.0, 'rating'] = 'Met Alternative Standard'\n",
    "clean_test_df.loc[clean_test_df['rating'] == 0.0, 'rating'] = 'Improvement Required'\n"
   ]
  },
  {
   "cell_type": "code",
   "execution_count": 23,
   "metadata": {},
   "outputs": [],
   "source": [
    "clean_test_df.to_csv('modified_test_data.csv')\n",
    "MODIFIED_TEST_DATASET = 'modified_test_data.csv'\n",
    "modified_test_df = pd.read_csv('modified_test_data.csv')\n",
    "status, message = ds.delete_dataset(MODIFIED_TEST_DATASET)\n",
    "status, dataset = ds.upload_dataset(MODIFIED_TEST_DATASET)\n",
    "if not status:\n",
    "    print(dataset)"
   ]
  },
  {
   "cell_type": "code",
   "execution_count": 24,
   "metadata": {},
   "outputs": [
    {
     "name": "stdout",
     "output_type": "stream",
     "text": [
      "{'status': 'Requested', 'starttime': '2019-04-20T18:11:09.671429', 'endtime': None, 'percent_complete': 0, 'job_type': 'CleanDataTiny', 'loss': None, 'generations': None, 'dataset_names': ['modified_test_data.csv'], 'artifact_names': ['3e4fd15d7afc4207be3d0de617debddf'], 'model_name': None, 'job_error': None}\n",
      "{'status': 'Failed', 'starttime': '2019-04-20T18:11:09.671429', 'endtime': '2019-04-20T18:11:10.110528', 'percent_complete': 100, 'job_type': 'CleanDataTiny', 'loss': None, 'generations': None, 'dataset_names': ['modified_test_data.csv'], 'artifact_names': ['3e4fd15d7afc4207be3d0de617debddf'], 'model_name': None, 'job_error': \"ColumnHeaderMismatch: Dataset missing column(s) : {'tax_rate$$$1.2543 to under $1.3801', 'tax_rate$$$1.3690 and over', 'tax_rate$$$1.3801 and over', 'tax_rate$$$1.3593 and over', 'tax_rate$$$1.2365 to under $1.3593', 'tax_rate$$$1.1398 to under $1.2401', 'tax_rate$$$1.2401 to under $1.3690', 'tax_rate$$Under $1.1251', 'tax_rate$$Under $1.1398', 'tax_rate$$$1.1461 to under $1.2543', 'tax_rate$$Under $1.1461'}\"}\n"
     ]
    }
   ],
   "source": [
    "\n",
    "status, job_id = ds.clean_data(MODIFIED_TEST_DATASET, target = target, model_name = model)\n",
    "if status:\n",
    "    ds.wait_for_job(job_id['job_name'])\n",
    "else:\n",
    "    print(job_id)"
   ]
  },
  {
   "cell_type": "code",
   "execution_count": 25,
   "metadata": {},
   "outputs": [
    {
     "name": "stdout",
     "output_type": "stream",
     "text": [
      "{'status': 'Running', 'starttime': '2019-04-20T18:11:25.896529', 'endtime': None, 'percent_complete': 0, 'job_type': 'RunModel', 'loss': 0.5514952540397644, 'generations': 3, 'dataset_names': ['modified_test_data.csv'], 'artifact_names': ['02290a1a795f45e788e514364d507043'], 'model_name': 'rating_model0120190420180709', 'job_error': ''}\n",
      "{'status': 'Running', 'starttime': '2019-04-20T18:11:25.896529', 'endtime': None, 'percent_complete': 0, 'job_type': 'RunModel', 'loss': 0.5514952540397644, 'generations': 3, 'dataset_names': ['modified_test_data.csv'], 'artifact_names': ['02290a1a795f45e788e514364d507043'], 'model_name': 'rating_model0120190420180709', 'job_error': ''}\n",
      "{'status': 'Failed', 'starttime': '2019-04-20T18:11:25.896529', 'endtime': '2019-04-20T18:11:42.29161', 'percent_complete': 100, 'job_type': 'RunModel', 'loss': 0.5514952540397644, 'generations': 3, 'dataset_names': ['modified_test_data.csv'], 'artifact_names': ['02290a1a795f45e788e514364d507043'], 'model_name': 'rating_model0120190420180709', 'job_error': 'FailedDownload: Failed to download entity of type Object from location artifacts/f08afcf0-4f34-11e9-ba76-8373fa49bc19_3e4fd15d7afc4207be3d0de617debddf/data.csv'}\n"
     ]
    },
    {
     "data": {
      "text/plain": [
       "(False,\n",
       " {'status': 'Failed',\n",
       "  'starttime': '2019-04-20T18:11:25.896529',\n",
       "  'endtime': '2019-04-20T18:11:42.29161',\n",
       "  'percent_complete': 100,\n",
       "  'job_type': 'RunModel',\n",
       "  'loss': 0.5514952540397644,\n",
       "  'generations': 3,\n",
       "  'dataset_names': ['modified_test_data.csv'],\n",
       "  'artifact_names': ['02290a1a795f45e788e514364d507043'],\n",
       "  'model_name': 'rating_model0120190420180709',\n",
       "  'job_error': 'FailedDownload: Failed to download entity of type Object from location artifacts/f08afcf0-4f34-11e9-ba76-8373fa49bc19_3e4fd15d7afc4207be3d0de617debddf/data.csv'})"
      ]
     },
     "execution_count": 25,
     "metadata": {},
     "output_type": "execute_result"
    }
   ],
   "source": [
    "status, artifact = ds.run_model(MODIFIED_TEST_DATASET, model)\n",
    "sleep(1)\n",
    "ds.wait_for_job(artifact['job_name'])"
   ]
  },
  {
   "cell_type": "code",
   "execution_count": 26,
   "metadata": {},
   "outputs": [
    {
     "ename": "TypeError",
     "evalue": "string indices must be integers",
     "output_type": "error",
     "traceback": [
      "\u001b[0;31m---------------------------------------------------------------------------\u001b[0m",
      "\u001b[0;31mTypeError\u001b[0m                                 Traceback (most recent call last)",
      "\u001b[0;32m<ipython-input-26-e342f2118a2a>\u001b[0m in \u001b[0;36m<module>\u001b[0;34m()\u001b[0m\n\u001b[1;32m      2\u001b[0m \u001b[0mstatus\u001b[0m\u001b[0;34m,\u001b[0m \u001b[0mprediction\u001b[0m \u001b[0;34m=\u001b[0m \u001b[0mds\u001b[0m\u001b[0;34m.\u001b[0m\u001b[0mdownload_artifact\u001b[0m\u001b[0;34m(\u001b[0m\u001b[0martifact\u001b[0m\u001b[0;34m[\u001b[0m\u001b[0;34m'artifact_name'\u001b[0m\u001b[0;34m]\u001b[0m\u001b[0;34m)\u001b[0m\u001b[0;34m\u001b[0m\u001b[0m\n\u001b[1;32m      3\u001b[0m \u001b[0mdf\u001b[0m \u001b[0;34m=\u001b[0m \u001b[0mpd\u001b[0m\u001b[0;34m.\u001b[0m\u001b[0mread_csv\u001b[0m\u001b[0;34m(\u001b[0m\u001b[0mMODIFIED_TEST_DATASET\u001b[0m\u001b[0;34m)\u001b[0m\u001b[0;34m\u001b[0m\u001b[0m\n\u001b[0;32m----> 4\u001b[0;31m \u001b[0munq\u001b[0m \u001b[0;34m=\u001b[0m \u001b[0mprediction\u001b[0m\u001b[0;34m[\u001b[0m\u001b[0mtarget\u001b[0m\u001b[0;34m]\u001b[0m\u001b[0;34m.\u001b[0m\u001b[0munique\u001b[0m\u001b[0;34m(\u001b[0m\u001b[0;34m)\u001b[0m\u001b[0;34m[\u001b[0m\u001b[0;34m:\u001b[0m\u001b[0;34m:\u001b[0m\u001b[0;34m-\u001b[0m\u001b[0;36m1\u001b[0m\u001b[0;34m]\u001b[0m\u001b[0;34m\u001b[0m\u001b[0m\n\u001b[0m\u001b[1;32m      5\u001b[0m \u001b[0mp\u001b[0m \u001b[0;34m=\u001b[0m \u001b[0mnp\u001b[0m\u001b[0;34m.\u001b[0m\u001b[0mzeros\u001b[0m\u001b[0;34m(\u001b[0m\u001b[0;34m(\u001b[0m\u001b[0mlen\u001b[0m\u001b[0;34m(\u001b[0m\u001b[0mprediction\u001b[0m\u001b[0;34m)\u001b[0m\u001b[0;34m,\u001b[0m\u001b[0;34m)\u001b[0m\u001b[0;34m)\u001b[0m\u001b[0;34m\u001b[0m\u001b[0m\n\u001b[1;32m      6\u001b[0m \u001b[0ma\u001b[0m \u001b[0;34m=\u001b[0m \u001b[0mnp\u001b[0m\u001b[0;34m.\u001b[0m\u001b[0mzeros\u001b[0m\u001b[0;34m(\u001b[0m\u001b[0;34m(\u001b[0m\u001b[0mlen\u001b[0m\u001b[0;34m(\u001b[0m\u001b[0mprediction\u001b[0m\u001b[0;34m)\u001b[0m\u001b[0;34m,\u001b[0m\u001b[0;34m)\u001b[0m\u001b[0;34m)\u001b[0m\u001b[0;34m\u001b[0m\u001b[0m\n",
      "\u001b[0;31mTypeError\u001b[0m: string indices must be integers"
     ]
    }
   ],
   "source": [
    "# Create plots comparing predictions with actual target\n",
    "status, prediction = ds.download_artifact(artifact['artifact_name'])\n",
    "df = pd.read_csv(MODIFIED_TEST_DATASET)\n",
    "unq = prediction[target].unique()[::-1]\n",
    "p = np.zeros((len(prediction),))\n",
    "a = np.zeros((len(prediction),))\n",
    "for i,q in enumerate(unq):\n",
    "    p += i*(prediction[target] == q).values\n",
    "    a += i*(df[target] == q).values\n",
    "#Plot predictions vs actual\n",
    "plt.plot(a)\n",
    "plt.plot(p)\n",
    "plt.legend(['Actual','Predicted'])\n",
    "plt.yticks([i for i in range(len(unq))],[q for q in unq]);\n",
    "print(classification_report(df[target], prediction[target]))"
   ]
  },
  {
   "cell_type": "code",
   "execution_count": null,
   "metadata": {},
   "outputs": [],
   "source": []
  },
  {
   "cell_type": "code",
   "execution_count": null,
   "metadata": {},
   "outputs": [],
   "source": []
  }
 ],
 "metadata": {
  "kernelspec": {
   "display_name": "Python 3",
   "language": "python",
   "name": "python3"
  },
  "language_info": {
   "codemirror_mode": {
    "name": "ipython",
    "version": 3
   },
   "file_extension": ".py",
   "mimetype": "text/x-python",
   "name": "python",
   "nbconvert_exporter": "python",
   "pygments_lexer": "ipython3",
   "version": "3.6.5"
  }
 },
 "nbformat": 4,
 "nbformat_minor": 2
}
